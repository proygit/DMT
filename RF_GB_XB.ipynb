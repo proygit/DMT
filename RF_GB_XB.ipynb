{
  "nbformat": 4,
  "nbformat_minor": 0,
  "metadata": {
    "colab": {
      "provenance": [],
      "collapsed_sections": [
        "diuVLYK4azfp"
      ],
      "authorship_tag": "ABX9TyNB/QFQDmfztaT6SLvbEXGV",
      "include_colab_link": true
    },
    "kernelspec": {
      "name": "python3",
      "display_name": "Python 3"
    },
    "language_info": {
      "name": "python"
    }
  },
  "cells": [
    {
      "cell_type": "markdown",
      "metadata": {
        "id": "view-in-github",
        "colab_type": "text"
      },
      "source": [
        "<a href=\"https://colab.research.google.com/github/proygit/DMT/blob/main/RF_GB_XB.ipynb\" target=\"_parent\"><img src=\"https://colab.research.google.com/assets/colab-badge.svg\" alt=\"Open In Colab\"/></a>"
      ]
    },
    {
      "cell_type": "markdown",
      "source": [
        "#Import all libraries"
      ],
      "metadata": {
        "id": "diuVLYK4azfp"
      }
    },
    {
      "cell_type": "code",
      "execution_count": 1,
      "metadata": {
        "id": "sWOnIUO9addB"
      },
      "outputs": [],
      "source": [
        "import pandas as pd\n",
        "import os\n",
        "import numpy as np\n",
        "from sklearn.model_selection import KFold\n",
        "from sklearn.linear_model import LogisticRegression\n",
        "from sklearn.preprocessing import StandardScaler\n",
        "import seaborn as sns\n",
        "import matplotlib.pyplot as plt\n",
        "from sklearn.ensemble import RandomForestClassifier\n",
        "from sklearn.model_selection import train_test_split\n",
        "from sklearn.metrics import accuracy_score\n",
        "from sklearn.ensemble import RandomForestClassifier\n",
        "from sklearn.model_selection import KFold\n",
        "from sklearn.preprocessing import StandardScaler\n",
        "import sqlite3\n",
        "import xgboost as xgb\n",
        "from sklearn.metrics import ndcg_score\n",
        "from sklearn.model_selection import train_test_split\n",
        "from sklearn.preprocessing import label_binarize\n",
        "from sklearn.ensemble import RandomForestRegressor\n",
        "from sklearn.impute import SimpleImputer\n",
        "from sklearn.pipeline import make_pipeline\n",
        "from sklearn.model_selection import cross_val_score\n",
        "from sklearn.metrics import make_scorer\n",
        "from sklearn.pipeline import make_pipeline\n",
        "from sklearn.impute import SimpleImputer\n",
        "from sklearn.metrics import ndcg_score\n",
        "from sklearn.model_selection import cross_val_score\n",
        "from sklearn.model_selection import KFold\n",
        "from sklearn.preprocessing import LabelEncoder\n",
        "from sklearn.preprocessing import LabelBinarizer\n"
      ]
    },
    {
      "cell_type": "markdown",
      "source": [
        "#Mount Drive"
      ],
      "metadata": {
        "id": "RPjOY_vacoIs"
      }
    },
    {
      "cell_type": "code",
      "source": [
        "from google.colab import drive\n",
        "drive.mount('/content/drive')\n"
      ],
      "metadata": {
        "colab": {
          "base_uri": "https://localhost:8080/"
        },
        "id": "qhaRUoEvcrVM",
        "outputId": "31bdd30f-d9ab-4cee-e45a-019afa76ddd1"
      },
      "execution_count": 2,
      "outputs": [
        {
          "output_type": "stream",
          "name": "stdout",
          "text": [
            "Mounted at /content/drive\n"
          ]
        }
      ]
    },
    {
      "cell_type": "code",
      "source": [
        "# Change the working directory to the desired folder\n",
        "os.chdir('/content/drive/MyDrive/DMT/data')\n",
        "\n",
        "# List the contents of the current working directory\n",
        "contents = os.listdir()\n",
        "\n",
        "# Print the contents\n",
        "print(contents)\n",
        "data_path = \"/content/drive/My Drive/DMT/data/\""
      ],
      "metadata": {
        "colab": {
          "base_uri": "https://localhost:8080/"
        },
        "id": "-PIPT0z5fdeg",
        "outputId": "b3cf8c42-cc78-4d94-89b0-d679957ab8ce"
      },
      "execution_count": 3,
      "outputs": [
        {
          "output_type": "stream",
          "name": "stdout",
          "text": [
            "['submission_sample.csv', 'test.csv', 'train.csv', 'train.db', 'df_train.db', 'expedia.csv']\n"
          ]
        }
      ]
    },
    {
      "cell_type": "code",
      "source": [
        "# Load the necessary libraries\n",
        "import pandas as pd\n",
        "from sklearn.ensemble import RandomForestRegressor, GradientBoostingRegressor\n",
        "from xgboost import XGBRegressor\n",
        "from sklearn.metrics import ndcg_score\n",
        "from sklearn.preprocessing import KBinsDiscretizer\n",
        "from sklearn.preprocessing import MultiLabelBinarizer\n",
        "\n",
        "\n"
      ],
      "metadata": {
        "id": "NifNc_OfLmkG"
      },
      "execution_count": 4,
      "outputs": []
    },
    {
      "cell_type": "markdown",
      "source": [
        "#Trying different models on train and test sets"
      ],
      "metadata": {
        "id": "VdMr6jFLfl8f"
      }
    },
    {
      "cell_type": "code",
      "source": [
        "\n",
        "df_train_ex = pd.read_csv(data_path + \"train.csv\",nrows=10000)"
      ],
      "metadata": {
        "id": "71Hq67lyfrLK"
      },
      "execution_count": 5,
      "outputs": []
    },
    {
      "cell_type": "code",
      "source": [
        "df_train_ex.shape"
      ],
      "metadata": {
        "colab": {
          "base_uri": "https://localhost:8080/"
        },
        "id": "8uxSVQgeh5Hd",
        "outputId": "24b8a3bc-c952-4fb2-b8ac-06a569e9dd31"
      },
      "execution_count": 6,
      "outputs": [
        {
          "output_type": "execute_result",
          "data": {
            "text/plain": [
              "(10000, 54)"
            ]
          },
          "metadata": {},
          "execution_count": 6
        }
      ]
    },
    {
      "cell_type": "code",
      "source": [
        "\n",
        "df_test_ex = pd.read_csv(data_path + \"test.csv\",nrows=10000)"
      ],
      "metadata": {
        "id": "gcqu_ad0hHFy"
      },
      "execution_count": 7,
      "outputs": []
    },
    {
      "cell_type": "code",
      "source": [
        "df_test_ex.shape"
      ],
      "metadata": {
        "colab": {
          "base_uri": "https://localhost:8080/"
        },
        "id": "dCeVtg5rh_rj",
        "outputId": "a72386ab-1c07-46ac-bf81-11000e02df0f"
      },
      "execution_count": 8,
      "outputs": [
        {
          "output_type": "execute_result",
          "data": {
            "text/plain": [
              "(10000, 50)"
            ]
          },
          "metadata": {},
          "execution_count": 8
        }
      ]
    },
    {
      "cell_type": "code",
      "source": [
        "from sklearn.impute import SimpleImputer\n",
        "\n",
        "# Define the columns to impute\n",
        "cols_to_impute_train = ['srch_id', 'visitor_location_country_id', 'visitor_hist_starrating',\n",
        "       'visitor_hist_adr_usd', 'prop_country_id', 'prop_id', 'prop_starrating',\n",
        "       'prop_review_score', 'prop_brand_bool', 'prop_location_score1',\n",
        "       'prop_location_score2', 'prop_log_historical_price', 'position',\n",
        "       'price_usd', 'promotion_flag', 'srch_destination_id',\n",
        "       'srch_length_of_stay', 'srch_booking_window', 'srch_adults_count',\n",
        "       'srch_children_count', 'srch_room_count', 'srch_saturday_night_bool',\n",
        "       'srch_query_affinity_score', 'orig_destination_distance', 'random_bool',\n",
        "       'comp1_rate', 'comp1_inv', 'comp1_rate_percent_diff', 'comp2_rate',\n",
        "       'comp2_inv', 'comp2_rate_percent_diff', 'comp3_rate', 'comp3_inv',\n",
        "       'comp3_rate_percent_diff', 'comp4_rate', 'comp4_inv',\n",
        "       'comp4_rate_percent_diff', 'comp5_rate', 'comp5_inv',\n",
        "       'comp5_rate_percent_diff', 'comp6_rate', 'comp6_inv',\n",
        "       'comp6_rate_percent_diff', 'comp7_rate', 'comp7_inv',\n",
        "       'comp7_rate_percent_diff', 'comp8_rate', 'comp8_inv',\n",
        "       'comp8_rate_percent_diff', 'click_bool', 'gross_bookings_usd',\n",
        "       'booking_bool',]\n",
        "\n",
        "# Define the imputer\n",
        "imputer = SimpleImputer(strategy='mean')\n",
        "\n"
      ],
      "metadata": {
        "id": "lc3MUiUcguYD"
      },
      "execution_count": 9,
      "outputs": []
    },
    {
      "cell_type": "code",
      "source": [
        "# Define the columns to impute\n",
        "cols_to_impute_test = ['srch_id','visitor_hist_starrating', 'visitor_hist_adr_usd', 'prop_review_score','prop_location_score2','srch_query_affinity_score','orig_destination_distance','comp1_inv',\n",
        "       'comp1_rate_percent_diff', 'comp2_rate', 'comp2_inv',\n",
        "       'comp2_rate_percent_diff', 'comp3_rate', 'comp3_inv',\n",
        "       'comp3_rate_percent_diff', 'comp4_rate', 'comp4_inv',\n",
        "       'comp4_rate_percent_diff', 'comp5_rate', 'comp5_inv',\n",
        "       'comp5_rate_percent_diff', 'comp6_rate', 'comp6_inv',\n",
        "       'comp6_rate_percent_diff', 'comp7_rate', 'comp7_inv',\n",
        "       'comp7_rate_percent_diff', 'comp8_rate', 'comp8_inv',\n",
        "       'comp8_rate_percent_diff','comp1_rate',]\n",
        "\n",
        "# Define the imputer\n",
        "imputer = SimpleImputer(strategy='mean')\n",
        "\n"
      ],
      "metadata": {
        "id": "QdifH5V9hUaq"
      },
      "execution_count": 10,
      "outputs": []
    },
    {
      "cell_type": "code",
      "source": [
        "# Impute the missing values with the mean of each column\n",
        "df_train_ex[cols_to_impute_train] = imputer.fit_transform(df_train_ex[cols_to_impute_train])"
      ],
      "metadata": {
        "id": "Os8kxS1ihBbc"
      },
      "execution_count": 11,
      "outputs": []
    },
    {
      "cell_type": "code",
      "source": [
        "# Impute the missing values with the mean of each column\n",
        "df_test_ex[cols_to_impute_test] = imputer.fit_transform(df_test_ex[cols_to_impute_test])"
      ],
      "metadata": {
        "id": "aedTBrk5hCT1"
      },
      "execution_count": 12,
      "outputs": []
    },
    {
      "cell_type": "code",
      "source": [
        "df_train_ex.isna().sum()"
      ],
      "metadata": {
        "colab": {
          "base_uri": "https://localhost:8080/"
        },
        "id": "-E4lqbUWgfqg",
        "outputId": "9e0130ae-0b63-4445-dd11-54762ae4b479"
      },
      "execution_count": 13,
      "outputs": [
        {
          "output_type": "execute_result",
          "data": {
            "text/plain": [
              "srch_id                        0\n",
              "date_time                      0\n",
              "site_id                        0\n",
              "visitor_location_country_id    0\n",
              "visitor_hist_starrating        0\n",
              "visitor_hist_adr_usd           0\n",
              "prop_country_id                0\n",
              "prop_id                        0\n",
              "prop_starrating                0\n",
              "prop_review_score              0\n",
              "prop_brand_bool                0\n",
              "prop_location_score1           0\n",
              "prop_location_score2           0\n",
              "prop_log_historical_price      0\n",
              "position                       0\n",
              "price_usd                      0\n",
              "promotion_flag                 0\n",
              "srch_destination_id            0\n",
              "srch_length_of_stay            0\n",
              "srch_booking_window            0\n",
              "srch_adults_count              0\n",
              "srch_children_count            0\n",
              "srch_room_count                0\n",
              "srch_saturday_night_bool       0\n",
              "srch_query_affinity_score      0\n",
              "orig_destination_distance      0\n",
              "random_bool                    0\n",
              "comp1_rate                     0\n",
              "comp1_inv                      0\n",
              "comp1_rate_percent_diff        0\n",
              "comp2_rate                     0\n",
              "comp2_inv                      0\n",
              "comp2_rate_percent_diff        0\n",
              "comp3_rate                     0\n",
              "comp3_inv                      0\n",
              "comp3_rate_percent_diff        0\n",
              "comp4_rate                     0\n",
              "comp4_inv                      0\n",
              "comp4_rate_percent_diff        0\n",
              "comp5_rate                     0\n",
              "comp5_inv                      0\n",
              "comp5_rate_percent_diff        0\n",
              "comp6_rate                     0\n",
              "comp6_inv                      0\n",
              "comp6_rate_percent_diff        0\n",
              "comp7_rate                     0\n",
              "comp7_inv                      0\n",
              "comp7_rate_percent_diff        0\n",
              "comp8_rate                     0\n",
              "comp8_inv                      0\n",
              "comp8_rate_percent_diff        0\n",
              "click_bool                     0\n",
              "gross_bookings_usd             0\n",
              "booking_bool                   0\n",
              "dtype: int64"
            ]
          },
          "metadata": {},
          "execution_count": 13
        }
      ]
    },
    {
      "cell_type": "code",
      "source": [
        "df_train_ex.isnull().sum()"
      ],
      "metadata": {
        "id": "2DkEIbQ-gpYT",
        "colab": {
          "base_uri": "https://localhost:8080/"
        },
        "outputId": "bbd09e91-72ee-42a5-c8e8-3832bcf91934"
      },
      "execution_count": 14,
      "outputs": [
        {
          "output_type": "execute_result",
          "data": {
            "text/plain": [
              "srch_id                        0\n",
              "date_time                      0\n",
              "site_id                        0\n",
              "visitor_location_country_id    0\n",
              "visitor_hist_starrating        0\n",
              "visitor_hist_adr_usd           0\n",
              "prop_country_id                0\n",
              "prop_id                        0\n",
              "prop_starrating                0\n",
              "prop_review_score              0\n",
              "prop_brand_bool                0\n",
              "prop_location_score1           0\n",
              "prop_location_score2           0\n",
              "prop_log_historical_price      0\n",
              "position                       0\n",
              "price_usd                      0\n",
              "promotion_flag                 0\n",
              "srch_destination_id            0\n",
              "srch_length_of_stay            0\n",
              "srch_booking_window            0\n",
              "srch_adults_count              0\n",
              "srch_children_count            0\n",
              "srch_room_count                0\n",
              "srch_saturday_night_bool       0\n",
              "srch_query_affinity_score      0\n",
              "orig_destination_distance      0\n",
              "random_bool                    0\n",
              "comp1_rate                     0\n",
              "comp1_inv                      0\n",
              "comp1_rate_percent_diff        0\n",
              "comp2_rate                     0\n",
              "comp2_inv                      0\n",
              "comp2_rate_percent_diff        0\n",
              "comp3_rate                     0\n",
              "comp3_inv                      0\n",
              "comp3_rate_percent_diff        0\n",
              "comp4_rate                     0\n",
              "comp4_inv                      0\n",
              "comp4_rate_percent_diff        0\n",
              "comp5_rate                     0\n",
              "comp5_inv                      0\n",
              "comp5_rate_percent_diff        0\n",
              "comp6_rate                     0\n",
              "comp6_inv                      0\n",
              "comp6_rate_percent_diff        0\n",
              "comp7_rate                     0\n",
              "comp7_inv                      0\n",
              "comp7_rate_percent_diff        0\n",
              "comp8_rate                     0\n",
              "comp8_inv                      0\n",
              "comp8_rate_percent_diff        0\n",
              "click_bool                     0\n",
              "gross_bookings_usd             0\n",
              "booking_bool                   0\n",
              "dtype: int64"
            ]
          },
          "metadata": {},
          "execution_count": 14
        }
      ]
    },
    {
      "cell_type": "code",
      "source": [
        "df_test_ex.isnull().sum()"
      ],
      "metadata": {
        "id": "fMY4gD5bjqEL",
        "colab": {
          "base_uri": "https://localhost:8080/"
        },
        "outputId": "797e8b59-37e4-443d-f98f-dd1027532940"
      },
      "execution_count": 15,
      "outputs": [
        {
          "output_type": "execute_result",
          "data": {
            "text/plain": [
              "srch_id                        0\n",
              "date_time                      0\n",
              "site_id                        0\n",
              "visitor_location_country_id    0\n",
              "visitor_hist_starrating        0\n",
              "visitor_hist_adr_usd           0\n",
              "prop_country_id                0\n",
              "prop_id                        0\n",
              "prop_starrating                0\n",
              "prop_review_score              0\n",
              "prop_brand_bool                0\n",
              "prop_location_score1           0\n",
              "prop_location_score2           0\n",
              "prop_log_historical_price      0\n",
              "price_usd                      0\n",
              "promotion_flag                 0\n",
              "srch_destination_id            0\n",
              "srch_length_of_stay            0\n",
              "srch_booking_window            0\n",
              "srch_adults_count              0\n",
              "srch_children_count            0\n",
              "srch_room_count                0\n",
              "srch_saturday_night_bool       0\n",
              "srch_query_affinity_score      0\n",
              "orig_destination_distance      0\n",
              "random_bool                    0\n",
              "comp1_rate                     0\n",
              "comp1_inv                      0\n",
              "comp1_rate_percent_diff        0\n",
              "comp2_rate                     0\n",
              "comp2_inv                      0\n",
              "comp2_rate_percent_diff        0\n",
              "comp3_rate                     0\n",
              "comp3_inv                      0\n",
              "comp3_rate_percent_diff        0\n",
              "comp4_rate                     0\n",
              "comp4_inv                      0\n",
              "comp4_rate_percent_diff        0\n",
              "comp5_rate                     0\n",
              "comp5_inv                      0\n",
              "comp5_rate_percent_diff        0\n",
              "comp6_rate                     0\n",
              "comp6_inv                      0\n",
              "comp6_rate_percent_diff        0\n",
              "comp7_rate                     0\n",
              "comp7_inv                      0\n",
              "comp7_rate_percent_diff        0\n",
              "comp8_rate                     0\n",
              "comp8_inv                      0\n",
              "comp8_rate_percent_diff        0\n",
              "dtype: int64"
            ]
          },
          "metadata": {},
          "execution_count": 15
        }
      ]
    },
    {
      "cell_type": "markdown",
      "source": [
        "#Generate Relevance Score for training data - Procedure 1"
      ],
      "metadata": {
        "id": "SlP8kHBDMAYo"
      }
    },
    {
      "cell_type": "code",
      "source": [
        "# Generate the relevance score for each hotel in the training set\n",
        "df_train_ex['relevance_score_1'] = df_train_ex['booking_bool'] * 5 + df_train_ex['click_bool'] * 3 + (1 / df_train_ex['position']) * 2 + (1 / df_train_ex['gross_bookings_usd'])\n",
        "\n"
      ],
      "metadata": {
        "id": "TsuGjdaRgNEM"
      },
      "execution_count": 16,
      "outputs": []
    },
    {
      "cell_type": "markdown",
      "source": [
        "#Generate Relevance Score for training data - Procedure 2--- TODO"
      ],
      "metadata": {
        "id": "wSZgerCcMI23"
      }
    },
    {
      "cell_type": "code",
      "source": [
        "# Generate the relevance score for each hotel in the training set\n",
        "df_train_ex['relevance_score_2'] = df_train_ex['booking_bool'] * 5 + df_train_ex['click_bool'] * 1\n"
      ],
      "metadata": {
        "id": "qSppFnkrMNeh"
      },
      "execution_count": 17,
      "outputs": []
    },
    {
      "cell_type": "code",
      "source": [],
      "metadata": {
        "id": "6iLaCqRuMJOB"
      },
      "execution_count": 17,
      "outputs": []
    },
    {
      "cell_type": "code",
      "source": [
        "df_train_ex.columns"
      ],
      "metadata": {
        "id": "Gvm6NoTEkxds",
        "colab": {
          "base_uri": "https://localhost:8080/"
        },
        "outputId": "564c50ed-678e-4566-9a22-a6b050f53f09"
      },
      "execution_count": 18,
      "outputs": [
        {
          "output_type": "execute_result",
          "data": {
            "text/plain": [
              "Index(['srch_id', 'date_time', 'site_id', 'visitor_location_country_id',\n",
              "       'visitor_hist_starrating', 'visitor_hist_adr_usd', 'prop_country_id',\n",
              "       'prop_id', 'prop_starrating', 'prop_review_score', 'prop_brand_bool',\n",
              "       'prop_location_score1', 'prop_location_score2',\n",
              "       'prop_log_historical_price', 'position', 'price_usd', 'promotion_flag',\n",
              "       'srch_destination_id', 'srch_length_of_stay', 'srch_booking_window',\n",
              "       'srch_adults_count', 'srch_children_count', 'srch_room_count',\n",
              "       'srch_saturday_night_bool', 'srch_query_affinity_score',\n",
              "       'orig_destination_distance', 'random_bool', 'comp1_rate', 'comp1_inv',\n",
              "       'comp1_rate_percent_diff', 'comp2_rate', 'comp2_inv',\n",
              "       'comp2_rate_percent_diff', 'comp3_rate', 'comp3_inv',\n",
              "       'comp3_rate_percent_diff', 'comp4_rate', 'comp4_inv',\n",
              "       'comp4_rate_percent_diff', 'comp5_rate', 'comp5_inv',\n",
              "       'comp5_rate_percent_diff', 'comp6_rate', 'comp6_inv',\n",
              "       'comp6_rate_percent_diff', 'comp7_rate', 'comp7_inv',\n",
              "       'comp7_rate_percent_diff', 'comp8_rate', 'comp8_inv',\n",
              "       'comp8_rate_percent_diff', 'click_bool', 'gross_bookings_usd',\n",
              "       'booking_bool', 'relevance_score_1', 'relevance_score_2'],\n",
              "      dtype='object')"
            ]
          },
          "metadata": {},
          "execution_count": 18
        }
      ]
    },
    {
      "cell_type": "code",
      "source": [
        "df_train_ex=df_train_ex.drop([\"date_time\",\"site_id\"],axis=1)"
      ],
      "metadata": {
        "id": "ysWiOmG6lcbD"
      },
      "execution_count": 19,
      "outputs": []
    },
    {
      "cell_type": "code",
      "source": [
        "df_train_ex = df_train_ex.drop(['click_bool', 'gross_bookings_usd',\n",
        "       'booking_bool','position'],axis=1)\n"
      ],
      "metadata": {
        "id": "b4WftMy2k1J9"
      },
      "execution_count": 20,
      "outputs": []
    },
    {
      "cell_type": "code",
      "source": [
        "# Split the training data into a training subset and a validation subset\n",
        "train_subset = df_train_ex.sample(frac=0.8, random_state=1)\n",
        "valid_subset = df_train_ex.drop(train_subset.index)\n",
        "\n",
        "# Train a Random Forest model on the training subset\n",
        "rf_model = RandomForestRegressor(n_estimators=100, random_state=1)\n",
        "features = ['srch_id', 'visitor_location_country_id',\n",
        "       'visitor_hist_starrating', 'visitor_hist_adr_usd', 'prop_country_id',\n",
        "       'prop_id', 'prop_starrating', 'prop_review_score', 'prop_brand_bool',\n",
        "       'prop_location_score1', 'prop_location_score2',\n",
        "       'prop_log_historical_price', 'price_usd', 'promotion_flag',\n",
        "       'srch_destination_id', 'srch_length_of_stay', 'srch_booking_window',\n",
        "       'srch_adults_count', 'srch_children_count', 'srch_room_count',\n",
        "       'srch_saturday_night_bool', 'srch_query_affinity_score',\n",
        "       'orig_destination_distance', 'random_bool', 'comp1_rate', 'comp1_inv',\n",
        "      ]\n",
        "\n",
        "\n"
      ],
      "metadata": {
        "id": "Df7X76smkugg"
      },
      "execution_count": 21,
      "outputs": []
    },
    {
      "cell_type": "markdown",
      "source": [
        "#Different Models on training and valid set for RSME metric"
      ],
      "metadata": {
        "id": "xQjVCs-Z-OXE"
      }
    },
    {
      "cell_type": "code",
      "source": [
        "# Train a Random Forest model on the training subset\n",
        "rf_model_rsme = RandomForestRegressor(n_estimators=100, random_state=1)\n",
        "rf_model_rsme.fit(train_subset[features], train_subset['relevance_score_1'])\n",
        "#rf_model_rsme.fit(train_subset[features], train_subset['relevance_score_2'])\n",
        "\n",
        "\n",
        "\n",
        "# Use the Random Forest model to predict relevance scores for hotels in the validation subset\n",
        "valid_subset['rf_predicted_score'] = rf_model_rsme.predict(valid_subset[features])\n",
        "\n",
        "# Evaluate the Random Forest model's performance on the validation subset\n",
        "valid_rmse = ((valid_subset['rf_predicted_score'] - valid_subset['relevance_score_1']) ** 2).mean() ** 0.5\n",
        "print('Random Forest Validation RMSE:', valid_rmse)\n",
        "\n",
        "# Train a Gradient Boosting model on the training subset\n",
        "gb_model = GradientBoostingRegressor(n_estimators=100, random_state=1)\n",
        "gb_model.fit(train_subset[features], train_subset['relevance_score_1'])\n",
        "\n",
        "# Use the Gradient Boosting model to predict relevance scores for hotels in the validation subset\n",
        "valid_subset['gb_predicted_score'] = gb_model.predict(valid_subset[features])\n",
        "\n",
        "# Evaluate the Gradient Boosting model's performance on the validation subset\n",
        "valid_rmse = ((valid_subset['gb_predicted_score'] - valid_subset['relevance_score_1']) ** 2).mean() ** 0.5\n",
        "print('Gradient Boosting Validation RMSE:', valid_rmse)\n",
        "\n",
        "# Train an XGBoost model on the training subset\n",
        "xgb_model = XGBRegressor(n_estimators=100, random_state=1)\n",
        "xgb_model.fit(train_subset[features], train_subset['relevance_score_1'])\n",
        "\n",
        "# Use the XGBoost model to predict relevance scores for hotels in the validation subset\n",
        "valid_subset['xgb_predicted_score'] = xgb_model.predict(valid_subset[features])\n",
        "\n",
        "# Evaluate the XGBoost model's performance on the validation subset\n",
        "valid_rmse = ((valid_subset['xgb_predicted_score'] - valid_subset['relevance_score_1']) ** 2).mean() ** 0.5\n",
        "print('XGBoost Validation RMSE:', valid_rmse)\n"
      ],
      "metadata": {
        "colab": {
          "base_uri": "https://localhost:8080/"
        },
        "id": "QvmIrZe6-MEY",
        "outputId": "3d589adb-5c86-4023-a418-40a860441cd7"
      },
      "execution_count": 22,
      "outputs": [
        {
          "output_type": "stream",
          "name": "stdout",
          "text": [
            "Random Forest Validation RMSE: 1.6513756951010372\n",
            "Gradient Boosting Validation RMSE: 1.5822015319320015\n",
            "XGBoost Validation RMSE: 1.6945318123357367\n"
          ]
        }
      ]
    },
    {
      "cell_type": "markdown",
      "source": [
        "#Different Model with NDCG metric"
      ],
      "metadata": {
        "id": "Lam60BNTAf5D"
      }
    },
    {
      "cell_type": "code",
      "source": [
        "\n",
        "# Define the features to be used in the models\n",
        "features = ['srch_id', 'visitor_location_country_id',\n",
        "       'visitor_hist_starrating', 'visitor_hist_adr_usd', 'prop_country_id',\n",
        "       'prop_id', 'prop_starrating', 'prop_review_score', 'prop_brand_bool',\n",
        "       'prop_location_score1', 'prop_location_score2',\n",
        "       'prop_log_historical_price', 'price_usd', 'promotion_flag',\n",
        "       'srch_destination_id', 'srch_length_of_stay', 'srch_booking_window',\n",
        "       'srch_adults_count', 'srch_children_count', 'srch_room_count',\n",
        "       'srch_saturday_night_bool', 'srch_query_affinity_score',\n",
        "       'orig_destination_distance', 'random_bool', 'comp1_rate', 'comp1_inv',\n",
        "      ]\n",
        "binarizer = MultiLabelBinarizer(classes=[0, 1, 2])"
      ],
      "metadata": {
        "id": "wLWw8Iga_ALP"
      },
      "execution_count": 23,
      "outputs": []
    },
    {
      "cell_type": "code",
      "source": [
        "\n",
        "# Train a Random Forest model on the training subset\n",
        "rf_model_ndcg = RandomForestRegressor(n_estimators=100, random_state=1)\n",
        "rf_model_ndcg.fit(train_subset[features], train_subset['relevance_score_1'])\n",
        "\n",
        "# Use the Random Forest model to predict relevance scores for hotels in the validation subset\n",
        "valid_subset['rf_ndcg_predicted_score'] = rf_model_ndcg.predict(valid_subset[features])\n",
        "\n",
        "# Binarize the relevance scores using MultiLabelBinarizer\n",
        "\n",
        "train_relevance_bins_rf = binarizer.fit_transform(train_subset['relevance_score_1'].values.reshape(-1, 1))\n",
        "valid_relevance_bins_rf = binarizer.transform(valid_subset['relevance_score_1'].values.reshape(-1, 1))\n",
        "valid_predicted_bins_rf = binarizer.transform(valid_subset['rf_ndcg_predicted_score'].values.reshape(-1, 1))\n",
        "\n",
        "# Evaluate the Random Forest model's performance on the validation subset using NDCG\n",
        "valid_ndcg_rf = ndcg_score(valid_relevance_bins_rf, valid_predicted_bins_rf, k=5)\n",
        "print('Random Forest Validation NDCG:', valid_ndcg_rf)\n"
      ],
      "metadata": {
        "id": "WRwwemL2AUEl",
        "colab": {
          "base_uri": "https://localhost:8080/"
        },
        "outputId": "53144dbb-8d1c-447b-c810-1b38cea29f1b"
      },
      "execution_count": 24,
      "outputs": [
        {
          "output_type": "stream",
          "name": "stderr",
          "text": [
            "/usr/local/lib/python3.10/dist-packages/sklearn/preprocessing/_label.py:895: UserWarning: unknown class(es) [0.0537222927217972, 0.05507182038711434, 0.05649429549379998, 0.057995796995301475, 0.059583098582603064, 0.06126377085151063, 0.06304630204580654, 0.06494024143974593, 0.06695637047200399, 0.0691069081064126, 0.07140575868112524, 0.07386881286831735, 0.07651431551382, 0.07936331836282286, 0.08244024143974593, 0.08577357477307926, 0.08939676317887636, 0.09334933234883684, 0.09767833667784116, 0.10244024143974594, 0.10770339933448277, 0.11355135255085703, 0.12008730026327534, 0.12744024143974592, 0.13577357477307925, 0.14529738429688877, 0.15628639528589977, 0.16910690810641257, 0.18425842325792774, 0.20244024143974593, 0.22466246366196813, 0.2524402414397459, 0.2881545271540316, 0.33577357477307923, 0.40244024143974594, 0.502440241439746, 0.6691069081064126, 1.002440241439746, 10.000412316725216, 10.000518769064763, 10.000915599992675, 10.001169481218131, 10.001236399604352, 10.001305909239308, 10.001603849238172, 10.001870522436917, 10.00192778516762, 10.001970909377587, 10.001996207206307, 10.00243926236706, 10.002589868434683, 10.002815156804234, 10.003219782342713, 10.003296848213107, 10.004067686300033, 10.004135478268061, 10.004484304932735, 10.00551511140525, 10.005670541536716, 10.006062443164595, 10.006158393890873, 10.00679763442322, 10.007057661091114, 10.007400281210685, 10.007751937984496, 10.007983394539359, 10.007986582541331, 10.00817394147458, 10.008289124668435, 10.008314625426124, 10.008325008325007, 10.00890789239266, 10.009004141905276, 10.009052231375033, 10.009092562284051, 10.009309253397877, 10.009352787130565, 10.009756097560976, 10.010477787091366, 10.014388489208633, 10.016455487905217, 10.01695489996609, 2.002440241439746, 3.0564942954938, 3.0579957969953013, 3.0630463020458065, 3.066956370472004, 3.069106908106413, 3.0714057586811254, 3.07651431551382, 3.082440241439746, 3.0857735747730795, 3.0893967631788763, 3.093349332348837, 3.0976783366778413, 3.102440241439746, 3.1077033993344827, 3.113551352550857, 3.127440241439746, 3.1357735747730793, 3.1452973842968888, 3.1562863952858997, 3.1691069081064125, 3.1842584232579276, 3.202440241439746, 3.2246624636619683, 3.252440241439746, 3.2881545271540316, 3.3357735747730795, 3.402440241439746, 3.502440241439746, 3.6691069081064125, 4.0024402414397455, 5.0024402414397455, 8.067933467614234, 8.071465822015325, 8.078408872715302, 8.079321772419506, 8.081245617390197, 8.083939261736834, 8.090758162700608, 8.092590667555354, 8.092948408961135, 8.093822843822844, 8.095814826440984, 8.095985362109513, 8.096969696969698, 8.098286968679359, 8.100275017667544, 8.100444530391945, 8.10386727511795, 8.10726048148113, 8.108708525646607, 8.109003293287637, 8.10920202665163, 8.1121405134144, 8.112244398187828, 8.113369620043514, 8.113734862401683, 8.113923698134224, 8.114869888475836, 8.117831541218637, 8.12608225108225, 8.133555987008899, 8.134940357852882, 8.135372368011618, 8.1354375333165, 8.13664832371986, 8.136916535282595, 8.137521113391124, 8.137645908803403, 8.139058087168918, 8.139096357768556, 8.139281465619796, 8.139653247382501, 8.140286469197608, 8.145915714504183, 8.147067314632151, 8.14763041254688, 8.1479237689908, 8.148904006046862, 8.149060616802553, 8.154233498520938, 8.158694963573012, 8.160156098318643, 8.160522612652402, 8.161284416268051, 8.162595825733458, 8.163418279815332, 8.167656814693796, 8.169608189198728, 8.169874363495136, 8.170514004309018, 8.171275598777097, 8.171880702852077, 8.172694757570277, 8.173118695829839, 8.177041186845107, 8.201470069387275, 8.201707650273223, 8.202160573848413, 8.203696037847427, 8.223258749441426, 8.225270166383885, 8.225440346699276, 8.225657821906147, 8.226418789430245, 8.22913593903638, 8.231296632385561, 8.234783458247847, 8.25098564895127, 8.251156363468166, 8.25170033326532, 8.254419498828833, 8.25633593106507, 8.261968880909635, 8.266406890894176, 8.286279717477981, 8.286675935135374, 8.286755984934054, 8.2872057322683, 8.287456597762374, 8.287729723971335, 8.28801160474298, 8.288361048723127, 8.288544420994754, 8.289772562569933, 8.292387180416007, 8.298639192008716, 8.298794730449407, 8.334701771671503, 8.33497817838893, 8.335400303155575, 8.335454179126636, 8.336006772713096, 8.336111882930444, 8.336463811670423, 8.336901703301931, 8.337182299885814, 8.344918134074762, 8.345500263616824, 8.500984174474452, 8.501125593750704, 8.501749413946328, 8.502246181491465, 8.50229600036736, 8.503085657862256, 8.504409948844593, 8.5044927666457, 8.50537750053775, 8.505952380952381, 8.506023370678232, 8.507783312577834, 8.508716116098666, 8.5090661831369, 8.510112245929822, 8.510118385105738, 8.520738282870179, 8.667042446880334, 8.667240726070332, 8.667864199748518, 8.667871485943774, 8.667932585597217, 8.667961265599917, 8.66800977784941, 8.668389853873725, 8.669136046358487, 8.66990144702508, 8.67028121159546, 8.671637833896732, 8.672239560112944, 8.672308733920108, 8.673250812044596, 8.674052191038896, 8.675725458223873, 8.67621320604614, 8.676996178080776, 8.678461901391836, 9.00026440127653, 9.001314647805852, 9.001413307705354, 9.001785746174038, 9.001950458357713, 9.002003124874804, 9.002342030071667, 9.002491590880778, 9.002566076469078, 9.003220611916264, 9.003826432999158, 9.004375218760938, 9.00502664119835, 9.00515304544986, 9.005636978579481, 9.005761696243374, 9.005826147751106, 9.006208866261021, 9.006862475981334, 9.007314218841428, 9.007444907683144, 9.007564296520423, 9.007694675284704, 9.007831466833737, 9.008495454931612, 9.008744316194473, 9.009502993442934, 9.00981450583963, 9.010319917440661, 9.018628912071534] will be ignored\n",
            "  warnings.warn(\n",
            "/usr/local/lib/python3.10/dist-packages/sklearn/preprocessing/_label.py:895: UserWarning: unknown class(es) [0.05507182038711434, 0.05649429549379998, 0.057995796995301475, 0.059583098582603064, 0.06126377085151063, 0.06304630204580654, 0.06494024143974593, 0.06695637047200399, 0.0691069081064126, 0.07140575868112524, 0.07386881286831735, 0.07651431551382, 0.07936331836282286, 0.08244024143974593, 0.08577357477307926, 0.08939676317887636, 0.09334933234883684, 0.09767833667784116, 0.10244024143974594, 0.10770339933448277, 0.11355135255085703, 0.12008730026327534, 0.12744024143974592, 0.13577357477307925, 0.14529738429688877, 0.15628639528589977, 0.16910690810641257, 0.18425842325792774, 0.20244024143974593, 0.22466246366196813, 0.2524402414397459, 0.2881545271540316, 0.33577357477307923, 0.40244024143974594, 0.502440241439746, 0.6691069081064126, 1.002440241439746, 10.000307368861076, 10.001104545203512, 10.001289091705983, 10.003125390673834, 10.004018485031143, 10.004118955432903, 10.004252966444096, 10.004369865408146, 10.004836993324949, 10.005100479445067, 10.005222750300309, 10.006900358818658, 10.007880841673892, 10.01246105919003, 10.012759984688019, 2.002440241439746, 3.0738688128683176, 3.079363318362823, 3.0857735747730795, 3.093349332348837, 3.102440241439746, 3.1077033993344827, 3.127440241439746, 3.1357735747730793, 3.1691069081064125, 3.202440241439746, 3.2246624636619683, 3.252440241439746, 3.2881545271540316, 3.3357735747730795, 3.502440241439746, 3.6691069081064125, 4.0024402414397455, 5.0024402414397455, 8.080415672620198, 8.092454470995325, 8.097512011148684, 8.106977880120018, 8.119436119436118, 8.134086436116801, 8.13506125481658, 8.140029014618904, 8.14838811630847, 8.15303422407025, 8.154392214021986, 8.158947674099188, 8.176681689200466, 8.179431537741468, 8.18080693815988, 8.222935183864886, 8.252935047401015, 8.287688073808397, 8.290623465881199, 8.290667723400041, 8.300065606035757, 8.334033888172767, 8.334975639130674, 8.338019808166964, 8.34326875310482, 8.350000000000001, 8.502876456205954, 8.506205398696867, 8.506865774116031, 8.512704865963665, 8.512779552715655, 8.667661444085219, 8.668682592480597, 8.670314437878456, 8.672776895189212, 9.000667877751656, 9.001419647927314, 9.001606219281056, 9.001663339986694, 9.002592554184382, 9.00333678134072, 9.005973358819665, 9.006060606060606, 9.006380399413004, 9.007611508601006, 9.00836610056053, 9.011321181931393, 9.01237470610073] will be ignored\n",
            "  warnings.warn(\n",
            "/usr/local/lib/python3.10/dist-packages/sklearn/preprocessing/_label.py:895: UserWarning: unknown class(es) [0.07900950725873447, 0.08569383574356731, 0.09007529378732121, 0.09140350104766533, 0.09264030425905649, 0.09281009020870007, 0.0939524586917815, 0.09621202198944644, 0.09636204645036443, 0.09639530073542944, 0.09664345068815405, 0.09695685936839052, 0.09703507886628397, 0.09779413964404475, 0.09891707570894762, 0.09956819695230582, 0.10023426036207744, 0.10183906029427116, 0.10197902945769666, 0.10198564080555748, 0.10252727313646458, 0.10292608095157042, 0.10301137618900144, 0.10449103259837057, 0.10490253599762363, 0.10629440324389469, 0.10630162349231308, 0.10695486051240956, 0.1083221630541168, 0.10838677522095003, 0.10945885740143355, 0.10970913570311587, 0.1106608082728287, 0.11099481165063926, 0.11177958043918439, 0.11236682360126467, 0.11396476413234882, 0.11476620676716061, 0.11519351355505938, 0.11547133542226545, 0.11583246363852076, 0.11689184296367097, 0.11770659626332634, 0.11841470804828702, 0.11843354924829631, 0.119022432158931, 0.11927330780073227, 0.11930283706371433, 0.12141088930694574, 0.12153383645596877, 0.12202713105979995, 0.1224574606857102, 0.12286328758422255, 0.12372710192078695, 0.12398455630565267, 0.12421424035745422, 0.12446067323546366, 0.1247237243180143, 0.12481267686615448, 0.12499048084223369, 0.12556029501891985, 0.12557194155937176, 0.1257013926025679, 0.12609500111331118, 0.12634156401424065, 0.1265585312089928, 0.1266658137957831, 0.12702789044981003, 0.12822205291704436, 0.12851309349885098, 0.12858972877357674, 0.12874607284440415, 0.12874667226089642, 0.12894385713563272, 0.1291582453102266, 0.12916778425998943, 0.1301427105940202, 0.1313940955115287, 0.13171656679013574, 0.13213257938881265, 0.1324270095846398, 0.13248527118753065, 0.13260634836389992, 0.13325403136114658, 0.13434439690281322, 0.13451973694704164, 0.1346244486194589, 0.13463607038285855, 0.13487881401095736, 0.1353216275641611, 0.13614686241787624, 0.1368939798697683, 0.1371007851419418, 0.13742100635700094, 0.1376009274908294, 0.13763995333498227, 0.13764379101425836, 0.1377065308636611, 0.1379429750157555, 0.1380968560724043, 0.13931483789220112, 0.13994560598971137, 0.1402537866614556, 0.1410854265530799, 0.14128760927825038, 0.14277584064670226, 0.14372070299895745, 0.14399761551758578, 0.14466241930690377, 0.14587182824137104, 0.14616843473120547, 0.14652888214624887, 0.14747465116032563, 0.14799855340364754, 0.1481263582067588, 0.14824119326232438, 0.1488655927661864, 0.14896714239576286, 0.14933492932599482, 0.14993170032646222, 0.1501416958632463, 0.15103302486208417, 0.1512104345764389, 0.15125950592514692, 0.15148047908600076, 0.1520524447933554, 0.1525776411457776, 0.1529419931801457, 0.15408240154078315, 0.15415813460661051, 0.15588436760195984, 0.1563971412262844, 0.1565895575931596, 0.15683721402429468, 0.1569231054299603, 0.15717111308606418, 0.15724764740231156, 0.15736820004625982, 0.15776980809010166, 0.15850022520647586, 0.1585173574014168, 0.15860869560447996, 0.15865168078887373, 0.15913761682652627, 0.15935298525647468, 0.16021190212167707, 0.16092960488860586, 0.16182006900888488, 0.16199110463300015, 0.16206114551233533, 0.16208529997081136, 0.16220551530876498, 0.1623642533097067, 0.16238087664233042, 0.1627205192843776, 0.16287392929111583, 0.1636717027209013, 0.16422004626180553, 0.16446124407372792, 0.16453652643893002, 0.16665283192969582, 0.16712726750009918, 0.1671338580949262, 0.16722414619508097, 0.16741796987053037, 0.1680976512306502, 0.16934525353813382, 0.1697227713511007, 0.17045339458207118, 0.17056261378026719, 0.17071695721835423, 0.17089811732588878, 0.17100224932477087, 0.17102371112024317, 0.17192568457754587, 0.1721466927524495, 0.1722321177105245, 0.17281878519961283, 0.17310335418756842, 0.1732712314639549, 0.17517688258399083, 0.17532349159265542, 0.17543953654457942, 0.1754433261562319, 0.17579084243600454, 0.17597388001535116, 0.17617133636400348, 0.17644535372736084, 0.1765232426233399, 0.17675592235898727, 0.17685601283115265, 0.17704957857350126, 0.17716531231500635, 0.17721588344374858, 0.17734605868920802, 0.17738502498661413, 0.1776920803027014, 0.17821590791333888, 0.17840368524183067, 0.17845052331383712, 0.178847011460851, 0.17912304305686785, 0.17973106259288066, 0.17996499097476573, 0.18023122443278983, 0.1806394834482965, 0.18078146082842175, 0.1808930555274579, 0.18092571020511905, 0.18134543461273026, 0.18180768463169433, 0.1819184233297848, 0.18221802528532915, 0.18265035656380654, 0.1827442119865157, 0.18325860507805733, 0.18355954923715564, 0.18364982101978827, 0.18393456744156111, 0.18400441143154747, 0.18407478360173474, 0.18418727009127983, 0.18453370255025878, 0.18512082345917988, 0.1852779232451682, 0.18571766239701845, 0.18587042654279873, 0.18618332165064416, 0.18636737167519274, 0.18651465873564024, 0.18651649467197928, 0.18651937996251633, 0.1868636144845934, 0.18720100338304974, 0.18742952343461267, 0.18784089184276342, 0.18803709972790922, 0.1886265678974033, 0.18906528312762824, 0.18924954988737652, 0.18936290518825605, 0.18946890665205862, 0.18953395653353572, 0.18954477034250838, 0.18968117230009887, 0.1896972279301265, 0.19090778874904896, 0.1913536779083082, 0.19150881833182848, 0.19178456918499476, 0.19201307207318277, 0.19254375897706574, 0.19304063480099776, 0.19306223098812597, 0.1933261998084176, 0.19337292998340738, 0.19399991402248087, 0.19402550469412422, 0.19411087980515973, 0.1942988972654203, 0.19440045093530828, 0.19474898146962924, 0.19482739958030446, 0.1952099552911487, 0.1958974180440349, 0.1959377655784226, 0.19597590259937042, 0.19628645116628107, 0.1971357348222817, 0.19714767595981, 0.19763629818325903, 0.19778364606874926, 0.19845544000018062, 0.1986401322444473, 0.19911109266594842, 0.19930069748400414, 0.1994942125209871, 0.19963112360243346, 0.20005511144877278, 0.2002560490194989, 0.20067211500764504, 0.20119933708823518, 0.20129645461857756, 0.20181951143370053, 0.20187048141294003, 0.20201319698844478, 0.20206388800312378, 0.20236670134853413, 0.20254692449971207, 0.2027911882843834, 0.20299119826299372, 0.20307780104171239, 0.20313772600820063, 0.2032172526174698, 0.20368905672068208, 0.2048316004494222, 0.2049373873870014, 0.20512439958422987, 0.2054375123620917, 0.20553343168848492, 0.20557376229482643, 0.20576378748788376, 0.20596855600157438, 0.20607473651017297, 0.20661982375983215, 0.20677220155446208, 0.20696873902825869, 0.20745779042539872, 0.20755821188706935, 0.20819524057802677, 0.20859830756809067, 0.20921522889864846, 0.20926327848902737, 0.20936999808722445, 0.20954060544342806, 0.20965239539540992, 0.20966913347889204, 0.2098894307061926, 0.2101702291840713, 0.2104413018669423, 0.21048944770599357, 0.21050390426598992, 0.21061984151616062, 0.21071498187682758, 0.21084320766313308, 0.21097178143391576, 0.21115910995314457, 0.21127760773440207, 0.21132367905049143, 0.21268391499740752, 0.2127582992152366, 0.21316027893785575, 0.21332485301038295, 0.21386891192473928, 0.21429955595606578, 0.21577267050112234, 0.21595479041978247, 0.21607498593772292, 0.21614158026339172, 0.2166768111939977, 0.218015949733603, 0.21855837410982712, 0.21920854332544146, 0.21948831721600812, 0.2194924063191475, 0.21950258101160042, 0.21972279250929133, 0.21974394543191067, 0.21994077647015595, 0.22000926653848982, 0.22004182898457852, 0.22032509242543277, 0.2203420453637355, 0.22055953625494631, 0.22107182643966294, 0.2211129952548509, 0.2218352313336633, 0.2222848437111046, 0.2226838739613306, 0.2227219366971352, 0.22300926253612638, 0.22331712113040258, 0.2236350476139638, 0.22363928102024658, 0.22374016390827475, 0.22392053986456528, 0.22392904406271405, 0.2241204436396211, 0.2242955751812574, 0.2243109764226385, 0.22500715318297357, 0.22514697783920148, 0.22539285772130963, 0.225713301544767, 0.2257886807940632, 0.22619469173315843, 0.22665694755180982, 0.22689595925051875, 0.22699035499738, 0.22702281796527668, 0.22705734680059134, 0.22714069383475124, 0.22720805593743137, 0.2276324453035853, 0.2277446293722206, 0.228031223059675, 0.22850973787831919, 0.22855269506994857, 0.2292984635008013, 0.2293292977706677, 0.22995412390260367, 0.23011252448902966, 0.23011505005534463, 0.23031221052515863, 0.23043934524620013, 0.23048662331334854, 0.23066884225293097, 0.23093133885463718, 0.23119827354521888, 0.23161310618693032, 0.23243514022673822, 0.23245465197904877, 0.23276744194972818, 0.23284095475935568, 0.23313691904541553, 0.23386755820981686, 0.23398667106024176, 0.23398951016945382, 0.23407960537342812, 0.234612075173299, 0.23528827300129343, 0.23533954429328444, 0.2354624832610096, 0.23601403095963733, 0.23608861340573384, 0.2365888654853261, 0.2365981810704259, 0.23770217370204122, 0.23830744532763412, 0.23842432445222111, 0.23854019501326387, 0.23861907863242485, 0.23899495970798607, 0.23925168426097604, 0.2393863494344768, 0.2396203377677686, 0.23966854050987088, 0.2396941682757056, 0.24008415335243283, 0.24010604506019084, 0.24040995116471886, 0.24048855990166018, 0.24058894229563493, 0.24186710654689564, 0.24201613945948697, 0.24246330403066518, 0.24274166154355753, 0.2435514787947889, 0.24363004819346729, 0.24382751018652152, 0.24382755470641218, 0.24417601732966296, 0.24460427202341464, 0.24470313132347232, 0.24473717051619584, 0.24487571391428392, 0.24495729296475563, 0.2452081137151012, 0.24568162855394887, 0.2459161530686947, 0.2468910830136811, 0.24711824405025498, 0.24780852224981303, 0.2479098498900554, 0.2481865865419849, 0.2483540709131491, 0.24860322803519774, 0.24903778120928582, 0.24921681299028084, 0.24931348743252207, 0.2493179783674802, 0.2494373591491437, 0.24950493297445345, 0.24988462163052805, 0.25024752762552044, 0.2503867184043965, 0.25104259475944896, 0.25104900551750364, 0.25149265604086257, 0.25152969368776074, 0.25158419235418117, 0.25382547589241383, 0.255776721215796, 0.2563097095880511, 0.2569628615514314, 0.25707552483705176, 0.2574294663874847, 0.2576463071609795, 0.2584671565994314, 0.2586535237410406, 0.25870945845898435, 0.2588251287632921, 0.25900597318415297, 0.25958752483597913, 0.25974197436283314, 0.25994217827646565, 0.2600304814033745, 0.2601291433985774, 0.2601652468339395, 0.2608807779024478, 0.26100113501160194, 0.26118689309615356, 0.26135540245856587, 0.2614257282827488, 0.26162213577041915, 0.2616646391027846, 0.26168183540955914, 0.26193022875474414, 0.26230495281081917, 0.2629533623001466, 0.26315572700337864, 0.2632446065470804, 0.2632541486908159, 0.26330546501297236, 0.2634380533837175, 0.2635734419243531, 0.2638208811625758, 0.26386230438101493, 0.2639400103367045, 0.26410978598168333, 0.26501548507149786, 0.26532776789265355, 0.2665035665248231, 0.2673999902106401, 0.26741059772261283, 0.2674815374633071, 0.26773266076749846, 0.268063989665021, 0.26841545865782895, 0.2687843405153443, 0.2701990153142268, 0.2702488373518945, 0.2709711151814506, 0.27173676307820205, 0.2718235610140659, 0.2719014384392438, 0.27196642044480057, 0.27230430076623763, 0.27247091143856483, 0.2725009222694389, 0.27268929598715563, 0.2730449214511791, 0.2732725897424801, 0.2732874214705735, 0.273391742930967, 0.2737529808097088, 0.2740474336840817, 0.27426821061579615, 0.27451204323262113, 0.27451784258529877, 0.2747129250121149, 0.2754727059708634, 0.2756393181292207, 0.27571932377873287, 0.2758029186468758, 0.2759793661441933, 0.2760158134413613, 0.276128342380443, 0.2769478792657785, 0.2769482110404723, 0.277416218299227, 0.27781066118846476, 0.27786197116317024, 0.2782164240587885, 0.2790009994219035, 0.27995856597496915, 0.28064447349098937, 0.2807068244829545, 0.28074472838977443, 0.28101935669418415, 0.2813330354547884, 0.2816524923492852, 0.2817959542530626, 0.2824907518185427, 0.282500046149099, 0.2829946411226234, 0.2831578222644135, 0.283569243210869, 0.2836231787643215, 0.28450595860125966, 0.2852155830915583, 0.28538627030241304, 0.28555410689592764, 0.28574153388947765, 0.2860782414036854, 0.2862678352698584, 0.28636435746064337, 0.2865876037355682, 0.28682525961229755, 0.2869359931767251, 0.2869944498794957, 0.2872313056227936, 0.28740499716941587, 0.2877982496332967, 0.28818484089730495, 0.288473549327475, 0.2885801104192568, 0.2889828876450643, 0.28929091312975497, 0.28963820125385825, 0.2896902867315043, 0.29003095365140547, 0.2902337644201613, 0.29038671003955885, 0.2907808410154363, 0.2908426345432762, 0.29096784981601514, 0.29104125696940203, 0.2910780447194901, 0.29157232006146666, 0.2917606519666154, 0.2921065830281837, 0.29211493395507493, 0.2924531879624976, 0.29257450327204, 0.29287700652912296, 0.2934320830521156, 0.29346110835660866, 0.2938062209074105, 0.29405652285797834, 0.2949261588872228, 0.29536969111390615, 0.29607019206235163, 0.29615786471352556, 0.29657277125824005, 0.29681991122126844, 0.29687526016905147, 0.2969528267252198, 0.2973569122547013, 0.29758199304550836, 0.2976986758977931, 0.29809810984372853, 0.2985916755285437, 0.29928769098678704, 0.3003805031703869, 0.3006888114300206, 0.3007996768476095, 0.30093437226955727, 0.3011078002422423, 0.301279662791084, 0.30130078527863896, 0.3014466453414284, 0.3014898744160596, 0.30188622745355004, 0.30193265291707383, 0.3021359611190452, 0.3023413962435787, 0.30256616428425537, 0.3029779071694557, 0.3030978009758563, 0.3031272685732215, 0.303134521641937, 0.30357502374476436, 0.30390636644714325, 0.30433132960943177, 0.3044082815212296, 0.3044135730234678, 0.3045390374645853, 0.30473524951398956, 0.3047590296470857, 0.305012078509188, 0.3050347568842674, 0.3052201305522731, 0.3054789825890643, 0.3056777979656522, 0.3062135047214542, 0.30691715225054234, 0.307533276814571, 0.30796173171485697, 0.30809199472764953, 0.30810521349313547, 0.30828964226646355, 0.30830743753557405, 0.3089982003989755, 0.3100696815433592, 0.3101622947116774, 0.31044502353474884, 0.3105467373735586, 0.31072825598603704, 0.310860860382803, 0.31102161672912587, 0.3113645528481055, 0.31144013639906226, 0.311847014740114, 0.31200125037873344, 0.3121330584249096, 0.3124227231514633, 0.3127611226815288, 0.3128588939147442, 0.31342222429036715, 0.31345487605361844, 0.3136477575361395, 0.3137506843966302, 0.3137879216748876, 0.31385192055650124, 0.31385462638468214, 0.31416349783326936, 0.31427227859007173, 0.3144696436915849, 0.3149815948400233, 0.3150551244079129, 0.31566572255138864, 0.31576788823018115, 0.31581904077332895, 0.31590732357383144, 0.31639875231800263, 0.3168126834065063, 0.3169325290704084, 0.3171136907035764, 0.317313948756171, 0.31740928978307903, 0.3177333891728386, 0.31786668049776395, 0.31791084722554586, 0.31834979694175725, 0.3184508224358107, 0.3184885389697796, 0.31864436958048864, 0.31875367771160024, 0.31981660691355107, 0.319907011074078, 0.31995732217930484, 0.3203408001854055, 0.3212273124449656, 0.3222971262074615, 0.3234114391680192, 0.32343979679262636, 0.32346225585292726, 0.32363080430131363, 0.3239276704838787, 0.3245257501078659, 0.32536002051498786, 0.3255206760817081, 0.32568205528991906, 0.32596601196722724, 0.32675422413121047, 0.32701849150039697, 0.32731672490107533, 0.32836982303206935, 0.32843277596128373, 0.3284943686740319, 0.3289287869759022, 0.329178986224547, 0.3293612390401315, 0.3294395678258531, 0.32945442685298637, 0.3295550395260213, 0.32978771998141704, 0.32988861132325425, 0.33006377499577483, 0.3301117026025571, 0.3306761080163995, 0.3314038035908182, 0.33158956206297674, 0.33164855513510433, 0.33188445442792647, 0.33233328713141447, 0.33240090480277196, 0.3327943394134136, 0.3329113730552746, 0.3329487808864706, 0.33322995505133024, 0.3333922794110308, 0.3333978872507482, 0.3334164353364138, 0.33347663333292765, 0.3335020821158276, 0.3336355369865301, 0.33434636690478486, 0.33465830124339774, 0.3351800593909793, 0.3354263196363828, 0.3355490849288511, 0.3357859326266099, 0.3359983353648278, 0.3362435143478156, 0.33650218618401395, 0.3365041075811048, 0.3369730292508162, 0.3372989131302311, 0.3375822195611529, 0.33804213962291096, 0.3382509030604481, 0.33850756165945617, 0.3385925255087507, 0.33895331074797647, 0.3390119773220573, 0.33909729638763414, 0.33925131099726924, 0.3394655291387751, 0.3397394242694027, 0.3397543831198192, 0.3398172032415166, 0.3408365446757071, 0.3413920971375768, 0.3415369896704346, 0.3418235845974455, 0.3418530951344305, 0.342920141905325, 0.34294817896660384, 0.34316806689115403, 0.3435000188603759, 0.3441453085948132, 0.3442686214075308, 0.34486616755537247, 0.3466536715209279, 0.34671958343628245, 0.3470671004815617, 0.3475037636794643, 0.3476092061953527, 0.3476667300663416, 0.3476855255932482, 0.34770520071673955, 0.34798870814951266, 0.3485132301706362, 0.3488242632824866, 0.3493257708168175, 0.34936265717395804, 0.3494831576157063, 0.34993718638629845, 0.3504637044245228, 0.3504894020841172, 0.35059133594965447, 0.35090115785261317, 0.35191308494418455, 0.3521133452105387, 0.352173927736313, 0.3522664225500157, 0.35252545803793617, 0.3530451896244812, 0.35337070650032343, 0.35375205044947367, 0.35438636217331987, 0.3544244525091922, 0.3544890904765541, 0.3545554242401346, 0.354564337300072, 0.3547749875826139, 0.3548973686682539, 0.35498897342063757, 0.35503371914615606, 0.3555962646351952, 0.3561878119680389, 0.3564488643662964, 0.35673633700217317, 0.35682907127361724, 0.3568807832754489, 0.35742921275998557, 0.357557519347935, 0.3576873448646051, 0.35779053492039326, 0.358016284167018, 0.35808342112276326, 0.35824493316178874, 0.3586374950913833, 0.3588704447598275, 0.35889998451260935, 0.35891565305317646, 0.35898229891900896, 0.35980793001638617, 0.35985042501807823, 0.3603709074443656, 0.3608254646882872, 0.3609515544952977, 0.36145980610447204, 0.3617401091823975, 0.3620243871965809, 0.3625983617460036, 0.3626462780711256, 0.36326529578965483, 0.363445719802014, 0.36382137175438084, 0.3644343561132137, 0.36472485713531233, 0.3650739673053387, 0.3670053465384397, 0.36749568995929294, 0.36804095081486515, 0.3684411095058184, 0.36884135205640617, 0.36936633819992826, 0.3694013782457864, 0.3703307410907694, 0.37034192410297107, 0.37034606246024104, 0.37061993805985166, 0.3707881462671959, 0.37138482233964615, 0.37181323360046603, 0.37182941185667373, 0.37202617529361254, 0.37266643591829984, 0.37271407201167733, 0.37288587432695586, 0.37298363466432105, 0.3732970327965374, 0.3740176573575165, 0.3742201613383817, 0.37483163722586305, 0.3748441478193672, 0.3750680999574742, 0.3752808389153057, 0.37532484107979563, 0.37564662803512505, 0.37644348769413727, 0.3764790512476642, 0.37653201339001746, 0.3770363788542507, 0.37728226970783085, 0.3785513404593881, 0.37916934912709527, 0.37935685928171076, 0.37940953717457665, 0.3802511229558907, 0.38032081841193416, 0.38032908777859226, 0.38092848472796104, 0.38120720250981244, 0.3820792536041683, 0.3850608466138567, 0.3859474703364954, 0.3859617262417889, 0.3863555172789224, 0.3871360314216823, 0.38730643628477546, 0.38893450285033493, 0.38909463954861434, 0.38940361582294647, 0.38954510685083144, 0.3898510891451551, 0.39050423500092923, 0.3908992659916394, 0.39161126303672644, 0.3922116740084499, 0.3924484873646119, 0.3934824352119212, 0.39407840562614355, 0.3941631241678655, 0.39428858922308274, 0.3946292166281178, 0.3948520533717166, 0.3951057606635899, 0.39542683304931997, 0.39575573461485936, 0.39583389210655184, 0.395876753800377, 0.3962163195939185, 0.3972241994692628, 0.3978361506168843, 0.3995638041863455, 0.3997983984846048, 0.39986802790430365, 0.39997467596355946, 0.4005894140016414, 0.40100503816438837, 0.4011498092076468, 0.40163628000200796, 0.40229787057888367, 0.4024773217005378, 0.40249444263490425, 0.4027759931582493, 0.4031338992180213, 0.4031603551094846, 0.40386725536904194, 0.40436095018888324, 0.4047710061923779, 0.4049593883767816, 0.40501200752204186, 0.4054161720560604, 0.40563703760590836, 0.4061021133186803, 0.40671033167646703, 0.4067353124740839, 0.4077375974018328, 0.4096340482775316, 0.4098287752391609, 0.40988307963966636, 0.4101354674299734, 0.4106142652117105, 0.41080003577737645, 0.41090131587753453, 0.4110067960300682, 0.41184993722469243, 0.4118855441727718, 0.4121841053040947, 0.4126278893407496, 0.41282318787782907, 0.41291296740341366, 0.4130770178329304, 0.41365548819858056, 0.41400793545196024, 0.4169676945529071, 0.41699246658316286, 0.41963555878418546, 0.41970839032562646, 0.4207006944868929, 0.420851170237872, 0.42136665334044826, 0.42152799497324556, 0.42184662870453543, 0.4222336322642883, 0.42225253856155404, 0.4231758808880195, 0.42343059483165335, 0.4241464924218906, 0.4244441254699456, 0.4245375472603077, 0.4246435242582306, 0.42586056584798826, 0.426269183446867, 0.4268638591084048, 0.426927899823843, 0.4276358005103051, 0.4279377359758885, 0.42802032348713454, 0.42815441753843136, 0.42868644802802, 0.42886495430015487, 0.428903571421776, 0.4309803108615041, 0.43169517347713, 0.43263718856394623, 0.43371399066812016, 0.43486595302663106, 0.43607320354306855, 0.436176392165114, 0.436599414314163, 0.4368207158494719, 0.4375595741274734, 0.4389831423595511, 0.43967001764033425, 0.4397972805712113, 0.44091859551976287, 0.4414300286197596, 0.4416089583147238, 0.44235382414573154, 0.44236269196915734, 0.442692333327752, 0.44443923975793664, 0.44449447394498237, 0.4445467275462318, 0.4447144887306256, 0.44546721114744225, 0.4454881621529669, 0.44661044811249184, 0.4470499930675006, 0.4476053191735627, 0.4491458824049365, 0.4493671441214378, 0.4494828786924501, 0.44958201890889826, 0.44971166576406546, 0.44979092150904343, 0.45042760675796545, 0.4511899127932038, 0.4514684639174052, 0.4516298802663787, 0.4522511244687124, 0.45226632291502544, 0.45334984642206616, 0.4535360532573003, 0.4537867200851285, 0.45421278220765154, 0.45458163163639415, 0.4551851559500153, 0.45531333076871766, 0.4565828038710392, 0.45680834566445305, 0.4570889860870536, 0.45733463136283736, 0.45772213352067426, 0.4578942992448443, 0.4580010566401827, 0.45833924317291286, 0.45886295997465987, 0.45926917649918336, 0.4593392370357449, 0.45984591303778977, 0.45994016486500555, 0.46008014993647417, 0.4602097970394777, 0.4608358465345187, 0.46098450044097944, 0.4610485857364487, 0.4611414417524127, 0.46233913446744596, 0.46234012575065025, 0.46239399524619784, 0.4635277870497048, 0.4637319220641805, 0.46382812780222404, 0.46409061650410366, 0.46420356338945196, 0.46447228869942414, 0.46463176023609015, 0.4650237511322213, 0.4652384347638316, 0.46538592195727424, 0.4659470430119168, 0.4679192463075305, 0.4680392541303139, 0.4680627401165306, 0.46834917102324863, 0.4688368291379475, 0.46906551020009407, 0.46922270734467325, 0.46956986395125194, 0.47008357993369165, 0.4706669437906222, 0.47081092662719537, 0.47129621422513013, 0.4715070376499018, 0.47258190324197125, 0.4731632746357615, 0.47364387039456796, 0.4736840179004301, 0.47469700022931927, 0.47480025982085466, 0.47544671475060574, 0.4757522912648703, 0.47614341052877757, 0.4772655529984231, 0.47730452708603904, 0.4775863029914504, 0.47799181163617577, 0.4790479187355035, 0.4797799312035447, 0.4799970859175719, 0.480163380015589, 0.48057484793725425, 0.48124792138751366, 0.48166235844586763, 0.48421995694054504, 0.48448081867471904, 0.4852963957075071, 0.4855533006108317, 0.4856885061799776, 0.48656194420496696, 0.4868891947366653, 0.48770177828814565, 0.4882515749488032, 0.4891586538169284, 0.48974385026842937, 0.4899359794970736, 0.4900096340675322, 0.490383104733929, 0.4906519789486862, 0.49068974050682895, 0.4931504505275926, 0.49407264409740526, 0.49408202436727966, 0.494283294637603, 0.49600540024281853, 0.49672025816377846, 0.49686701779937065, 0.49748889536837654, 0.4975014545549973, 0.4975665186050761, 0.49800795157765926, 0.49810954662955664, 0.49827646080506455, 0.49829884570779326, 0.49978292573306504, 0.5001231445951436, 0.5003362693938359, 0.5006078182053941, 0.5021248221870925, 0.5024474464284578, 0.5026996880207469, 0.5033386796899403, 0.5033957500840445, 0.5034981279592347, 0.5053996440392852, 0.5081097249637935, 0.5096354087613054, 0.5100503652809786, 0.5109008676464301, 0.511295622277299, 0.5119396533838537, 0.5119977848376938, 0.5126594117107316, 0.5135372066557272, 0.5138328235260864, 0.5142200169971767, 0.5143921627827418, 0.5146454662426052, 0.5147830293371614, 0.515889429093394, 0.5159030866417437, 0.5159277825642429, 0.5161001959119971, 0.5168601790210455, 0.5173295526044024, 0.5176561528677328, 0.5184879579247686, 0.5191503874644696, 0.5196767982873282, 0.520849106654981, 0.5216648885553119, 0.5219109781104829, 0.5238243642009794, 0.5238553425326974, 0.5241111631662613, 0.5242687016877683, 0.5244412023761279, 0.5245791646380463, 0.5248252802242975, 0.5249567699592549, 0.5259843332792219, 0.5261556647387373, 0.5275084593279112, 0.5280500860694949, 0.5284415708726703, 0.5287435006897168, 0.5293098920146423, 0.5318446677496853, 0.5323623807313328, 0.5325355481178243, 0.5326949411108107, 0.5328778708466374, 0.5332672714014357, 0.5359652219944211, 0.5367807846259829, 0.5377477287383329, 0.5379197051942053, 0.5383623496749341, 0.5389503163805319, 0.539304078599543, 0.5406843457696019, 0.540764417996271, 0.5407759149929204, 0.54099182198124, 0.5411029973684282, 0.5412350094306856, 0.5418651877983819, 0.5420696510081258, 0.5428523126584028, 0.5430014535562815, 0.5430808003948814, 0.5430979698679864, 0.543422943895033, 0.5436883703620371, 0.5439282956245922, 0.5444763906567425, 0.5450182554158404, 0.545094522038276, 0.5452204178847828, 0.545790016823243, 0.5478487294265473, 0.5478861702015465, 0.5479225753141876, 0.5480919619625583, 0.5481214598885585, 0.5484191495168025, 0.5485663880191267, 0.5487771866641582, 0.5502526984954322, 0.5505830615728748, 0.5508799151895001, 0.5512275966496355, 0.5512845914029579, 0.5519682795682418, 0.5522106440244776, 0.5533130915062965, 0.5544356192301084, 0.554936355385601, 0.5560641659792034, 0.5561454134038325, 0.5577055687388973, 0.5577378985857592, 0.5579208372808238, 0.5590151925941478, 0.5592957149823229, 0.5593747995484928, 0.5596781801199876, 0.5605070408561085, 0.5605378490770033, 0.5620734107513317, 0.5624839307521604, 0.5633992422749772, 0.563888436057508, 0.5663124429462973, 0.5663644179098566, 0.5666700187682718, 0.5671094469925037, 0.5675360446561982, 0.5683710833873917, 0.569095646820067, 0.5705834618230854, 0.5712106617265905, 0.5714650241331953, 0.5715849785198883, 0.5727046760592774, 0.5734910718418444, 0.5739154582727212, 0.5741525888083223, 0.5755075132942309, 0.5761015832612292, 0.5775726386124655, 0.5778411497718798, 0.5782293671348528, 0.5788501304326871, 0.5803532220785224, 0.5803547284505483, 0.5808433704526764, 0.5818911133638844, 0.5826979271050675, 0.5836616713924753, 0.5839533183510514, 0.5848253395634913, 0.5859891497316845, 0.5861801110515343, 0.5877091166499724, 0.5880830300181671, 0.5881030144974695, 0.589248690913054, 0.5894907744382745, 0.5896991041566302, 0.5910598088390007, 0.5913590643903328, 0.5914169623596258, 0.5920380190161185, 0.59436550899417, 0.5944398473284219, 0.5949260317725867, 0.5949796015368637, 0.5961871450501601, 0.5962717853299052, 0.5968227244753865, 0.5973198341091966, 0.5979380916525594, 0.5979558034525421, 0.5980390453907304, 0.5991872864304983, 0.6010606606117048, 0.6011246464372447, 0.6018185695865281, 0.6020870063567368, 0.603145502749052, 0.6067839307600613, 0.6071360823104704, 0.6079594351073251, 0.6081663304338265, 0.608602088306188, 0.6088779139169516, 0.6092510243300302, 0.6099995439179485, 0.6100473211619984, 0.6103792432018823, 0.6106833849475504, 0.6119483715421246, 0.6123493909265453, 0.6124652372103029, 0.6127211719420259, 0.6133351622507454, 0.6138551949047826, 0.6139675285468293, 0.6139717144273895, 0.6142574144628012, 0.6143641623194742, 0.6146975968580819, 0.617117040816661, 0.6171656383390516, 0.6212803118601647, 0.6219669879175281, 0.6233845596313753, 0.6238650049157003, 0.6256858019842526, 0.6259229153209211, 0.6262554516867039, 0.6263006812189936, 0.6269004203824788, 0.6273609822676459, 0.6274896932025983, 0.6280240814338207, 0.6282935246731582, 0.6295830570879893, 0.6302658719049812, 0.6306307236386961, 0.6311664005377549, 0.6331130475315494, 0.6340406009511199, 0.6344059642696213, 0.6344914409197743, 0.6346288649821233, 0.6356995904803827, 0.6358247427317205, 0.6376436082177968, 0.6380762288751302, 0.6382672518754515, 0.6391144414424454, 0.64063081306089, 0.6413058353530794, 0.6419613167271152, 0.6431066693591283, 0.6435970710976272, 0.6442660307700411, 0.644374204287806, 0.6445584231495656, 0.6454879821746143, 0.6469322841433679, 0.6469903869998629, 0.6483058893772818, 0.6488967642314377, 0.6518038808072782, 0.6519027317213836, 0.6523065353992102, 0.6532639451482285, 0.6541527258541115, 0.6542284457129095, 0.6560770305074913, 0.6562057791756889, 0.6577499162298029, 0.6583709310701568, 0.6597967117685577, 0.6600468695054935, 0.6614949398716568, 0.6617057990959855, 0.6631068008965694, 0.6652076852851178, 0.6659250619610705, 0.665973092078897, 0.6667171870427486, 0.6682262792057305, 0.6688832374031446, 0.6690506896182851, 0.6707144499111548, 0.6724454633024135, 0.6746111107797708, 0.674706672541816, 0.6747224583787569, 0.6762263919681253, 0.6766632915426893, 0.6778807799722167, 0.6788054274212001, 0.679173873676756, 0.6806686862853145, 0.6808868371442017, 0.681069097133167, 0.681276641510422, 0.6840786090169497, 0.6845683545515684, 0.6846212461771384, 0.6849092661449894, 0.685062279227683, 0.686344925497505, 0.6878155741361927, 0.6878316633547839, 0.6883720547983054, 0.6884688144573342, 0.6887911273913775, 0.6895943974861989, 0.6900288260738957, 0.6906516208360245, 0.691499629887485, 0.6921581307780624, 0.6927218388314613, 0.6930642773709583, 0.6946762382042406, 0.695925162628985, 0.696536133191971, 0.6972355881561696, 0.6975940258406316, 0.6985170592751735, 0.6985262918545928, 0.6988089417021677, 0.6997244879487109, 0.6999991651113474, 0.7001257979857879, 0.7035362279815807, 0.7042946603628073, 0.7067275661243133, 0.7079923189134577, 0.7117107756976472, 0.7119802261987438, 0.7124100176185947, 0.7166670031143139, 0.717168720353598, 0.7173760747113852, 0.7199390486765535, 0.7212816632476666, 0.7252277646028145, 0.7285249243062372, 0.7285798793604273, 0.7292420098231817, 0.7324739559200804, 0.7347412950642769, 0.7351989000121959, 0.7352978856651967, 0.7376248667918215, 0.7378597522284831, 0.7391904271109602, 0.7412379719429113, 0.7428348971251895, 0.7434317992353248, 0.7435954305904982, 0.7445176090307344, 0.7449764792570902, 0.7456608882313998, 0.7470803308523409, 0.7492390810421855, 0.7504678841796866, 0.7505339258406001, 0.7511348186970792, 0.7513844229630172, 0.7520510665906205, 0.753319614911599, 0.754261562098435, 0.7604253837354094, 0.7616181489688862, 0.7626972688362358, 0.7644011035871734, 0.7645107150304868, 0.7652246774027206, 0.7673217860758182, 0.76958809544478, 0.7699856395380391, 0.7701653443277904, 0.7707040955222301, 0.7727338406564214, 0.7727965317197494, 0.7744551080640152, 0.7753045394009939, 0.7763075740135534, 0.7767433312739095, 0.776827002641518, 0.7770616653378488, 0.7774611478090317, 0.7787797957463769, 0.7790004888237211, 0.7801694027916448, 0.7803722733876665, 0.7806530521053139, 0.7808180466007901, 0.781217415142319, 0.7822018251237182, 0.7835368377624223, 0.7850408937624089, 0.7862527286736284, 0.7870583176124707, 0.7874578418647795, 0.7877016811382422, 0.788080027317027, 0.7896100998590417, 0.7898030148243131, 0.7899202007137185, 0.7902953980619399, 0.7913252409309571, 0.7924963039312999, 0.7932040026424069, 0.7943501581074434, 0.7990333653250856, 0.7995165722393246, 0.8000800566767565, 0.8011581321686262, 0.8014349927088067, 0.8036338409565371, 0.8048658421131186, 0.8066574556611685, 0.8073052077536089, 0.8079535968334625, 0.8086895896739885, 0.8093319365290047, 0.8099102661495042, 0.8108642958545624, 0.8109328253819011, 0.8120159775763915, 0.8132101013545389, 0.8159837280232327, 0.8174579126707846, 0.8175867300837456, 0.817880376724208, 0.8179553900517105, 0.8186862503822815, 0.8189666104690915, 0.8251399885313873, 0.827097643107849, 0.8272257556940188, 0.8274957427341555, 0.8276703015644911, 0.8282935211572863, 0.8316457677662003, 0.832427902476656, 0.8329309826623154, 0.8348541801962637, 0.8363288271795706, 0.8392901486517585, 0.8422775834590722, 0.8435535560502251, 0.8452237100976929, 0.8466966674980877, 0.8477191300548066, 0.8488982338592718, 0.8503256310071088, 0.8523537480713154, 0.8525989250456072, 0.8601418836037213, 0.8607420200406329, 0.8625788427660388, 0.8678022601114627, 0.8680243903717384, 0.869742198818295, 0.8713462358943914, 0.8738363791801226, 0.8777423838229994, 0.8791354207273637, 0.880055176191573, 0.884761789584635, 0.8864508975806622, 0.8892132016762253, 0.8922613494171117, 0.8957221569624124, 0.8968893376467741, 0.8985202956056132, 0.8990878481542378, 0.9007149056561697, 0.9044444184048386, 0.9044881773048172, 0.9061258385291289, 0.9065853300675929, 0.9073661169324305, 0.9076282813785248, 0.9112815510012333, 0.9146019506127305, 0.915715344467769, 0.916775070027529, 0.9208889393404811, 0.9245955266002958, 0.9248326402119887, 0.9255521401527593, 0.9286332360146539, 0.9288007303430038, 0.9295408428887777, 0.929667654544724, 0.932996506301735, 0.9331574400398985, 0.9339257272172296, 0.9343406586661591, 0.9344790609114806, 0.9369610356742655, 0.9394299680222583, 0.9408569250031655, 0.942631654215365, 0.9459761607271215, 0.9474197171758916, 0.952720037228821, 0.9550103608950598, 0.9562794259575476, 0.9625095585103124, 0.9629562464495914, 0.9629665849473666, 0.9631930371074346, 0.9636712406265344, 0.9659823141756411, 0.9677283511313226, 0.9749802331721428, 0.982849895022229, 0.985942607042609, 0.9916287831213012, 0.9940832049723131, 0.9943896276912102, 0.9959985775975505, 0.9962782808057287, 0.9971372390739286, 0.9993731498723628, 0.9993833917656905, 1.001899257089456, 1.012178641317216, 1.012398126788836, 1.0143875230000508, 1.0163337742975846, 1.017027698536394, 1.0181629123024662, 1.0203922012011382, 1.0207020900471655, 1.0250553523066928, 1.0304333223857471, 1.0313031148043914, 1.0321414209835877, 1.0323315341116701, 1.0339258392638937, 1.0340305069436615, 1.0363521236947004, 1.0380518740962679, 1.0400668047949346, 1.0409454180343325, 1.0447170584456595, 1.0473954424478868, 1.0474698952261428, 1.0495159186636658, 1.0504288619427862, 1.0519840195959005, 1.054190491969798, 1.056148738874586, 1.0565999635372068, 1.0584234566978297, 1.0601311968203957, 1.0619780811007238, 1.0620444273720613, 1.0658871083319905, 1.0675365597642583, 1.0693061807062672, 1.071450151986632, 1.0716259379210695, 1.0719549706046343, 1.078048640474343, 1.0805398397071608, 1.0921299605736103, 1.094664195932012, 1.095631849139603, 1.1015892685346982, 1.1016222036086323, 1.103350916259961, 1.105206912174928, 1.1057834372905853, 1.108083147939851, 1.1107238734974265, 1.1113336718377824, 1.1123152674633026, 1.1141187242426418, 1.1151588596296798, 1.115730978433034, 1.1172534282943234, 1.1240779823458233, 1.1268448886755875, 1.1293754640771672, 1.129789770900359, 1.1312234555559295, 1.135116223258631, 1.1369753018153252, 1.1420712483358357, 1.1432958420706132, 1.1438218605020862, 1.1560325050368743, 1.1578836205135667, 1.158354240741859, 1.1649987447815104, 1.1665076183531633, 1.1680456507391164, 1.1692487687425472, 1.1706368303766286, 1.1735745511322282, 1.1737128177033853, 1.1761966787569826, 1.1769554922528322, 1.1770330055986589, 1.1800957313900045, 1.180178446820678, 1.1822275684461432, 1.1837364447074372, 1.1857955400976188, 1.1883227133719045, 1.188537269834963, 1.189537748179395, 1.1906708270161108, 1.1907001787930616, 1.197436103081849, 1.198244797842423, 1.2024908999840593, 1.2059006296988246, 1.2070646102407345, 1.2119837256754218, 1.2210262592721992, 1.2221203578425146, 1.2231632011555706, 1.2232476535009034, 1.2318100268575243, 1.2332163464188262, 1.2353838044166012, 1.2367963654690985, 1.2382926477149763, 1.2431606841791183, 1.2442062611421312, 1.245041912380001, 1.246117245464292, 1.251507962060154, 1.2526745955420644, 1.255237509132382, 1.2570514800542105, 1.2631588812998975, 1.2636106123047453, 1.2646097629048405, 1.2656181673026747, 1.2664563524242618, 1.2682583948755612, 1.2732825583367662, 1.2739233544248092, 1.2782780091200403, 1.2791820916859418, 1.2798503030711792, 1.286380604150421, 1.2896426901124383, 1.2998685932272176, 1.3019783496944075, 1.3066219072088114, 1.3166459610305643, 1.3168869801312926, 1.3168914130385958, 1.3202135191756341, 1.3285833139571321, 1.3305394726247852, 1.335110482490281, 1.3396262123523222, 1.343294688836977, 1.3480332826090073, 1.3540623089137944, 1.3542187697236525, 1.358737036552732, 1.3644555869739872, 1.3680695584267193, 1.3785079202582207, 1.380854061603542, 1.3824743453418014, 1.3836470040376707, 1.3893093983432883, 1.392138048199238, 1.3935050169144338, 1.3950438165712273, 1.4019691977587576, 1.4021197130513128, 1.4025082935730109, 1.402726459282173, 1.4040878181349012, 1.4082373398417667, 1.4117587903935305, 1.4119838247430263, 1.4126324993240034, 1.4221622641919254, 1.429144590720509, 1.4328377754574766, 1.461022382417049, 1.4637056432427082, 1.4656245320465757, 1.4657611539222333, 1.4783180794432198, 1.4885214317650497, 1.4905609360370575, 1.4931429979582151, 1.4948054915902358, 1.4974175843021573, 1.5022013754763788, 1.5043893478382215, 1.510296263909396, 1.510518073061137, 1.520369912533419, 1.521149675204657, 1.5224655303731849, 1.541299634166762, 1.545787066320509, 1.546014625131981, 1.5479263809313215, 1.5534744702547705, 1.557593079559764, 1.5589536172604692, 1.5631709501164786, 1.5683333072578296, 1.5696176959275412, 1.57988131376905, 1.5800531736161716, 1.5898990541969715, 1.5931999670556405, 1.5932758751164164, 1.5936329686617483, 1.5975659644444138, 1.6051867998449658, 1.607415625914652, 1.6118456984142748, 1.6228469884907917, 1.632531026144535, 1.633184816341717, 1.6427766440961418, 1.6449725147836693, 1.6479326938216479, 1.6677937786021133, 1.6719295528851754, 1.6768888260782853, 1.6845100617773239, 1.6933155902821442, 1.6979274645025781, 1.6981391446431366, 1.717121153776757, 1.7240319804484412, 1.7242185953205564, 1.7279922519400572, 1.7364113250792996, 1.740153200136441, 1.740849927986786, 1.7444925946729868, 1.7467685545029559, 1.7504386264791487, 1.7537016503111156, 1.7624285140246179, 1.7638985267522649, 1.7640745366838468, 1.7674241702924889, 1.7726505974880526, 1.7753240466849691, 1.779713114259186, 1.7899174368807607, 1.8042098188241604, 1.8070483608824894, 1.820573721008008, 1.8274719893816305, 1.828286598516312, 1.8352518605392458, 1.8470221751626859, 1.8506798220876035, 1.8577904613657195, 1.8694990649751477, 1.874470692913813, 1.9026220326982972, 1.9068629356758324, 1.907101435432472, 1.909159467804447, 1.9329237221545277, 1.935395403235816, 1.9392565872806855, 1.942651171757096, 1.9447153301172975, 1.947220501097425, 1.973201335075552, 1.9815854805884243, 1.9866642932104952, 1.9896375674386209, 1.9945930819241846, 2.0011740990540563, 2.0056223529679498, 2.022340837062437, 2.0237691287369564, 2.0477154299330653, 2.06387758008694, 2.0728159001404878, 2.096827354431815, 2.113452545242796, 2.1156601618186146, 2.1522076254611404, 2.1529843594367044, 2.162758138031885, 2.1637580448811806, 2.1831209181556033, 2.197291119060961, 2.2055690282868214, 2.2339883585889626, 2.255217883312623, 2.261598651332153, 2.264247126938408, 2.2695021104419943, 2.31241336591667, 2.3240217129956213, 2.3266722250650647, 2.333613847283002, 2.3510396526560373, 2.3656866772139984, 2.3966272484074334, 2.439579991314615, 2.446089040749514, 2.453411613524417, 2.484164646619992, 2.5014258956469813, 2.5205089534013925, 2.547316559165858, 2.553579869179475, 2.5694740765465145, 2.6199283322986187, 2.623641733884077, 2.645291815931019, 2.7158159763302008, 2.7495101332372998, 2.7773921856918413, 2.8113717447611837, 2.81659643591917, 2.8196482696725123, 2.8354769687516312, 2.8528845484452443, 2.873442330872795, 2.8801160415754485, 2.9391695722334372, 2.968788365197027, 3.0452579686800965, 3.0598571121507376, 3.072839709901799, 3.073516943118607, 3.0936648963467746, 3.1184617600953923, 3.119010033143893, 3.1595084062089045, 3.229732428621994, 3.2501685133039873, 3.391417345197157, 3.4621699041693836, 3.5104421824080667, 3.511963024611181, 3.557685723812936, 3.5852143689321485, 3.671114023736047, 3.7065132125904294, 3.770237927729247, 3.793302105144272, 3.929841714142213, 4.004985572849843, 4.304749805161934, 4.319544432639223, 4.332957425433117, 4.689998300732808, 4.743146323273765, 4.806650394137276, 5.013385957020756, 5.115414883767687, 5.957633090674051, 6.216154590260437] will be ignored\n",
            "  warnings.warn(\n"
          ]
        },
        {
          "output_type": "stream",
          "name": "stdout",
          "text": [
            "Random Forest Validation NDCG: 0.0\n"
          ]
        }
      ]
    },
    {
      "cell_type": "code",
      "source": [
        "# Train a Gradient Boosting model on the training subset\n",
        "gb_model_ndcg = GradientBoostingRegressor(n_estimators=100, random_state=1)\n",
        "gb_model_ndcg.fit(train_subset[features], train_subset['relevance_score_1'])\n",
        "\n",
        "# Use the Gradient Boosting model to predict relevance scores for hotels in the validation subset\n",
        "valid_subset['gb_ndfc_predicted_score'] = gb_model_ndcg.predict(valid_subset[features])\n",
        "\n",
        "# Binarize the relevance scores using MultiLabelBinarizer\n",
        "\n",
        "train_relevance_bins_gb = binarizer.fit_transform(train_subset['relevance_score_1'].values.reshape(-1, 1))\n",
        "valid_relevance_bins_gb = binarizer.transform(valid_subset['relevance_score_1'].values.reshape(-1, 1))\n",
        "valid_predicted_bins_gb = binarizer.transform(valid_subset['gb_ndfc_predicted_score'].values.reshape(-1, 1))\n",
        "\n",
        "\n",
        "# Evaluate the Gradient Boosting model's performance on the validation subset using NDCG\n",
        "valid_ndcg_gb = ndcg_score(valid_relevance_bins_gb, valid_predicted_bins_gb, k=5)\n",
        "#valid_ndcg = ndcg_score(valid_subset[['relevance_score']], [valid_subset['gb_ndfc_predicted_score']])\n",
        "print('Gradient Boosting Validation NDCG:', valid_ndcg_gb)\n",
        "\n"
      ],
      "metadata": {
        "id": "hXySUsh-AYBI",
        "colab": {
          "base_uri": "https://localhost:8080/"
        },
        "outputId": "6cf472df-c73e-4b10-cdbb-286dec5111af"
      },
      "execution_count": 25,
      "outputs": [
        {
          "output_type": "stream",
          "name": "stdout",
          "text": [
            "Gradient Boosting Validation NDCG: 0.0\n"
          ]
        },
        {
          "output_type": "stream",
          "name": "stderr",
          "text": [
            "/usr/local/lib/python3.10/dist-packages/sklearn/preprocessing/_label.py:895: UserWarning: unknown class(es) [0.0537222927217972, 0.05507182038711434, 0.05649429549379998, 0.057995796995301475, 0.059583098582603064, 0.06126377085151063, 0.06304630204580654, 0.06494024143974593, 0.06695637047200399, 0.0691069081064126, 0.07140575868112524, 0.07386881286831735, 0.07651431551382, 0.07936331836282286, 0.08244024143974593, 0.08577357477307926, 0.08939676317887636, 0.09334933234883684, 0.09767833667784116, 0.10244024143974594, 0.10770339933448277, 0.11355135255085703, 0.12008730026327534, 0.12744024143974592, 0.13577357477307925, 0.14529738429688877, 0.15628639528589977, 0.16910690810641257, 0.18425842325792774, 0.20244024143974593, 0.22466246366196813, 0.2524402414397459, 0.2881545271540316, 0.33577357477307923, 0.40244024143974594, 0.502440241439746, 0.6691069081064126, 1.002440241439746, 10.000412316725216, 10.000518769064763, 10.000915599992675, 10.001169481218131, 10.001236399604352, 10.001305909239308, 10.001603849238172, 10.001870522436917, 10.00192778516762, 10.001970909377587, 10.001996207206307, 10.00243926236706, 10.002589868434683, 10.002815156804234, 10.003219782342713, 10.003296848213107, 10.004067686300033, 10.004135478268061, 10.004484304932735, 10.00551511140525, 10.005670541536716, 10.006062443164595, 10.006158393890873, 10.00679763442322, 10.007057661091114, 10.007400281210685, 10.007751937984496, 10.007983394539359, 10.007986582541331, 10.00817394147458, 10.008289124668435, 10.008314625426124, 10.008325008325007, 10.00890789239266, 10.009004141905276, 10.009052231375033, 10.009092562284051, 10.009309253397877, 10.009352787130565, 10.009756097560976, 10.010477787091366, 10.014388489208633, 10.016455487905217, 10.01695489996609, 2.002440241439746, 3.0564942954938, 3.0579957969953013, 3.0630463020458065, 3.066956370472004, 3.069106908106413, 3.0714057586811254, 3.07651431551382, 3.082440241439746, 3.0857735747730795, 3.0893967631788763, 3.093349332348837, 3.0976783366778413, 3.102440241439746, 3.1077033993344827, 3.113551352550857, 3.127440241439746, 3.1357735747730793, 3.1452973842968888, 3.1562863952858997, 3.1691069081064125, 3.1842584232579276, 3.202440241439746, 3.2246624636619683, 3.252440241439746, 3.2881545271540316, 3.3357735747730795, 3.402440241439746, 3.502440241439746, 3.6691069081064125, 4.0024402414397455, 5.0024402414397455, 8.067933467614234, 8.071465822015325, 8.078408872715302, 8.079321772419506, 8.081245617390197, 8.083939261736834, 8.090758162700608, 8.092590667555354, 8.092948408961135, 8.093822843822844, 8.095814826440984, 8.095985362109513, 8.096969696969698, 8.098286968679359, 8.100275017667544, 8.100444530391945, 8.10386727511795, 8.10726048148113, 8.108708525646607, 8.109003293287637, 8.10920202665163, 8.1121405134144, 8.112244398187828, 8.113369620043514, 8.113734862401683, 8.113923698134224, 8.114869888475836, 8.117831541218637, 8.12608225108225, 8.133555987008899, 8.134940357852882, 8.135372368011618, 8.1354375333165, 8.13664832371986, 8.136916535282595, 8.137521113391124, 8.137645908803403, 8.139058087168918, 8.139096357768556, 8.139281465619796, 8.139653247382501, 8.140286469197608, 8.145915714504183, 8.147067314632151, 8.14763041254688, 8.1479237689908, 8.148904006046862, 8.149060616802553, 8.154233498520938, 8.158694963573012, 8.160156098318643, 8.160522612652402, 8.161284416268051, 8.162595825733458, 8.163418279815332, 8.167656814693796, 8.169608189198728, 8.169874363495136, 8.170514004309018, 8.171275598777097, 8.171880702852077, 8.172694757570277, 8.173118695829839, 8.177041186845107, 8.201470069387275, 8.201707650273223, 8.202160573848413, 8.203696037847427, 8.223258749441426, 8.225270166383885, 8.225440346699276, 8.225657821906147, 8.226418789430245, 8.22913593903638, 8.231296632385561, 8.234783458247847, 8.25098564895127, 8.251156363468166, 8.25170033326532, 8.254419498828833, 8.25633593106507, 8.261968880909635, 8.266406890894176, 8.286279717477981, 8.286675935135374, 8.286755984934054, 8.2872057322683, 8.287456597762374, 8.287729723971335, 8.28801160474298, 8.288361048723127, 8.288544420994754, 8.289772562569933, 8.292387180416007, 8.298639192008716, 8.298794730449407, 8.334701771671503, 8.33497817838893, 8.335400303155575, 8.335454179126636, 8.336006772713096, 8.336111882930444, 8.336463811670423, 8.336901703301931, 8.337182299885814, 8.344918134074762, 8.345500263616824, 8.500984174474452, 8.501125593750704, 8.501749413946328, 8.502246181491465, 8.50229600036736, 8.503085657862256, 8.504409948844593, 8.5044927666457, 8.50537750053775, 8.505952380952381, 8.506023370678232, 8.507783312577834, 8.508716116098666, 8.5090661831369, 8.510112245929822, 8.510118385105738, 8.520738282870179, 8.667042446880334, 8.667240726070332, 8.667864199748518, 8.667871485943774, 8.667932585597217, 8.667961265599917, 8.66800977784941, 8.668389853873725, 8.669136046358487, 8.66990144702508, 8.67028121159546, 8.671637833896732, 8.672239560112944, 8.672308733920108, 8.673250812044596, 8.674052191038896, 8.675725458223873, 8.67621320604614, 8.676996178080776, 8.678461901391836, 9.00026440127653, 9.001314647805852, 9.001413307705354, 9.001785746174038, 9.001950458357713, 9.002003124874804, 9.002342030071667, 9.002491590880778, 9.002566076469078, 9.003220611916264, 9.003826432999158, 9.004375218760938, 9.00502664119835, 9.00515304544986, 9.005636978579481, 9.005761696243374, 9.005826147751106, 9.006208866261021, 9.006862475981334, 9.007314218841428, 9.007444907683144, 9.007564296520423, 9.007694675284704, 9.007831466833737, 9.008495454931612, 9.008744316194473, 9.009502993442934, 9.00981450583963, 9.010319917440661, 9.018628912071534] will be ignored\n",
            "  warnings.warn(\n",
            "/usr/local/lib/python3.10/dist-packages/sklearn/preprocessing/_label.py:895: UserWarning: unknown class(es) [0.05507182038711434, 0.05649429549379998, 0.057995796995301475, 0.059583098582603064, 0.06126377085151063, 0.06304630204580654, 0.06494024143974593, 0.06695637047200399, 0.0691069081064126, 0.07140575868112524, 0.07386881286831735, 0.07651431551382, 0.07936331836282286, 0.08244024143974593, 0.08577357477307926, 0.08939676317887636, 0.09334933234883684, 0.09767833667784116, 0.10244024143974594, 0.10770339933448277, 0.11355135255085703, 0.12008730026327534, 0.12744024143974592, 0.13577357477307925, 0.14529738429688877, 0.15628639528589977, 0.16910690810641257, 0.18425842325792774, 0.20244024143974593, 0.22466246366196813, 0.2524402414397459, 0.2881545271540316, 0.33577357477307923, 0.40244024143974594, 0.502440241439746, 0.6691069081064126, 1.002440241439746, 10.000307368861076, 10.001104545203512, 10.001289091705983, 10.003125390673834, 10.004018485031143, 10.004118955432903, 10.004252966444096, 10.004369865408146, 10.004836993324949, 10.005100479445067, 10.005222750300309, 10.006900358818658, 10.007880841673892, 10.01246105919003, 10.012759984688019, 2.002440241439746, 3.0738688128683176, 3.079363318362823, 3.0857735747730795, 3.093349332348837, 3.102440241439746, 3.1077033993344827, 3.127440241439746, 3.1357735747730793, 3.1691069081064125, 3.202440241439746, 3.2246624636619683, 3.252440241439746, 3.2881545271540316, 3.3357735747730795, 3.502440241439746, 3.6691069081064125, 4.0024402414397455, 5.0024402414397455, 8.080415672620198, 8.092454470995325, 8.097512011148684, 8.106977880120018, 8.119436119436118, 8.134086436116801, 8.13506125481658, 8.140029014618904, 8.14838811630847, 8.15303422407025, 8.154392214021986, 8.158947674099188, 8.176681689200466, 8.179431537741468, 8.18080693815988, 8.222935183864886, 8.252935047401015, 8.287688073808397, 8.290623465881199, 8.290667723400041, 8.300065606035757, 8.334033888172767, 8.334975639130674, 8.338019808166964, 8.34326875310482, 8.350000000000001, 8.502876456205954, 8.506205398696867, 8.506865774116031, 8.512704865963665, 8.512779552715655, 8.667661444085219, 8.668682592480597, 8.670314437878456, 8.672776895189212, 9.000667877751656, 9.001419647927314, 9.001606219281056, 9.001663339986694, 9.002592554184382, 9.00333678134072, 9.005973358819665, 9.006060606060606, 9.006380399413004, 9.007611508601006, 9.00836610056053, 9.011321181931393, 9.01237470610073] will be ignored\n",
            "  warnings.warn(\n",
            "/usr/local/lib/python3.10/dist-packages/sklearn/preprocessing/_label.py:895: UserWarning: unknown class(es) [-0.04399007708210685, 0.039108465523455566, 0.05050828770743014, 0.07277060242564254, 0.07917922687071179, 0.10515905741388139, 0.10589583874691856, 0.10893155060065544, 0.1186315402572684, 0.12396300746834579, 0.12432223790866938, 0.13875853458277798, 0.1397616551995571, 0.1413970127661098, 0.1415692082120244, 0.1429065978773214, 0.14318795343722213, 0.14996113168395866, 0.15252135820424684, 0.15321660705895043, 0.15849486969049825, 0.16005992753953902, 0.1605009080188846, 0.16100491779756146, 0.16234101979133367, 0.16340085334564405, 0.16507420004955203, 0.16642455568698591, 0.16747133552484167, 0.1682600730711588, 0.17065455778364041, 0.17134220867138344, 0.17631848242427908, 0.1767500363410033, 0.17764786177245911, 0.17798633731811242, 0.1781127659895096, 0.17894042765162269, 0.17895897124347337, 0.18028699416100297, 0.1804467318052465, 0.18080499105917047, 0.1819622818040879, 0.18264492426390927, 0.1839031471295145, 0.185592896965236, 0.18568131776125785, 0.18575493874440321, 0.18722047242900022, 0.18737958067026333, 0.18745698275096315, 0.18808772717542052, 0.18825700281326152, 0.18898111806628193, 0.18989311088472083, 0.18990576452373145, 0.18995235423351256, 0.19021708294551612, 0.19090037795206952, 0.19101879111980558, 0.19118747071925157, 0.19124637051165563, 0.19209108135633296, 0.1945069043024113, 0.1945100021034215, 0.19487370947460647, 0.19603422212657434, 0.19656131406455887, 0.19776294141855688, 0.1992555379341392, 0.20058222996118125, 0.20075919814444565, 0.20165328863360374, 0.20167544975794185, 0.20183793751182852, 0.2028521506486228, 0.20327049603624733, 0.203533380294535, 0.2035400768160338, 0.2036202834973706, 0.20438860353035976, 0.20491129302986755, 0.2049774985024637, 0.20509410579048976, 0.2052054766700978, 0.20564513496263181, 0.2058765156619035, 0.2063178012489386, 0.20722580591281323, 0.20730459335384066, 0.20785091213263907, 0.2080227580533282, 0.2084693111707827, 0.20884961620468243, 0.20963555537339665, 0.20975587884090494, 0.2098293169557042, 0.21009926511066793, 0.21248402524504675, 0.21314382055590286, 0.21329068238611326, 0.21430927203822892, 0.2151287360919003, 0.21586337135771938, 0.21609096044871687, 0.21673905012978323, 0.21704917007023114, 0.21846925780062582, 0.218754316830813, 0.21916844727282542, 0.21968738532259227, 0.22050390745016898, 0.2218855856400439, 0.22216935068698737, 0.222211899131269, 0.2224507741808337, 0.22277580574750697, 0.22478561782812873, 0.2253467350632876, 0.22584623919011118, 0.2262299233354348, 0.22737587596653133, 0.22831745431894576, 0.2284962839209045, 0.22964279127047918, 0.22988372397157264, 0.22989546506054198, 0.23159396174619992, 0.23333868766938626, 0.23347429325162963, 0.23427732753146277, 0.23528521582786519, 0.2359861823911623, 0.23680405867788795, 0.23795802136728783, 0.2380728777571926, 0.2387469027975423, 0.23953433302317176, 0.23958387092560693, 0.2398471426847438, 0.2398607507744588, 0.24032729668342404, 0.24095600966934844, 0.24108117508700913, 0.24134912154620994, 0.2418048373744939, 0.2418364917159025, 0.24200230172322873, 0.24224646042758274, 0.24251652646447847, 0.24254478786005332, 0.24267237149294488, 0.24267909435222731, 0.24341705270634306, 0.24345640100679566, 0.24348692918714954, 0.24402666497129435, 0.2441570951113355, 0.24699183303189687, 0.24750468377699425, 0.2483862950742126, 0.24870205865127085, 0.24893363378398584, 0.24964522700103797, 0.25030521499366964, 0.25057424337478035, 0.25208365281578954, 0.2524609672022888, 0.2530207434269017, 0.25325652124751497, 0.2535126468961698, 0.2536248357689106, 0.25410754354404935, 0.25440071532415526, 0.2547897354613625, 0.25513752638971715, 0.25578924534596803, 0.2559658251508794, 0.2565255841211472, 0.25715073758963647, 0.2583730358537665, 0.2592756546847824, 0.25969706362667033, 0.2600491912662405, 0.2606420108272915, 0.2611894869357109, 0.26119519263459745, 0.2617324897919852, 0.2618792841623809, 0.26192107486924826, 0.26268916125226177, 0.2628121611161086, 0.2629550621141703, 0.26362586692219675, 0.2655330479438777, 0.26630516247167824, 0.2668229285855565, 0.2678408213915564, 0.2680341347275113, 0.26823973506612225, 0.2685688275460445, 0.2694587715248456, 0.26972131953710016, 0.2701511900910034, 0.270303078779283, 0.2703695686319558, 0.2704596860555827, 0.2705576553277998, 0.2710177816617286, 0.27165113739112234, 0.27229601868151737, 0.27271737691829256, 0.27304139525037974, 0.2743612020253765, 0.2754261826774674, 0.2754462692982333, 0.2763159119437884, 0.2763541872599071, 0.2763606356003757, 0.2767489674928661, 0.27698578906886506, 0.27786757658965733, 0.27852861086372865, 0.27905740167599186, 0.2793191312213022, 0.2795302010289116, 0.27968471286735036, 0.27975334463934415, 0.27988904216404464, 0.2804221002558477, 0.2814443292154483, 0.2814465116274038, 0.2815193038879339, 0.2820993688377381, 0.28261124051715214, 0.2829313567112327, 0.2830580169266248, 0.2831334947388091, 0.283395414926795, 0.2836652304969969, 0.2840756592265007, 0.28421886527802104, 0.2843852624512388, 0.2850486225741992, 0.2853408889674858, 0.28537930403015827, 0.2859581502315828, 0.28599901906202174, 0.28633248214814055, 0.28783180903228356, 0.2879634771394964, 0.28879430495256414, 0.2889201187909613, 0.2892088395578095, 0.28968989281405844, 0.2897486573572555, 0.2900726569502809, 0.2902161838437489, 0.2908411921562671, 0.29090823235420016, 0.2918399848292814, 0.2919241341941669, 0.29225508711450876, 0.29255242839752116, 0.29269600290263864, 0.29305355809195954, 0.2934727107144126, 0.294183434887944, 0.294988914408022, 0.2955617220834191, 0.29568218992134687, 0.29586503560149024, 0.2962437455372388, 0.296360471652975, 0.29657195100732614, 0.29676587849742125, 0.2970708799090861, 0.2971718696788255, 0.29728681679037383, 0.29823702806893826, 0.29857002837907376, 0.2997123832049576, 0.2998069121414176, 0.3003920026120013, 0.3008868694974263, 0.30185800750876496, 0.3025403984675416, 0.3025729530069079, 0.30258244138130047, 0.3026435665128772, 0.3030633301894341, 0.30379089653754304, 0.3038621335790645, 0.30396568936169094, 0.3047345421028809, 0.3054407328075068, 0.30584658445764673, 0.3059734992766908, 0.3060403485796942, 0.3064076818429911, 0.30731497086083026, 0.3085145260191111, 0.3089126876516525, 0.30901960657382355, 0.31006361596490556, 0.3100779359419417, 0.31018271039367423, 0.3102446736147588, 0.3114974711445188, 0.3117261146557546, 0.3117264821529752, 0.3124611198057163, 0.3128076914993927, 0.3130620002078966, 0.3133855918941824, 0.3134106332319746, 0.3138684711801543, 0.3141107804041074, 0.3141631479832152, 0.3150068812624508, 0.3153032656072245, 0.3153760220402816, 0.3157789446420012, 0.3160052139206381, 0.31618511500684815, 0.31657541548491674, 0.3173465828945608, 0.31803092875825606, 0.3186001812778266, 0.31969534129548577, 0.3198475004544378, 0.3199056635704029, 0.320893043328685, 0.32101631195733943, 0.32127252852174315, 0.3214677762931698, 0.3217333528707277, 0.32175891702220066, 0.32280003509602967, 0.3240728996174971, 0.3245252841928389, 0.3247935029653148, 0.3247986336818476, 0.3248139392647185, 0.3249375466005784, 0.3249850730280739, 0.32504468397802355, 0.32511529797543764, 0.32554369196971356, 0.3256816359368754, 0.3260626030482331, 0.3262834551276775, 0.3268059361519768, 0.3270876241989432, 0.3273618489326565, 0.3275602422865133, 0.32787115094376107, 0.3287196894730646, 0.329030857014269, 0.32905696424034053, 0.32914063240572894, 0.3295326929744532, 0.32961140706758474, 0.3297144508653804, 0.33024724046004733, 0.3305006728004656, 0.3307657249403504, 0.3314715033181462, 0.3315625577645462, 0.3316357561089133, 0.3320095105138269, 0.3328644800863777, 0.33297219701350395, 0.3331962459829228, 0.3336153334612104, 0.33391592829497274, 0.3340402060272966, 0.3342599258019078, 0.3343618195092008, 0.33453185368262184, 0.33468239736740824, 0.33476688692047224, 0.33483258821678713, 0.33511706389571794, 0.3355249999442868, 0.3355955917840239, 0.33634884792962594, 0.33686648724795226, 0.3370868853336309, 0.33712515661155473, 0.33727840886817023, 0.3374467621322767, 0.3378495834382075, 0.33828950485605885, 0.3383640569707722, 0.3384288527607274, 0.33844971406921637, 0.338679726430866, 0.33891023064096076, 0.3389452909038076, 0.33997441914647153, 0.3400495982473411, 0.34040515980249747, 0.34084059586430193, 0.3409902446807835, 0.3410861900840283, 0.34140577984910125, 0.34153806678416676, 0.3416535680311617, 0.3416644920333773, 0.3424517100301276, 0.3425411240146042, 0.34265184427799367, 0.3427854817938888, 0.343660301464044, 0.3438405490902762, 0.34384323284359203, 0.3438930741698134, 0.3439588330950663, 0.3448063400872155, 0.344843990418547, 0.34519527986728205, 0.34520157959257874, 0.3453344752093539, 0.3453363214188411, 0.34563950769818963, 0.34564763663952497, 0.34597334689118087, 0.346074426558838, 0.3461036822786502, 0.3464220064603603, 0.3464382399838352, 0.34657469524788326, 0.3466209621653747, 0.34700223734669594, 0.34720942876476235, 0.34804830101009826, 0.3481979142790495, 0.3486004602212001, 0.3490036695847312, 0.349077896413239, 0.3491015728918309, 0.3494121572610727, 0.34975627510165236, 0.3500139471208772, 0.3508692938161499, 0.3508737508363536, 0.3510244331378903, 0.35182157581141876, 0.35274348429224117, 0.3528490632716219, 0.35291110056397246, 0.35308313229708566, 0.3532354350282831, 0.35335135914619115, 0.35411511812522745, 0.35464065590733096, 0.35502665851679693, 0.35514130254077225, 0.35533635448273415, 0.35545717573496316, 0.35599041604132425, 0.35644298536183816, 0.3565876305145607, 0.3566672972722227, 0.356878222588139, 0.35703171564720654, 0.35737346624434846, 0.35805299620459047, 0.3581027260987754, 0.3581821346742351, 0.358225839436475, 0.358664781836965, 0.35894575855967836, 0.35921145151160216, 0.3594988913268172, 0.3601883330270583, 0.36034046444960754, 0.3604430152488631, 0.36079122543273556, 0.3611670180413557, 0.36151881747109316, 0.3621461286624517, 0.3621465963686865, 0.3624427030664409, 0.3632371964784393, 0.3633551882843181, 0.36364708737917867, 0.3637762925694104, 0.3639468430890373, 0.36465632563128064, 0.36502075263147965, 0.3652892805582839, 0.3658456240550843, 0.36591061162410043, 0.3660182506309228, 0.36611838455366935, 0.36616912231014614, 0.3662336901529129, 0.3666791538670666, 0.366815907580987, 0.36683728882592453, 0.3676139475715227, 0.3676564825860691, 0.36775129655688554, 0.3677629026232848, 0.36797360569347465, 0.36815303714022224, 0.3687255917452666, 0.36886800741249387, 0.3693956019312501, 0.36945016324190516, 0.369460404849301, 0.36950098339955334, 0.3696226903584132, 0.36987234315225137, 0.3701278339268977, 0.3710242721473692, 0.37141890931405086, 0.37163476860728073, 0.3720569722758722, 0.3721608278292036, 0.3723382966358914, 0.3723981006558318, 0.3726592869418852, 0.37295357295024584, 0.37315247968421444, 0.3736980982298944, 0.37433862659198414, 0.3746707982445288, 0.3747747116933423, 0.37515789311288184, 0.37584670537308185, 0.3764009735304573, 0.376555021899599, 0.3770251217349646, 0.37704137377188673, 0.37711719926083104, 0.37719282309177155, 0.37728363537945625, 0.37731706918379615, 0.37754803637882195, 0.3781144106023737, 0.3788167514428169, 0.3789616126273272, 0.3791599360344194, 0.3792489721628261, 0.37946194290074614, 0.37953416723237154, 0.3795493928887855, 0.3796209760294304, 0.3796765828995988, 0.37991955749573325, 0.38013024265752543, 0.38036049356657947, 0.3804658161386754, 0.38092396065193684, 0.3810850373738847, 0.38127085050795395, 0.38194985598559805, 0.38200588751433884, 0.38253247321205064, 0.38261656719545595, 0.3829416638802267, 0.3831006870052316, 0.38323452493983645, 0.38326270988383987, 0.383444302217163, 0.3835683641328276, 0.38386276950993375, 0.38396386833448204, 0.384465624473009, 0.38469586345401474, 0.3847683736567066, 0.38503384048508693, 0.38513287781975586, 0.3851571052063122, 0.38555846038522695, 0.38585981173415373, 0.38610245040870694, 0.3861538298689107, 0.38654051955835705, 0.3869193594968275, 0.3870861398034656, 0.38711291246032126, 0.38717847453049326, 0.38741946607827477, 0.38752115886277877, 0.38777456752958256, 0.38780491047614585, 0.3878305629497198, 0.38819720865406543, 0.38831767235956605, 0.38834699585623855, 0.3884008793518169, 0.38863216819952034, 0.38879581946626285, 0.3889089469878392, 0.38918195795941507, 0.38951950252528167, 0.38998921311270984, 0.39051957071188076, 0.3911437334851508, 0.39144450663178976, 0.3920764016471344, 0.392112644510899, 0.3926769248421139, 0.3927614579841135, 0.3932499350888638, 0.39331203520811076, 0.3936133181265672, 0.3937647211278358, 0.3954605999544442, 0.39551338321934854, 0.39556989083077876, 0.39623602500968597, 0.39635350825621624, 0.3963859427619764, 0.3967451603485105, 0.3968109282472685, 0.3968660558675607, 0.39698446588856634, 0.39739890841448927, 0.3976179436770043, 0.39775773963138944, 0.3979080648483243, 0.39801157106861085, 0.3983069837849254, 0.39859229342481084, 0.39870974210774407, 0.3990507394213969, 0.39906087541111684, 0.39919722059533663, 0.399227454845655, 0.3993305354244412, 0.3993420622334035, 0.39941917451918896, 0.39952786301531107, 0.39955078731492166, 0.3996427174433812, 0.39987179652242966, 0.39992428652756945, 0.39997092779115684, 0.400002905954188, 0.40024881130839907, 0.4004741126262613, 0.4006789607841778, 0.40076995219117884, 0.4007892380669518, 0.4008193003501228, 0.4013859885282256, 0.40146454512915497, 0.40165670367187045, 0.4017127933797444, 0.401932442563235, 0.4022935882231311, 0.4024229313011189, 0.4024363472166699, 0.4026852244277788, 0.4035424622632594, 0.40370973758829687, 0.4040682210323934, 0.40407596446790156, 0.4042825611978286, 0.4042922632228369, 0.40443444487309466, 0.40487760448354404, 0.404981374491714, 0.4051331032688766, 0.4055275995909497, 0.4055963905894644, 0.4057942393167449, 0.4059350030812038, 0.40628817380762444, 0.40630917089068824, 0.40656936015115913, 0.4070215498870905, 0.4072130729296979, 0.4074159383344775, 0.40759584333124416, 0.40791396406281377, 0.4079234688853133, 0.40798077765171065, 0.40846090977874266, 0.4090968001712502, 0.40911798022460316, 0.4094873853985071, 0.4097706267672854, 0.40984908647528706, 0.40986552146473726, 0.4108083119931634, 0.4112242843360154, 0.4114516743507931, 0.41147839416616955, 0.4118137178151318, 0.4119896054406448, 0.41233813852044804, 0.41258909095651186, 0.41266494337196685, 0.4127229396968239, 0.41286012375704323, 0.41319761624201357, 0.413493565794795, 0.413544810556392, 0.41406229125330196, 0.41488891258667204, 0.4149429390025603, 0.4155403089612675, 0.4155983913182938, 0.4156901503491993, 0.41579167372678044, 0.416181404728796, 0.41639352062638774, 0.4165313540254275, 0.4168268151660747, 0.41685920976203966, 0.4168871530734262, 0.4169412710578097, 0.41728049984910615, 0.4173255090868727, 0.41755541630575344, 0.41817023008984044, 0.4182213429974924, 0.4182581424512925, 0.4183241083238494, 0.4187754772053234, 0.41902876854926363, 0.41903690517726966, 0.4192141404083195, 0.41940988831952836, 0.41957578664695816, 0.4198576388158335, 0.4199746834975953, 0.42003433276957586, 0.4202802491871102, 0.4211660779567818, 0.42116849643384324, 0.42128804969030426, 0.4213068925165733, 0.422076875063892, 0.4221804486997074, 0.4223200264275654, 0.4225498912324024, 0.42257441218359, 0.42274193395658605, 0.42308894568494554, 0.42351769706272957, 0.42357483539938723, 0.42359000661535784, 0.423648341915473, 0.42375250072622245, 0.4237593265917324, 0.42378242015953826, 0.42422631399595806, 0.4242484886962916, 0.42426706566620603, 0.42465229169233926, 0.42467551905305545, 0.42483905355952967, 0.4249080722708156, 0.424983625218123, 0.42510079382637256, 0.42513092167022487, 0.4260076840709907, 0.4260492840229339, 0.4261331602589129, 0.4261970310641894, 0.4263957082711675, 0.4264188138407084, 0.42642269135239513, 0.4264739159091804, 0.42655054131051623, 0.42663328705505754, 0.42698334837456847, 0.42724395924783376, 0.42735112758872684, 0.42751262896290976, 0.42793745530719207, 0.4282479400551866, 0.4283562642805276, 0.4287279696854256, 0.42909448592410887, 0.42959343096183616, 0.4297546304986038, 0.4299500602817653, 0.4299613080460548, 0.43089674742797884, 0.4309091548838884, 0.430909277340792, 0.43119629337412196, 0.4313166302358916, 0.43135973836948255, 0.4318974061214499, 0.4320243057992755, 0.4321210409971665, 0.43271801276490146, 0.4327265674233297, 0.4331038378224401, 0.43339208507203947, 0.43363407200184767, 0.43379753579289365, 0.43423842931103235, 0.43488244759143124, 0.43489350888591594, 0.43512941024680696, 0.43546637369111724, 0.436803916834189, 0.43689494112395116, 0.43710006230869736, 0.43734785826338995, 0.43751540746196244, 0.4379337092752784, 0.43816332136803493, 0.43828462882663705, 0.43828819386202345, 0.4383842553085986, 0.43840318324041816, 0.43847171745343483, 0.43861610722382627, 0.4386452872804339, 0.4388896052994145, 0.43898100576987237, 0.43906600928239853, 0.4392523908871885, 0.4395374739547307, 0.4396946455127836, 0.44033501614998133, 0.4405141684418424, 0.4405400998413953, 0.4406894381056539, 0.44101087787634746, 0.44134960397600587, 0.44184031578401406, 0.44192873634095897, 0.44231506591012415, 0.44251554075943306, 0.4425508344803986, 0.442663454743998, 0.4432395092834335, 0.44340448615116107, 0.44398295861415454, 0.4441995279133025, 0.444516208524341, 0.4460501856196269, 0.44607413179405647, 0.44646220553315075, 0.446628993830155, 0.44673118923023103, 0.447097519798457, 0.44734179506285343, 0.4474701139926512, 0.4477023862735387, 0.4491715777306145, 0.4494267340638783, 0.4495896819778324, 0.4498257137472252, 0.45025338804026327, 0.4503076101444233, 0.450315231486148, 0.45048929217435685, 0.45055907616349633, 0.45062914132256604, 0.45099971736693867, 0.45105090789068686, 0.4515336807099348, 0.4518152561867224, 0.45208667797188495, 0.4520874223622536, 0.45239997910974433, 0.45292300890217285, 0.4530050706164056, 0.4532672159023466, 0.4535195300682077, 0.4536332068942207, 0.453785583383453, 0.45410420566705073, 0.45423805219009106, 0.4545209120576736, 0.45455376755660737, 0.45488137586905514, 0.45489993734293915, 0.45542764158878496, 0.4556408183449381, 0.4560551782564887, 0.4566523442283639, 0.45680524111468535, 0.4571861345909203, 0.45718798071193206, 0.4576636276011934, 0.4581914428209507, 0.4585556570044749, 0.45868699154485093, 0.45916682275035375, 0.45961422747121816, 0.4598264580180262, 0.46027931262742683, 0.4604845592332009, 0.4605255488778396, 0.4605786909328931, 0.4606860368229191, 0.46081927815880314, 0.4610803312581672, 0.4611371565310067, 0.4612563668023013, 0.4613292401078936, 0.4620185458274828, 0.4620330965989838, 0.46254561972135316, 0.46272453320963475, 0.4629288049970806, 0.463292555540264, 0.46352419224931957, 0.4635785500230482, 0.46372817750055967, 0.4639870019587323, 0.46414834497052293, 0.4641639605028204, 0.4643193356576965, 0.464344846182967, 0.46458267628972794, 0.4648524074747722, 0.4651154332021947, 0.4653619434414736, 0.4653709577518922, 0.465681499569388, 0.46571860502098367, 0.46646590676148847, 0.46668753890222087, 0.46718469118753553, 0.46719932403229975, 0.46737149895933877, 0.4679810860309315, 0.4681058266335905, 0.46819709322208936, 0.46862292549878987, 0.4690497130981712, 0.46909400962229786, 0.4702587687367418, 0.4705840208429024, 0.4706741261571064, 0.4707598561694317, 0.47077198172788953, 0.47078236062218626, 0.4709944758827592, 0.4709973547400233, 0.4710151910958544, 0.47108821823428704, 0.4713925530345404, 0.4714970877533911, 0.47216765043170367, 0.4723241623421829, 0.47243286132199197, 0.4728159262394047, 0.47324919622490486, 0.473274653459168, 0.47347893522455337, 0.4736521232411666, 0.4736570702453123, 0.4743741486293046, 0.47471642734828373, 0.4751161104950428, 0.47588321110367027, 0.4759202255748442, 0.47712989972236264, 0.4773694148850984, 0.4776423675547566, 0.4776765478572815, 0.47783140030420496, 0.47786230545706754, 0.4779912893437924, 0.478002415588004, 0.4780973025938374, 0.4791770885415352, 0.4794097054147854, 0.4795516969938287, 0.47973416421248327, 0.47980912286856686, 0.48008557685745423, 0.48065131324951144, 0.48094952344776526, 0.48099210024642947, 0.48100525286398915, 0.48103502722793345, 0.48105238711452614, 0.4813873200993, 0.4815517468119655, 0.4820823604132147, 0.4821047388533396, 0.4821153755987702, 0.482129891480124, 0.48244340696719906, 0.4826061837351173, 0.4828458416778276, 0.48385977430865407, 0.484364604502713, 0.48455684168040375, 0.48527070796830346, 0.4856675139661487, 0.48566857734050617, 0.4856695706282356, 0.4857830929495055, 0.4862799916022475, 0.486542741052614, 0.486762764215007, 0.48692924255775855, 0.4869704145687948, 0.4869884580355357, 0.48702127929244377, 0.48735396327775826, 0.48758210862090445, 0.4880990006678597, 0.48830599127224306, 0.48838619392869925, 0.48844860812689744, 0.48907630376462796, 0.4891167895654269, 0.4893351342891468, 0.48955884891570406, 0.4903014070164128, 0.4907746614323659, 0.491081659657117, 0.4911250660724178, 0.4912601636539359, 0.4918364769600835, 0.4926360682834079, 0.49275051260732255, 0.49286205019073714, 0.4930547428877243, 0.4931450946034346, 0.4931632165416771, 0.4932830955751049, 0.4935313568774669, 0.4936256967859407, 0.4938016108434511, 0.4941391353283407, 0.4946082911178006, 0.49463335160917027, 0.49464066770732873, 0.49507111322021374, 0.4953749065741079, 0.49540483525542456, 0.495502425151266, 0.4956028384225647, 0.49570410280493216, 0.49592725867263276, 0.4960107832617229, 0.4960488067187711, 0.496249834313581, 0.496270527778191, 0.49715883320198484, 0.49717674079964175, 0.49785609430701044, 0.4978725695955283, 0.4979606129580811, 0.4979734292846659, 0.49811452747837326, 0.4981896939379519, 0.4986517877978548, 0.4987321737726535, 0.4992057919562378, 0.49930293045425345, 0.4994108820708414, 0.4994213224932666, 0.49949801038864877, 0.499540673912773, 0.49980315418271276, 0.49987740019025545, 0.49988913188654516, 0.49998306501198825, 0.5001650771175052, 0.5005395417324654, 0.5007386166832788, 0.5008542669248083, 0.5010574975143781, 0.5012445228202093, 0.5014624614271013, 0.5016160584914966, 0.501668102189253, 0.5019732927083953, 0.5019994865303925, 0.5020215257567218, 0.5022814197469352, 0.5026918918161307, 0.5027215119185302, 0.503130963411201, 0.503550668725417, 0.503993557510102, 0.5042689007874084, 0.5044972899026645, 0.5049857959414131, 0.5050185675001814, 0.505330369122225, 0.5059584276017921, 0.5060660210396193, 0.5060818697702621, 0.5063719345813021, 0.5068794086648549, 0.5070433976146781, 0.5072082096044735, 0.5072642098412309, 0.5072707845613447, 0.5073503245666818, 0.5074293280205123, 0.5080694051115847, 0.5084476850188437, 0.5088082442992331, 0.5090703990939555, 0.5096299559194425, 0.5099844305272583, 0.5104586818582437, 0.5106733132452963, 0.5107522308115908, 0.5113675470624077, 0.5115580536086686, 0.5116179455418357, 0.512161149234518, 0.5122843864719597, 0.5125519533758558, 0.5128105035618424, 0.5130271929721335, 0.5133596549685466, 0.513640931710966, 0.5141323157618712, 0.514277751301641, 0.5142808403316822, 0.5145493167235711, 0.5146400326215465, 0.5147653778579475, 0.5148572977624521, 0.5152210507796305, 0.5154688363737197, 0.5160455906032552, 0.5160666487562653, 0.5161996441908189, 0.5169578001214551, 0.5169874994280341, 0.5174815135827079, 0.5176297387570769, 0.5178323580161034, 0.5179038594354364, 0.5179196524654035, 0.5181351036038673, 0.518445656398909, 0.5186182990870284, 0.5188542457431436, 0.5190338866096486, 0.5190773306574031, 0.5192022464827731, 0.5194143474888029, 0.519960874903205, 0.5201426155926123, 0.5202338994848924, 0.5208845376461091, 0.521081323718027, 0.5215732414633928, 0.5217793443906614, 0.5236227408415667, 0.523762500502085, 0.5239066617485659, 0.5240377484947673, 0.5254306155339116, 0.525619098172807, 0.5259010085138895, 0.5266592374549457, 0.5271611038812973, 0.5278787257628315, 0.5283388059373008, 0.5285362049637404, 0.5289254360113906, 0.5293965505393923, 0.5296715380763126, 0.5302131732842318, 0.5308837986081852, 0.53121680904989, 0.5312860478663567, 0.5315705132420143, 0.5317506935232837, 0.532277583661833, 0.5326013184373926, 0.5328208277034608, 0.5334001625331395, 0.5342983002316145, 0.5345215709273932, 0.5350682333557089, 0.535078894634084, 0.5352863265478661, 0.5356313404957748, 0.5356361805367803, 0.5357164635141147, 0.5360536764422636, 0.5362976196906124, 0.5366056623494652, 0.5366188785291514, 0.5368847434140908, 0.5369067379480875, 0.5373944815558994, 0.5374519860118002, 0.5378422649647233, 0.5382854186242649, 0.5383312488591194, 0.5388296929576948, 0.539057478668748, 0.5392737006437595, 0.5393592642416041, 0.5400422080272709, 0.5415987367011439, 0.5419235160698699, 0.5419326712902282, 0.5419446564987312, 0.5422723117878663, 0.5422882127675988, 0.5425607564616068, 0.5426477325541427, 0.5426644368938475, 0.543220666027044, 0.5432414576652369, 0.5435865961319805, 0.5443220928522126, 0.5444054482839081, 0.5444176088707702, 0.5444488152691861, 0.5454006122065578, 0.5454572770663011, 0.5464775471299832, 0.5466061902011168, 0.5471657645612109, 0.5472546487669121, 0.5472661612319508, 0.5473108777853245, 0.5475463407608128, 0.5475771069552554, 0.5476207897458043, 0.5478211824917116, 0.5478770543318738, 0.5480882308442294, 0.548103949570155, 0.548734369226805, 0.5488268442702946, 0.5493174741742117, 0.5495255474885266, 0.5499087975403837, 0.5499414037924832, 0.5504152710771352, 0.5505517189191373, 0.5510303379129685, 0.5512989901810048, 0.5516728314327107, 0.5517946571320491, 0.5525582041499016, 0.5530244933105942, 0.5536099055026364, 0.5536133743632966, 0.5536693237767393, 0.5537280558325083, 0.5543170561537017, 0.5550258293776078, 0.5551479535321379, 0.5555384986523247, 0.5558336324110291, 0.5558830421024528, 0.5564172841633369, 0.5570839380218857, 0.5570895814480528, 0.5577830745922783, 0.558265323639651, 0.5584512288635788, 0.5586756162640013, 0.5600307963479881, 0.5604098126863902, 0.5605318016482188, 0.5606665616961392, 0.561185156602395, 0.5636350762910897, 0.564052953523978, 0.5645339376074595, 0.5646148799556471, 0.5651920850003328, 0.5653771454480246, 0.5656539258322633, 0.5657308778478691, 0.565802644695709, 0.5663127613053386, 0.5664420792050641, 0.5665161552194921, 0.566878362360657, 0.567176603386207, 0.5679923874824977, 0.5681862131320997, 0.5686178118251236, 0.5691938240983768, 0.5692210765957185, 0.5711891285867319, 0.5714690259334162, 0.5717899765150085, 0.5718085779027458, 0.5720060510367073, 0.5726646473526801, 0.572942797252923, 0.5734043239398879, 0.5736195732923624, 0.57434733891077, 0.5745814343981263, 0.5746210603582885, 0.5747906269907606, 0.5753464482879921, 0.5754718664602554, 0.5756777170009887, 0.5762104723008593, 0.5762279216408973, 0.5763439062683039, 0.576671161624531, 0.5769858162168641, 0.5771125838729639, 0.5772857795571237, 0.5774072984511862, 0.577797288543784, 0.5779607871182775, 0.5786581545644011, 0.5786761133741981, 0.5802696365821075, 0.5805275937303066, 0.5805456682869389, 0.5805483129344444, 0.5805735745683157, 0.5806764153418571, 0.5809450991717545, 0.5812624832348318, 0.5813781365324724, 0.581407941053293, 0.5819869506728127, 0.582744291591311, 0.5829992471224255, 0.583092503731364, 0.5832446610354808, 0.5834313310851378, 0.5838648535980627, 0.5843121367628553, 0.5843427541931118, 0.5845833127525399, 0.5853169768493854, 0.5855081632766364, 0.586382643756137, 0.5864104605588231, 0.5866750459765805, 0.5871923627213209, 0.5882034231547052, 0.5891170903639333, 0.5894888991617663, 0.5898421659453906, 0.5904447484204388, 0.5908995849002144, 0.5910431594053319, 0.5912844370509, 0.5914624985771746, 0.5925612977485164, 0.5930747303109961, 0.5932666270408894, 0.5936261805096162, 0.5939052197452149, 0.5946226423901102, 0.5956401169356416, 0.5956548754078886, 0.5958631430251449, 0.595986363400415, 0.5964204937386616, 0.5965528629577543, 0.5975459753916046, 0.5976176203123548, 0.598010386170433, 0.5981087297091389, 0.5984818154309544, 0.5986573942700965, 0.5996655132125318, 0.6005809955309068, 0.6006733711056459, 0.6013009953123907, 0.6014216412662746, 0.6017940704813117, 0.602697887891067, 0.6031013890900899, 0.6034498121667022, 0.6042179802234006, 0.6056679509105205, 0.6061495049346374, 0.6069020984199762, 0.6072389493897951, 0.6077120575053506, 0.6080229815796614, 0.6084704371704651, 0.6089844316615995, 0.6093973634815323, 0.6097447923061761, 0.6098298192351239, 0.6108201308143345, 0.6110277237372708, 0.6112758416902463, 0.6119803015525517, 0.6133177060790952, 0.613429132640708, 0.6135289027285142, 0.6140811582908264, 0.6145096574273889, 0.6146017008601864, 0.6146547995385996, 0.615050511491912, 0.6153743093490568, 0.615731744968686, 0.6172104034504723, 0.6180497057749993, 0.6182638938930679, 0.6204903722462461, 0.620823304482288, 0.6223958974342905, 0.6225204586154074, 0.6240397966762649, 0.6240584212253334, 0.6247234563570151, 0.6250699933045549, 0.6252947994229224, 0.6258618045488423, 0.6263188172254612, 0.6274277814074997, 0.6284042899792559, 0.6284131837911199, 0.6286477864853915, 0.6287181202185713, 0.6287630275559901, 0.629359898678214, 0.6300979883048085, 0.6301492601466652, 0.6312302760667143, 0.6312661375599706, 0.6316346538698411, 0.6328229604150821, 0.6332812496946642, 0.6339566381283167, 0.6346215604060145, 0.6363226749155512, 0.6364731010282737, 0.6373293736331541, 0.6374254281618007, 0.637610138961049, 0.6377817521064223, 0.6378994186464042, 0.6382416112186798, 0.6385537733080628, 0.6389012742787717, 0.6389598968930399, 0.6390444862674718, 0.6395633248922372, 0.6401855675445247, 0.6418749405123827, 0.6423527241494501, 0.6424864620414757, 0.6451266967592505, 0.645830534923228, 0.6476372891180037, 0.6477030299362604, 0.6488916035880472, 0.6489202180114747, 0.6509798985385429, 0.6511693421551539, 0.651962931572268, 0.6521652041175572, 0.6538619107420548, 0.654406488725568, 0.6545840761961862, 0.65482101892799, 0.6559468201559812, 0.6567468243727348, 0.6568297679174621, 0.6586711551196937, 0.6590657347206732, 0.6592322604003131, 0.6593062677805339, 0.6597943358604017, 0.6607541517601137, 0.6607574993659098, 0.6613468069990778, 0.6626896133770004, 0.6627264701687676, 0.6634411988595038, 0.6634603327013786, 0.6647209517426343, 0.664990537525266, 0.6664543969636076, 0.6684346999832371, 0.6684586174821067, 0.6690833557184852, 0.6695728789836106, 0.6697837628560367, 0.6705112285158307, 0.6705860443307429, 0.6722757766648729, 0.6737677918154867, 0.6740230136641743, 0.6748409387393437, 0.6759673871829355, 0.6763386540301275, 0.6770302985231246, 0.6776342421397935, 0.678029444677557, 0.6780361679329602, 0.6791461476515877, 0.6791827062370109, 0.6799304240511976, 0.682008031201972, 0.6823196394365754, 0.6823713716302737, 0.6833685581148666, 0.6837890955639335, 0.6842631615534753, 0.684718812201222, 0.6852522355492044, 0.6863249931075402, 0.687192270715005, 0.6874366651577996, 0.6877596937312787, 0.6877967366418215, 0.6883663899587238, 0.6884635442132808, 0.6906811245272847, 0.6925080762064355, 0.6935731291865339, 0.6940698878202265, 0.6941784051072288, 0.6954504292345631, 0.69567297190031, 0.6966437103012034, 0.6974922104078972, 0.6985356930877538, 0.6985627889783504, 0.699010776251973, 0.6998378340375382, 0.7009129230945821, 0.7018788657643936, 0.7024241107777577, 0.7025704826168425, 0.7028888118709538, 0.7031997959151491, 0.7037171001596556, 0.7037272936372397, 0.7038621164770554, 0.707439889910181, 0.7082338798044748, 0.7084202814455433, 0.7089193496144142, 0.7089294939669119, 0.7097587363512778, 0.7099040432577226, 0.7125651575169911, 0.7137782523586395, 0.7141696293996936, 0.71649809766238, 0.7169574578494421, 0.7172477436710457, 0.7176228917650735, 0.7178907832933612, 0.7201003154493455, 0.7215735952043755, 0.7217679181081128, 0.7223343956881351, 0.722723895537673, 0.7230305628445068, 0.7230914625160427, 0.7235289070268229, 0.7241251233666625, 0.724242938026582, 0.7251643334846536, 0.7251771280677899, 0.72605919753741, 0.7261570963930772, 0.7282552512995604, 0.7283226896861246, 0.7290869127029618, 0.7295044534704185, 0.729630272519157, 0.7299278090000951, 0.7300245190535382, 0.7303006449673383, 0.7305579974152826, 0.7309434400549841, 0.7309708923369698, 0.7311195425968171, 0.7311200734197412, 0.7323246167788674, 0.7325404143946036, 0.732701015836926, 0.7344385935529366, 0.7345918817691227, 0.7352933749010346, 0.7353250253136732, 0.7355399673833088, 0.7374223713599474, 0.7375165295443866, 0.7379595653553083, 0.7381104672478255, 0.7382708753161189, 0.7384626464765651, 0.7386446512631595, 0.7391090842767992, 0.739274839678347, 0.739826392507981, 0.7409699632058209, 0.7412700908281952, 0.7414319347915049, 0.7414803224046215, 0.7428892120366196, 0.7449032024107574, 0.746590404861955, 0.7513423695611838, 0.7514904809961216, 0.7516298353742435, 0.7517717012722988, 0.7529083759616343, 0.7539453925582535, 0.7547116682066105, 0.7559747384597716, 0.7561602972579612, 0.7576507017824079, 0.7582639483932817, 0.7608992263031196, 0.7609204308619747, 0.7630322508427969, 0.7637428535053049, 0.7642259526869559, 0.7657343766456337, 0.7660806476595822, 0.7661112470814085, 0.7663840401950721, 0.7669170666918678, 0.7684298995291512, 0.7693592906473139, 0.7695485638665475, 0.7711964957212927, 0.7716577878819065, 0.7726084210671978, 0.7745578702807512, 0.7762930965676922, 0.7778385523067877, 0.7782922856224023, 0.7785469980462805, 0.7794667583427747, 0.7837058299757137, 0.7849579009934706, 0.7865421890232269, 0.7881151070862871, 0.7888625759934201, 0.7888946165298794, 0.7889262256861078, 0.7893938992730558, 0.7895770035246139, 0.7929670655626773, 0.7954638842171952, 0.7956474535885895, 0.7956661954146009, 0.7958833326519233, 0.7989902511701729, 0.7997514810373745, 0.8000279319573095, 0.8011182567423626, 0.8055505927444647, 0.8068152203336733, 0.8068724033243977, 0.8093032123402559, 0.8108357016433345, 0.8110369130385112, 0.8114671048731464, 0.8116274932120525, 0.8116310125425622, 0.8123388415056607, 0.8133289116582525, 0.8170478860077492, 0.8185387433147254, 0.8196666084843738, 0.8198535140430007, 0.8206294233564516, 0.8216419157425717, 0.8220541754688223, 0.8227381867420702, 0.8239351547118748, 0.8276947623643168, 0.8299985889716668, 0.8300922819535872, 0.830738964028546, 0.8328562842554452, 0.8335493995240595, 0.8364611741023357, 0.8376318514984812, 0.8378556101961177, 0.8410559796422491, 0.842290334834882, 0.844812585456963, 0.8468871119903774, 0.8480840194533896, 0.848599603331797, 0.8496293509363398, 0.850856217951252, 0.8529250895876506, 0.8533740269896452, 0.8536776960537625, 0.8540965512619495, 0.8547061966863753, 0.8598763430808101, 0.8611114315994672, 0.8615518141140229, 0.8643672289541946, 0.8645206043971045, 0.8669574547849975, 0.8691074441448183, 0.8696895531623403, 0.8721852310137426, 0.8766926417117993, 0.8770174978961592, 0.8780112463383473, 0.883143553140265, 0.8847011858085253, 0.8848363232728405, 0.8882754934417906, 0.8893065134667704, 0.8935989044881241, 0.8945186640088584, 0.8967198970467551, 0.898129399777816, 0.9003255383215216, 0.900802892468495, 0.901069800983742, 0.9063716869218393, 0.9137555768081975, 0.9149589025546603, 0.9180955262552819, 0.9193376955470862, 0.921181429291651, 0.9216622919619015, 0.9226502601783666, 0.926529871081165, 0.927810686503232, 0.9286012052607064, 0.9302328097312857, 0.9345386393986606, 0.9376036562372617, 0.9407265701554617, 0.9416675621215087, 0.9426510970248316, 0.9430154390588329, 0.9430983022749788, 0.9463321202596056, 0.9469937004542629, 0.9481555929201417, 0.9508732117284774, 0.9549023133012893, 0.9555257908070006, 0.9557638043674266, 0.9648970495669027, 0.9676073733299569, 0.9702182901703954, 0.9711214155531049, 0.9711750584813496, 0.9740121569682779, 0.9784669400175712, 0.9799649221164043, 0.9828060304453237, 0.9852906758047069, 0.9856612159210663, 0.985684372542009, 0.9908013650460461, 0.9941273591321069, 0.9942355827982917, 0.9970695906792305, 0.9986326889673612, 0.9987759887020569, 1.0005447038096476, 1.0006716286598316, 1.000742075449037, 1.0077755197932898, 1.010423494724608, 1.0108555546537472, 1.0149647236813986, 1.0151066000001534, 1.0258015378515315, 1.0264369564168745, 1.0286924640188204, 1.0385143152090488, 1.0434287150826171, 1.049842683706529, 1.0545755214140866, 1.0594404517064515, 1.0623608392994173, 1.0659372241949154, 1.0676325484602505, 1.0682813570601726, 1.0683835344025423, 1.0684024889967165, 1.0783842567701107, 1.080289715367638, 1.0817783047483942, 1.0824702204277292, 1.0824962374901625, 1.085379108638252, 1.0855294612235635, 1.08665587852419, 1.0896714473849587, 1.0943924827671832, 1.0947214439078277, 1.1009163728480302, 1.1036583064822123, 1.1053598349896747, 1.108103620220652, 1.1144989872111095, 1.1170140325508169, 1.118205942493286, 1.1258837990049038, 1.1323564527959817, 1.1329323992866391, 1.1396329920598596, 1.1404128423711797, 1.1414302984934195, 1.1435007274362485, 1.144040032573183, 1.1474553190951402, 1.147644521399327, 1.1477175910529536, 1.1499624052303208, 1.1544128238526867, 1.1578418834300275, 1.1581915970168204, 1.1699582022230979, 1.1717504700339896, 1.1738550300619806, 1.1870103953441216, 1.1963917216562057, 1.1986314993294813, 1.1988696735401378, 1.2037101360492823, 1.204101659098487, 1.205825514774693, 1.2060158369020166, 1.2281426347042697, 1.2291550537031557, 1.2306711440290832, 1.2328317334771466, 1.233414513847059, 1.2443666638392814, 1.2495253484090298, 1.250401423156582, 1.2543422278570788, 1.2557971670759642, 1.2580152958318973, 1.274981292441171, 1.2854033237173066, 1.2867302219534607, 1.2915653579240947, 1.292720443119372, 1.2947339542791763, 1.2991683007653556, 1.3019168258004128, 1.3039124564989797, 1.305237689993138, 1.3053087970295794, 1.3148345307012852, 1.322049821241092, 1.325167353555018, 1.3370635280362295, 1.3644561573808398, 1.366633930730799, 1.3908517564574145, 1.4114204760700504, 1.4360080736440386, 1.448414124969132, 1.4547207601152037, 1.4618852091811305, 1.4649243616678953, 1.4682052204042453, 1.4699378418147169, 1.4726723939385764, 1.4777122692126885, 1.4908618274595768, 1.4953348382782543, 1.5069452462708037, 1.5201056918837232, 1.5325570901557686, 1.537943547084643, 1.5443913847545425, 1.5460023981589939, 1.5549996656617644, 1.5729055900111304, 1.5745826042994369, 1.5874112129264324, 1.590716863961234, 1.607839958421164, 1.6082556527984795, 1.631442574128808, 1.6498431899006687, 1.6720414378392376, 1.7027067273784617, 1.7498548400377498, 1.7610432945772196, 1.7971561285780253, 1.8103622723163053, 1.8225379076789552, 1.848829686483508, 1.862313671546086, 1.8721945939270694, 1.8953036951269426, 1.9015855218267868, 1.9093881564357464, 1.9162730317199914, 1.9606436490533141, 1.994553767254899, 2.060724383382206, 2.0881143002346865, 2.1255395219269095, 2.1421632440652187, 2.222946442422903, 2.2909938225131032, 2.302917252859859, 2.3302420248122897, 2.3961004405779938, 2.429971734752422, 2.5859207811809255, 2.586827510069633, 2.633658453026981, 2.73129058866669, 2.756809576704042, 2.86583182332813, 2.9127256651340456, 2.9415699938077378, 2.997476262247739, 3.223409831184656, 3.2521006508335684, 3.3698140807604537, 3.4277600214775714, 3.4622883349985556, 3.524155520212626, 3.654399448975131, 4.399134882725233, 4.513600021566502] will be ignored\n",
            "  warnings.warn(\n"
          ]
        }
      ]
    },
    {
      "cell_type": "code",
      "source": [
        "# Train a Gradient Boosting model on the training subset\n",
        "gb_model_ndcg_2 = GradientBoostingRegressor(n_estimators=100, random_state=1)\n",
        "gb_model_ndcg_2.fit(train_subset[features], train_subset['relevance_score_2'])\n",
        "\n",
        "# Use the Gradient Boosting model to predict relevance scores for hotels in the validation subset\n",
        "valid_subset['gb_ndfc_predicted_score_2'] = gb_model_ndcg_2.predict(valid_subset[features])\n",
        "\n",
        "# Binarize the relevance scores using MultiLabelBinarizer\n",
        "\n",
        "train_relevance_bins_gb_2 = binarizer.fit_transform(train_subset['relevance_score_2'].values.reshape(-1, 1))\n",
        "valid_relevance_bins_gb_2 = binarizer.transform(valid_subset['relevance_score_2'].values.reshape(-1, 1))\n",
        "valid_predicted_bins_gb_2 = binarizer.transform(valid_subset['gb_ndfc_predicted_score_2'].values.reshape(-1, 1))\n",
        "\n",
        "\n",
        "# Evaluate the Gradient Boosting model's performance on the validation subset using NDCG\n",
        "valid_ndcg_gb_2 = ndcg_score(valid_relevance_bins_gb_2, valid_predicted_bins_gb_2, k=5)\n",
        "#valid_ndcg = ndcg_score(valid_subset[['relevance_score']], [valid_subset['gb_ndfc_predicted_score']])\n",
        "print('Gradient Boosting Validation NDCG:', valid_ndcg_gb_2)\n"
      ],
      "metadata": {
        "colab": {
          "base_uri": "https://localhost:8080/"
        },
        "id": "q4xlaxv8SwHU",
        "outputId": "bbfe5c99-8b4e-4fec-f71b-48a374a45f5b"
      },
      "execution_count": 26,
      "outputs": [
        {
          "output_type": "stream",
          "name": "stdout",
          "text": [
            "Gradient Boosting Validation NDCG: 0.6879351554446521\n"
          ]
        },
        {
          "output_type": "stream",
          "name": "stderr",
          "text": [
            "/usr/local/lib/python3.10/dist-packages/sklearn/preprocessing/_label.py:895: UserWarning: unknown class(es) [6.0] will be ignored\n",
            "  warnings.warn(\n",
            "/usr/local/lib/python3.10/dist-packages/sklearn/preprocessing/_label.py:895: UserWarning: unknown class(es) [-0.00021017553363560028, -0.0010523177340100247, -0.0011705215851722166, -0.0024636382335349897, -0.0032026676673722948, -0.004458536019357172, -0.004981554681066858, -0.005263642846171522, -0.005600918145825976, -0.006026110407206114, -0.0060598422363989865, -0.00607757120012292, -0.006272488526281209, -0.00680787957693298, -0.007292326543810682, -0.0076822615336577, -0.008093614523242743, -0.008651412099414132, -0.008751880827660968, -0.008912853096646578, -0.009001958131526027, -0.009039422184033738, -0.009059719180347207, -0.010272302221882827, -0.010574972844446662, -0.011004745311176733, -0.01169317035273183, -0.012578554240106473, -0.013056717289843912, -0.013629599367675691, -0.013667290651174118, -0.013735768401027857, -0.014076294307880776, -0.014083260864558404, -0.014212012653012746, -0.014362376357854357, -0.01471702834842624, -0.014925617824183765, -0.01587499891051601, -0.01630645620363058, -0.01692724813950397, -0.01709085719167065, -0.017258375662150924, -0.017676755283742338, -0.018001919462549688, -0.018114084620730626, -0.018579475071012153, -0.019943541933127, -0.020736182739874882, -0.025737474280040317, -0.025997983728093227, -0.026058622532585868, -0.026982776253154043, -0.02749819074388353, -0.02921345283451204, -0.03014044903495563, -0.03015275574474864, -0.030338752746786414, -0.031136480413117437, -0.031977585172837816, -0.032046618122330034, -0.032266224335895856, -0.034153753850624156, -0.03443755998561552, -0.034455587398964295, -0.036100668110827704, -0.03764807254397181, -0.037999797871352776, -0.03817698735931314, -0.03877463506551195, -0.04134913160788618, -0.04177878179797771, -0.04311336600127313, -0.04697166833095654, -0.04706892814993081, -0.04912030815530425, -0.05006325493342157, -0.051027338661509394, -0.05453684476645523, -0.05860465309725516, -0.05882953386629188, -0.05914321860314691, -0.06027668261078837, -0.06879210423252641, -0.06910552882677409, -0.06995525185322458, -0.08235979744912235, -0.08837974767610661, -6.584144185453654e-05, 0.001155603426651002, 0.0012608520156188873, 0.0014112319185226826, 0.0014654790466076505, 0.0014756873334305848, 0.0015418044907343728, 0.0017355225905129276, 0.0021274835058683805, 0.0022584306905711546, 0.002377270313509313, 0.002763873171484619, 0.003127423031952463, 0.0033393703495213163, 0.003697163430192243, 0.004280197202783631, 0.004469436246767154, 0.004812208799691534, 0.0051622519366245154, 0.005281159714330137, 0.0058193824788380175, 0.005945664187680121, 0.006131883905134748, 0.006149591163860419, 0.006267712882845559, 0.006386732428261101, 0.006586125096971299, 0.006986499426086935, 0.007045431901437166, 0.007275613014309034, 0.007409428079949586, 0.007497417506355467, 0.007515494133561282, 0.0076815166515343865, 0.007929530113762772, 0.008100464926115816, 0.008121342718591272, 0.00851373817036992, 0.009014793498971782, 0.009142095995078538, 0.009268549827450541, 0.009307249491018538, 0.01007336955931874, 0.010675201380326177, 0.010693172951920004, 0.010752547003135422, 0.010819310070942991, 0.010980406655664103, 0.011563483934490294, 0.01156352177811941, 0.011689276643401199, 0.011763790304036556, 0.01236041284474732, 0.01316288092847088, 0.01343725364149391, 0.01389453803086018, 0.014200632527245582, 0.014281213658677374, 0.014525448017454293, 0.014586602427756255, 0.014806971780945186, 0.015023388873719234, 0.01506178692039149, 0.015224170127704044, 0.01534535623738379, 0.015365059015820038, 0.016177058701404026, 0.016285329590328818, 0.016389926614411163, 0.01692977108984173, 0.016966520004749738, 0.017017343261554754, 0.017396644456945415, 0.017413700475872648, 0.018017614561003602, 0.01805556731754334, 0.018164660629513954, 0.01842443063383922, 0.018457422577346765, 0.019249438297493423, 0.019407643853139256, 0.019431585823926872, 0.019777516885198246, 0.01990084276300106, 0.02025148232322838, 0.020377568960886952, 0.021792385603149642, 0.021989382069059073, 0.022089601095236878, 0.02237439328595908, 0.022918503027897386, 0.022986369634651067, 0.023119567993019573, 0.023216246227605552, 0.023571392373549268, 0.023580326627647367, 0.024055171481902962, 0.0244840677226712, 0.024855688592810198, 0.024875662588506427, 0.025144135002019667, 0.025176454703341143, 0.02526311121601042, 0.0255215983792276, 0.02575644868191891, 0.025767315253573148, 0.02606756028046362, 0.026362937029778793, 0.02679452215266015, 0.026916142656030477, 0.02692362320912688, 0.02694490584893175, 0.027156446943277613, 0.027368504325641984, 0.02787244279930968, 0.028283154883855167, 0.02833773385513862, 0.028725163026429218, 0.029194458434842478, 0.029265711536735958, 0.029513164244555985, 0.02994654905611645, 0.029974844093759435, 0.03006691232348144, 0.030175482685351796, 0.030292419660804017, 0.0306170583171439, 0.030739294190389253, 0.030946581262723538, 0.03108389547043617, 0.031130887449786333, 0.031394880400102715, 0.03139683285788914, 0.03163096452013639, 0.03281779402153408, 0.03364842341796427, 0.03378964006139401, 0.03462219114390372, 0.03469366431649002, 0.03484944629969009, 0.03518783897485794, 0.0352874376893764, 0.035671860006555874, 0.03568774542419724, 0.03588687451143657, 0.036191898705362484, 0.03629696433281798, 0.03635209499356805, 0.03641404640186887, 0.036671289608676085, 0.03687217946212665, 0.03692076803914165, 0.03709253116275654, 0.03714638898310457, 0.03729409222587833, 0.037728049405823, 0.03776362795347248, 0.03821355791924673, 0.03852080529906602, 0.03859865291538791, 0.038708741793654966, 0.039945882813654646, 0.03999673187953788, 0.040059679914182536, 0.04032892660428337, 0.04057255608495615, 0.04063102333076629, 0.0407375674799859, 0.04093740780659425, 0.04103394338517693, 0.041628273948064606, 0.041759960235079815, 0.04186803630669493, 0.04203830212341046, 0.04261409229842923, 0.042927567908928724, 0.04294257754655986, 0.04338063550875981, 0.04338626630825938, 0.04362860668897895, 0.04363460988487553, 0.04375498003378996, 0.04387786449228746, 0.04422594251800605, 0.044525648769341036, 0.04465825884780245, 0.04470511280436397, 0.045018687784862274, 0.045140941447086455, 0.045392426365274414, 0.045415056034798104, 0.04541907638318854, 0.04543348266967031, 0.045862635998104105, 0.046038431177554094, 0.04656274768948943, 0.046753723341272306, 0.04695399422028366, 0.04711081297055741, 0.04718936349477225, 0.047461857202237015, 0.04822616064934983, 0.048243449450673326, 0.04835041407713713, 0.04879128009943191, 0.04889722618315016, 0.04907133431292669, 0.049102742571569165, 0.049161386097674085, 0.04921514496732056, 0.04923662861938671, 0.0492491603358624, 0.04955694305444292, 0.04958711213386514, 0.049872446358725675, 0.050581178699947625, 0.05088146592954452, 0.05103063914713709, 0.05136370764110582, 0.05160385947099517, 0.05174557144115794, 0.05176808872583377, 0.05180143942011069, 0.05210018786524957, 0.052104432639546956, 0.05273133062483512, 0.05278366844348363, 0.05281247728307592, 0.05307938195343593, 0.05314462524969066, 0.0533178618518304, 0.053511656558354714, 0.05356092147507092, 0.05410897426637364, 0.05436215837772733, 0.05436764085153447, 0.05439196406171395, 0.054455497557392506, 0.05466645034654264, 0.05492314871895549, 0.055137721482909505, 0.05556725015175911, 0.05557928156816374, 0.05585672016119022, 0.055914178083956885, 0.056028615874954925, 0.05612466993697299, 0.056212797504950375, 0.05659646972791844, 0.05711815602724324, 0.05728187644958478, 0.05739469561207173, 0.05758651922412279, 0.057674795657428855, 0.05778973787424704, 0.05788350169634727, 0.05807348545771495, 0.0584054257700383, 0.05922434791959682, 0.05924179137764688, 0.059438362172586114, 0.059583306280256175, 0.05964887599983595, 0.05965806874490892, 0.05968752905564627, 0.05974944016194466, 0.05995980092796026, 0.06010734647217574, 0.060358633653285615, 0.06055246448424562, 0.06084732909602981, 0.06085572029073799, 0.06148530974526639, 0.0616748156249995, 0.061759174692411704, 0.06226460578671176, 0.06262603050115101, 0.06285645679076889, 0.06292597178853827, 0.0633131540084331, 0.0634671011760404, 0.06347521066247651, 0.0635773832324641, 0.06387555490791895, 0.06407760427427729, 0.06478924022899363, 0.06497352008578067, 0.06515545242758322, 0.06548320638766872, 0.06551866925251967, 0.06552355871292181, 0.06558527840049957, 0.06560930648832948, 0.06581664668460906, 0.0660000054228815, 0.06608358170175137, 0.06611736436013449, 0.06614488639090739, 0.06616218404362498, 0.06625889843928584, 0.06640099006094285, 0.0665714942670399, 0.06662743855970012, 0.06698742496793109, 0.06710776578400592, 0.06733198597012581, 0.06750713195352984, 0.06758688198790656, 0.06779159677671512, 0.06782236259123796, 0.06825062599915295, 0.0683210846604308, 0.0685052689535737, 0.0689149782601504, 0.06904978328949056, 0.06907608264757481, 0.06958640421792296, 0.06963099650050268, 0.06969519156435551, 0.06973348593219218, 0.06981355708299071, 0.06982150698257766, 0.06987606404855606, 0.06990261303020044, 0.06990289636914075, 0.06992756234298646, 0.07002976508395958, 0.07060860226876182, 0.07071258393649235, 0.07072093091344771, 0.07091148646529442, 0.0709163738590882, 0.07091820184735124, 0.07092106373342602, 0.07113137148114188, 0.07122654830958985, 0.07142320048073723, 0.07143268081341873, 0.07165374568205433, 0.07168733468392684, 0.0717782306803778, 0.07198212072976543, 0.07207982138404156, 0.07214155254234189, 0.07226774820129621, 0.0725303481242029, 0.07279536055791973, 0.07292330615353922, 0.07297726109141049, 0.0734052436907659, 0.07351253891864008, 0.07355922323894366, 0.0740183478625614, 0.07403077072239549, 0.07415810925925306, 0.0742645881037213, 0.07428407716764877, 0.07437168657960261, 0.07440241737980506, 0.07447286049105611, 0.07460595847883224, 0.07463167673652787, 0.07474446204661091, 0.07482500810962023, 0.07484544638245041, 0.07494963982090892, 0.07552077182888532, 0.07553327871977086, 0.07560380040296387, 0.07574094606346433, 0.07580192120757963, 0.07589068570132332, 0.07611773471046814, 0.0761700656606106, 0.07640287347755269, 0.07657602240037008, 0.07680052613483902, 0.07704030630673953, 0.07713910388599424, 0.07720332141416751, 0.07740328513942972, 0.07749873522339214, 0.07757910515724395, 0.07766485154525823, 0.07771691576357183, 0.0777383502225235, 0.07783476132907696, 0.07800102234569287, 0.07800580382608181, 0.07814921855383632, 0.07821100078060907, 0.07821493057512727, 0.07831386175446571, 0.0785313252558622, 0.07856774149496455, 0.07879965776642636, 0.07893850508772149, 0.07897826754333019, 0.07924970772978068, 0.07935686818934613, 0.07943847808207526, 0.07954091814304692, 0.07977908828841665, 0.07988284282483876, 0.07995937638733855, 0.08009273822234655, 0.08027968370203188, 0.0804853414251198, 0.08062643934471209, 0.08075545186554588, 0.08091020249708024, 0.08130616891439664, 0.08150977830049745, 0.08157923339310726, 0.08171180824651135, 0.08175341078147597, 0.08177497760484714, 0.08184161534522091, 0.08187160565378185, 0.08190128058653406, 0.08192117906245304, 0.08197203232798506, 0.08201433338037112, 0.08208885371732946, 0.08228090628200754, 0.08228748309201721, 0.082357033007896, 0.08238943188351229, 0.08242527325688093, 0.08265508928604672, 0.08270260343984275, 0.08272807222845631, 0.08276490183022486, 0.08294735500355138, 0.08302732878557993, 0.08303512376634596, 0.08313723105369565, 0.08327601826555286, 0.0833101148241299, 0.08356378294056335, 0.08382669494464408, 0.08385194574745049, 0.08410562534343978, 0.08413048192012525, 0.0841540321782755, 0.08425130928579967, 0.08460310462502536, 0.0846648277974816, 0.08488134571662673, 0.08496551733927414, 0.08502963505190975, 0.08519264890635274, 0.08538924466868403, 0.08563529710369377, 0.0857517466953594, 0.08643392586970522, 0.08643446224707221, 0.08651985355951303, 0.08658885861300315, 0.08660670486717052, 0.08671929818726011, 0.08716874002717258, 0.08741102927088522, 0.08767019142975774, 0.08769547066873458, 0.08785834903386787, 0.08787566178923015, 0.08794179298531253, 0.0880026189335983, 0.08830721709860545, 0.08841524485172934, 0.08847225346480868, 0.08857248535045441, 0.08868092158772428, 0.08871154487609002, 0.08877868397528722, 0.08885063127016227, 0.08895252314327907, 0.08916994503112656, 0.08955105211173989, 0.08987730317391009, 0.09004693299695161, 0.09005542597039486, 0.09019766971104365, 0.09024656306717742, 0.09025085960109173, 0.090619453082752, 0.09075814724930452, 0.09081351443000289, 0.09088877101197236, 0.09094572043663231, 0.09109262992329886, 0.09128497909806955, 0.0914988265963784, 0.09157905019579844, 0.09163975229049189, 0.09193866978707253, 0.09201712769805902, 0.09205875705697965, 0.09208077655170427, 0.09216578350444772, 0.09219871670082784, 0.09222901346793957, 0.09225665653061499, 0.09250955840014354, 0.0925138097771553, 0.09251600668406247, 0.09252352639565718, 0.09261175574243025, 0.09284227668567867, 0.09291979006099384, 0.09293908471157367, 0.09336382985213332, 0.09384292227256286, 0.09401999852220393, 0.09489241149176705, 0.0951022087500248, 0.09581329652021713, 0.0959481810069224, 0.09600783569586599, 0.09602112562252611, 0.09608917349679735, 0.09645874636895324, 0.09650428693274328, 0.09674226808396501, 0.09744009096047138, 0.09788996967572734, 0.09805422932677062, 0.0980687741771744, 0.09845948296827021, 0.09871512479136377, 0.09880470808524094, 0.09900319455318357, 0.09913515883646122, 0.09913632891397375, 0.09955576313654407, 0.09965927791408505, 0.09977227764926418, 0.09999196794261728, 0.10005632967695137, 0.1002709702091764, 0.10063355118220113, 0.10066580077485707, 0.10069054382024824, 0.10092311116015662, 0.10099494054419555, 0.10101102588173257, 0.10119162152987833, 0.1013691423621858, 0.10143259832132083, 0.1015996125309176, 0.10171423832455995, 0.10171582354185388, 0.10173218738432169, 0.10173512326038614, 0.10185405666136835, 0.10187038897086308, 0.10198399245164051, 0.10202515374593177, 0.10206793875964196, 0.10212445269728955, 0.10215574947408178, 0.10263022255315152, 0.10268248396768037, 0.1028953943920607, 0.10309417431438044, 0.10328377841813859, 0.10339412351459303, 0.1034290974320835, 0.10347914073182042, 0.10348976884174822, 0.10372916671721508, 0.10380763932475001, 0.1041578871442367, 0.10419103657534702, 0.10422681368456871, 0.10435753125799149, 0.10452825429338652, 0.10471062791531437, 0.10477482324325224, 0.10504101256338656, 0.10513493455045576, 0.10518962045967026, 0.10556173802674042, 0.10564287992322849, 0.1057112300615436, 0.10572895978362233, 0.1057394510502008, 0.10594746326446348, 0.10597004245327071, 0.10609019532284247, 0.10616324269951258, 0.10620171149549475, 0.10650737561214467, 0.10683132876400407, 0.10689054807061683, 0.10699193497066359, 0.10711897419777867, 0.10714124332429494, 0.10722891819947838, 0.10729030540852051, 0.10730478748445084, 0.10739564465429907, 0.10742216358325768, 0.10752462653081153, 0.1078801004223519, 0.10790355980064761, 0.10813201185354462, 0.1084941769258596, 0.10859335500244204, 0.10867390354493024, 0.10869782086928154, 0.10886557336658839, 0.10968222059725899, 0.10976841931579093, 0.10988068744188866, 0.10992190447074467, 0.11024581272596656, 0.11027291008480851, 0.11092955946940447, 0.11096782207779562, 0.1109904594457422, 0.11153407392640138, 0.1116008744957529, 0.11164554077441516, 0.11169577883544343, 0.11206433772830972, 0.11208638465454072, 0.11219588049787198, 0.11237321334570072, 0.11245048339957212, 0.11247499599116795, 0.11282993065070347, 0.11287637324058354, 0.11288982268577782, 0.11308165823466161, 0.11322616099372779, 0.11357644522419556, 0.1136322078503873, 0.11382604919228743, 0.11385471725263613, 0.11392618475737272, 0.11393128002783358, 0.11399596983704047, 0.11401218419153147, 0.11401307079838575, 0.114115413529839, 0.11434521993719618, 0.11445834947875615, 0.11497648384737001, 0.11498078852257246, 0.1152574801869324, 0.11551885308643994, 0.11570023420316013, 0.11572114137470141, 0.11578037707053286, 0.11590382790977106, 0.11601389187891611, 0.11604285893441303, 0.11614334223111043, 0.11695524253538504, 0.11724761371184712, 0.11725372973034849, 0.11755958796983504, 0.11757294977228287, 0.11778632074032232, 0.11810690320131247, 0.11862782062145137, 0.11865180815107491, 0.11877606249580981, 0.1187947282426166, 0.11903370316688963, 0.11914360032290057, 0.11943920844250361, 0.1195357222515829, 0.11973862389900644, 0.12041195462072068, 0.12057644946620333, 0.12086102215790452, 0.12090786610472742, 0.12131463730567006, 0.12163987153299528, 0.12176188693716425, 0.12181372287238429, 0.12197806619684988, 0.12205233673185102, 0.12218109349900733, 0.12227103831943047, 0.12265823109513053, 0.12311031981094865, 0.12318690776528551, 0.12320704919975357, 0.12344623362453204, 0.12363951071059283, 0.12380158557348171, 0.1241396134175241, 0.12422079418093485, 0.12422218153503319, 0.1242343276802889, 0.12434223198950252, 0.1243816962616237, 0.12468990734649034, 0.12483352015395473, 0.1250534177582164, 0.1253826626394759, 0.12542487234112218, 0.1258420045803726, 0.126080258007204, 0.12630818987444092, 0.12633654220259471, 0.12656971316064422, 0.12673704012311585, 0.12681012311161036, 0.12688906157487195, 0.12692277669757862, 0.1269728357739452, 0.12698984677316025, 0.12728515159195003, 0.1274716571060551, 0.12748806108103553, 0.1275657086462716, 0.12758727546964285, 0.1276071078039502, 0.12774186615668193, 0.12778838679117902, 0.1279600039370081, 0.12805883225012962, 0.12817875470493698, 0.12826623071051668, 0.12832869135504457, 0.1284370698270575, 0.12877743207212977, 0.1288166875462975, 0.12881901838030213, 0.12932157711238773, 0.12938002716750438, 0.1300148153572612, 0.13001486640890486, 0.1301446274375595, 0.13017553700100937, 0.13023036544863997, 0.13026764725060194, 0.13037441868809616, 0.13041052597116323, 0.13047195841062842, 0.1304798589575072, 0.13054235659009286, 0.13080603242144184, 0.13085230252572236, 0.13096021697158286, 0.1310086375002675, 0.13116681471050412, 0.1312362983162801, 0.1312801913184147, 0.1314497972486382, 0.13167984234343133, 0.13180644441480635, 0.13182884906227482, 0.13187109244673542, 0.1320914729296612, 0.13218847510885293, 0.13223533194835468, 0.13228183554597184, 0.132505695184218, 0.1325332217588388, 0.1325679438616699, 0.13259531797919344, 0.13266200626870864, 0.13271380440237093, 0.13310421720405324, 0.1332693554735527, 0.13349629120603426, 0.13354730020095115, 0.13370422546610766, 0.1337568857629556, 0.13390254457861167, 0.13423401884764286, 0.13446169029171248, 0.13447859405677795, 0.1346054630694112, 0.13537961713361615, 0.13558773792468298, 0.1357196883847393, 0.1357721416347512, 0.13584613446173793, 0.13588467787007466, 0.13592953352829973, 0.13598013497507766, 0.1361474924395832, 0.13616896210896196, 0.13624074869249117, 0.1363179499378509, 0.1364517660954086, 0.1367640547597754, 0.13687469788625764, 0.13731798590330152, 0.13737415531767486, 0.13756913473510626, 0.137661248006557, 0.13777920230156873, 0.13784325787365118, 0.13786736643702813, 0.13793467920235444, 0.1379589104021863, 0.13797882730439687, 0.13812346159931232, 0.13840844873044766, 0.13847453651877104, 0.13882221911321208, 0.13886266103262307, 0.1389154818574528, 0.13901690430660013, 0.13916615964300946, 0.13921641070780863, 0.13932353579039874, 0.1394787172981212, 0.13955856876502407, 0.1398871324035961, 0.13989554681680805, 0.14006403741398749, 0.14011461140326295, 0.14012734226770696, 0.14023297924210473, 0.14025460165976117, 0.1402863720431123, 0.14075683887749563, 0.1409361648051533, 0.14112987376698408, 0.1413881199784506, 0.1414252697714403, 0.14159130512381296, 0.1416324117353969, 0.14165211501566155, 0.1417764913662878, 0.1418407785593407, 0.14198029362846087, 0.1420178564704894, 0.14208249693891364, 0.1421940698111429, 0.14238249572799722, 0.14242255396619471, 0.14254775289091295, 0.14271476888877913, 0.14274458306026644, 0.14302281880058887, 0.1431590081153558, 0.1432573731305421, 0.14330342139466265, 0.1435673132699087, 0.14358763808171507, 0.1440399750548053, 0.14404757325304324, 0.14422159466387455, 0.14467396318024373, 0.14476799773404608, 0.1449001959132904, 0.14511255351349298, 0.1452501324125132, 0.145261800031275, 0.14530478432885052, 0.145384373153902, 0.14559448617815915, 0.1457442468364958, 0.1459717251575917, 0.14601584839205062, 0.1460575734086702, 0.14617536175623203, 0.1463212347455915, 0.14638840991332447, 0.14640554952265214, 0.14652017866243633, 0.14660205115650932, 0.1466103921951876, 0.14667869099423453, 0.14676295419004853, 0.1471218827078526, 0.14717451607706666, 0.14749192210518403, 0.1477549286074547, 0.14783097944704496, 0.1479522774069945, 0.14813248567918155, 0.1482383685626372, 0.1483793967884481, 0.14846966785283164, 0.1487652872487025, 0.14878146419875748, 0.14883364888706807, 0.14887072144891708, 0.14899515527572857, 0.14904864173705193, 0.1493274309584236, 0.14965411761287353, 0.14982896996545242, 0.1498808117235814, 0.150048421259326, 0.1500546299418867, 0.1501399282009835, 0.1503503851472818, 0.15047476537655763, 0.15069471715604785, 0.15071838413943134, 0.15077502631133186, 0.1508318673070684, 0.15085658054338275, 0.15105240808078113, 0.1511036305363628, 0.15120267441954927, 0.1514342321144146, 0.15150536556603236, 0.15155445970595174, 0.15170881686800136, 0.15182987534623799, 0.15183220848618356, 0.15193599575718714, 0.15193996693142073, 0.15194410900997607, 0.15220285146010712, 0.1524697678592675, 0.15270479771577006, 0.15282153476454027, 0.15290858689367706, 0.1529300186761641, 0.15297391002165014, 0.15322993582281577, 0.1535193482652045, 0.153542320724912, 0.15372976047662057, 0.15397852714397864, 0.15416554641350305, 0.15462514474328237, 0.1546797044400818, 0.15484595301998735, 0.15487598873017117, 0.1548968159190572, 0.1549575732625042, 0.1550062533685967, 0.1550598374589035, 0.1552115523496856, 0.15539081976571845, 0.15587241721353365, 0.15587800676243568, 0.15593731936987643, 0.15616173176221793, 0.1561953746886196, 0.15634678146434638, 0.15657033029659595, 0.15666231443541756, 0.1568353754259646, 0.15721306553449074, 0.1572318098954579, 0.15724687132811183, 0.15734154784629845, 0.1575023512939235, 0.15755960056310178, 0.15764395803199213, 0.157747955126177, 0.15779963659614865, 0.15783695755690544, 0.15789213253256895, 0.15790931965790359, 0.15793345489536734, 0.15811948475225435, 0.15815005925505016, 0.1581606226280817, 0.1582059722844304, 0.15821241978709008, 0.15850581587776183, 0.15862644176172983, 0.15892044081497747, 0.1590659707089106, 0.1592709387459406, 0.1595024019174252, 0.15960803221449954, 0.15962364219853437, 0.15967926797443066, 0.1600557120909793, 0.16016146616927435, 0.16021268898385588, 0.1605510723925021, 0.16062666279668267, 0.1607873268999802, 0.1607997773087382, 0.1609750553718284, 0.1611438043125263, 0.16125052495157596, 0.16137893473955464, 0.16138636213305407, 0.1617123520532829, 0.1617329519483767, 0.16182147780290163, 0.16188592543916727, 0.16210168706494787, 0.16229993572190363, 0.1626857387696921, 0.16287806414066902, 0.16292157703892587, 0.16297729132103925, 0.1630385463459842, 0.16308145907139587, 0.16322654070947862, 0.16323375017493116, 0.1633996568538599, 0.1637256029991662, 0.16405927944599574, 0.16431055744449755, 0.16436011377841547, 0.1648514957661655, 0.16485800605386974, 0.16522762255487575, 0.16523262067236036, 0.16555408595446, 0.16586889389738108, 0.1662254131611099, 0.16629654279335934, 0.16649470279862114, 0.16654878737612133, 0.1666902612847272, 0.16686113996999194, 0.16689491012288785, 0.167129644954991, 0.16717001667911288, 0.16720244216915267, 0.16720385486391248, 0.1672470497447854, 0.16729445604310897, 0.1673359242823648, 0.16735421609380466, 0.16761001872656187, 0.16765738168551544, 0.167671175310698, 0.16778669217925535, 0.16785631490430686, 0.1678866375545493, 0.1679795432239853, 0.16826055568900436, 0.16836355391039232, 0.1683849064072316, 0.16859348558455792, 0.16873735553472496, 0.1687504901686946, 0.1688764306254889, 0.1689215296043849, 0.16900991178512817, 0.16905224777637057, 0.16929946353332206, 0.1695024407885082, 0.16959276407007046, 0.1696788050244863, 0.17013490693422245, 0.17019172286865822, 0.17025710466859553, 0.1702844065565162, 0.17034858481345835, 0.17047691669944381, 0.17048806831654562, 0.17069490351691163, 0.17071288421713443, 0.1707253396287449, 0.1711512302176733, 0.17155370979871698, 0.17160714844960098, 0.17172417642084545, 0.17176263530083427, 0.17192619608673285, 0.17206447100848463, 0.17207978274733945, 0.1721611007986776, 0.17239427993766784, 0.1727220878569331, 0.17346481720730778, 0.17348654561363672, 0.17367334904643142, 0.1736762217616915, 0.1741862187142511, 0.17419436945733713, 0.17437391287884377, 0.17444244972280176, 0.17445476045078231, 0.17452082565489885, 0.17454762793224982, 0.17456504997562636, 0.17465003864165504, 0.17472636200633712, 0.1752116675749301, 0.17525870136590296, 0.17536559138398147, 0.17537297960564086, 0.17539297463218434, 0.1754058756244746, 0.17544279519704095, 0.17547876852922495, 0.17551592177779787, 0.17559121832198005, 0.1757358998089025, 0.17575856026539535, 0.1758106335142323, 0.175947421690526, 0.17614384096112423, 0.17620547323260297, 0.17647707478815777, 0.176662791021281, 0.17670328877090474, 0.1767101418906774, 0.17690819451151268, 0.17707001209044546, 0.1772319446302881, 0.1772928862499422, 0.17730940862058472, 0.17733695139533837, 0.1775213173433549, 0.17757664198652126, 0.17774706252917616, 0.1778026734703287, 0.17819328135636284, 0.17826617975205772, 0.17855826033552671, 0.1788163156542699, 0.178827911934709, 0.17923839234346184, 0.17931710579579663, 0.1793530322859356, 0.17955967696078048, 0.18004014003767674, 0.18017622279921477, 0.18021493075331757, 0.18064811318124152, 0.18073509176724126, 0.18132444582243587, 0.181361986077253, 0.18153520867722878, 0.18154691198038428, 0.18170110617989166, 0.1818372071763373, 0.18195732323833594, 0.18197270395878026, 0.18199180671525708, 0.18199650783606947, 0.1820563376043365, 0.18245652094518527, 0.18266940673542695, 0.1831601401704451, 0.1833336559428911, 0.183374196613188, 0.18353968148367789, 0.1837288364701414, 0.18374722061789012, 0.18382806818982866, 0.18393293685101333, 0.1839586915772663, 0.1839937329399107, 0.18406963701250545, 0.18442260505646538, 0.18455693165623924, 0.18474629852502691, 0.18486613057487963, 0.18495083727605025, 0.185129036209148, 0.185239036300578, 0.18576449720477253, 0.18599465570263024, 0.18603682798720256, 0.18616730905594084, 0.18621834118888864, 0.1862543104399312, 0.18654121169464882, 0.18681084925677915, 0.18696435257028376, 0.1872910400531244, 0.18748092764757449, 0.1875450372606415, 0.18772055715934827, 0.18780272408254955, 0.18785221744280117, 0.1879042218407401, 0.18819475702730318, 0.18863213190698536, 0.18887639662220573, 0.1893015755911914, 0.18933073812832216, 0.19005912078209017, 0.1903715321526874, 0.19057701197006718, 0.1908383785761721, 0.19090655600875267, 0.1911167881071738, 0.19141775889742932, 0.19165452673300967, 0.19170581761372243, 0.19202922354946697, 0.19215297722789001, 0.19232321388572413, 0.1923653089531442, 0.19236838548367396, 0.19242457878344482, 0.192483022699724, 0.1925396338535688, 0.19274883062316464, 0.1933069738169349, 0.19336407658482005, 0.1934978285191785, 0.19355259368311054, 0.19419042157856925, 0.1942666758294535, 0.1946458123045125, 0.19471393419128488, 0.19487507387610234, 0.19510971130071245, 0.19547503793791784, 0.19555148467023795, 0.1956149978193352, 0.195625014573231, 0.1956466159580055, 0.19566158545545667, 0.19617684304363073, 0.19623108013906823, 0.19629153918466838, 0.19636156460178167, 0.19657579975382775, 0.1970285911151896, 0.1970851860624491, 0.1971061997460353, 0.197268470956045, 0.19765593691532848, 0.1977512890282812, 0.19830382938578284, 0.19838826868669562, 0.1985650758103652, 0.19861705107013355, 0.1990898652817468, 0.1994580951947678, 0.19957979320113758, 0.1998266212716148, 0.19987157873892913, 0.20024350645351582, 0.20027897946496656, 0.20033197923422388, 0.20036800349482645, 0.2006605456882772, 0.20078485088301612, 0.2009317303512132, 0.20113761248060963, 0.20118021204346045, 0.20125287590336954, 0.20138775110554535, 0.20141809132518323, 0.20143804343416288, 0.20168048029489852, 0.20180920065225016, 0.20196899114742958, 0.20238869561811615, 0.20241796084802866, 0.20241969643847865, 0.20274479640152546, 0.20319408572311423, 0.20374885342544985, 0.20376313193838222, 0.2038024767715512, 0.204065875288863, 0.20409292710725127, 0.20434584724616495, 0.20439327226593812, 0.20441334842084782, 0.20465304985536895, 0.20467140373959106, 0.20548996406350326, 0.20550659068477586, 0.2056596649558665, 0.20568006946063122, 0.20590493309152985, 0.20592816934392516, 0.20659225027021616, 0.20705120861763626, 0.20715696007972295, 0.20761931539768527, 0.20789981036486227, 0.20799826109240946, 0.20803491602094773, 0.20822959917459655, 0.20837802336847186, 0.20846927711601088, 0.208583510865967, 0.20874711839272947, 0.20904086905580455, 0.20935547569730073, 0.20959491843773895, 0.20961531114068965, 0.20961912250176462, 0.20969807872266583, 0.2097980103487658, 0.2100696119043206, 0.21075077753282498, 0.21087941653798029, 0.2110333608605282, 0.21107980282382377, 0.21112775707812548, 0.21139548211688125, 0.2114611114792718, 0.211499420994554, 0.21161837515875964, 0.21183330216874618, 0.21252106182803518, 0.21269455323205025, 0.2128604566906132, 0.2129083055706599, 0.21299124563553862, 0.21309554494600724, 0.21385057380912711, 0.21392299383992316, 0.21399116667808527, 0.21401317643117493, 0.2145263336290821, 0.21478459256623295, 0.2150319739609511, 0.2152947273105843, 0.21535899366845335, 0.21545987218861315, 0.21593049325225655, 0.21628488611345648, 0.21640052802463994, 0.21672102158117681, 0.21706701024498395, 0.2171817986676651, 0.21720995592798906, 0.21769774229546715, 0.21779264891633446, 0.21837529032716155, 0.21852920546010024, 0.21859446574265767, 0.21908829073469857, 0.21938545342429494, 0.2202574422573548, 0.22039732362992762, 0.2209480222403469, 0.2209842142392948, 0.22099524758283579, 0.22142021663714884, 0.2214747641422223, 0.22158312451778056, 0.2216654995983326, 0.22213558596790386, 0.22263326476242618, 0.22293337041236888, 0.22301563964264146, 0.22307235710622672, 0.22321961404839227, 0.22332530399732076, 0.2234274639225383, 0.22407201498284773, 0.22441069720420417, 0.22486947755675935, 0.22526662963430502, 0.2253425805842032, 0.2263882290665971, 0.2264473958156846, 0.22660076596336823, 0.22685367028375977, 0.22686655168206576, 0.22713342218714286, 0.227302441164105, 0.22743752631229153, 0.2285974281055538, 0.22869218197788055, 0.2288873294166787, 0.22934228242764068, 0.2297578915237876, 0.22998165784400473, 0.229996174724117, 0.23000706440690774, 0.23032749179428275, 0.23060472442508145, 0.23154050947499685, 0.23181624174711132, 0.23182569032143593, 0.233020138026945, 0.2332425370525406, 0.2332622696093525, 0.2333878524712278, 0.2340277316032357, 0.2340904526636309, 0.23446357692490452, 0.23466363163544243, 0.23468140722148825, 0.23483319051991747, 0.23493707341627126, 0.23524712422244337, 0.23540999933256773, 0.2355023028918788, 0.2358247502384212, 0.23621387248610867, 0.23624922149653327, 0.2362929492675115, 0.2365873863579407, 0.23693506403950879, 0.23707381042290243, 0.23733201573354376, 0.23734069915401398, 0.23754716550745714, 0.23766360615911755, 0.23769632861828094, 0.2379180509048496, 0.23812603193544102, 0.23847584779042583, 0.2385101674852588, 0.23893256354511885, 0.23932245700797455, 0.23960628273637527, 0.2404891124934077, 0.24084470362443766, 0.24090410405728954, 0.24106026522716967, 0.24112849226881586, 0.24145557221557656, 0.2416256908524073, 0.24164947143915236, 0.24181706770548528, 0.242283070896299, 0.24230096832236714, 0.24238972954359628, 0.24257453150990932, 0.24291810060184174, 0.24335312270420056, 0.24355563366759758, 0.24374730180425797, 0.24416937793205656, 0.24430895470040526, 0.244837321916793, 0.24486344346075262, 0.24486742918618967, 0.2450273265550226, 0.2453567242764733, 0.24554229190072768, 0.24612314736701563, 0.24619326503413835, 0.2462195788330048, 0.24638916549941484, 0.24641309255137617, 0.24653711695267172, 0.24663390462340848, 0.24768696105109292, 0.24770244804617658, 0.24789294201482634, 0.24800549787266998, 0.24863331098954736, 0.24911831931025413, 0.24933335705325788, 0.24951584616693603, 0.250013145459788, 0.25153006702829306, 0.2526314627820638, 0.2526368438052192, 0.2531459569272414, 0.253680106762449, 0.2541186040379873, 0.2546029947300256, 0.25492569477333116, 0.25494680047187185, 0.255026616248253, 0.25548411495879153, 0.2558328299521112, 0.25591318692588066, 0.2560077724609354, 0.2567276686904989, 0.256827365390422, 0.25707581554047726, 0.25736244873866926, 0.25773007858887, 0.25860787889594705, 0.2588988525740307, 0.25914311086399133, 0.25915232192418686, 0.2594173264632211, 0.2601550624790072, 0.26085700428499886, 0.26097442709360913, 0.2618905678792403, 0.2622678038409587, 0.26313854837762657, 0.2637171209864297, 0.2639934668665832, 0.26413585519000476, 0.2644534088783294, 0.2646205147605481, 0.2646497794871237, 0.2653193634163847, 0.26537863521134436, 0.26622024271909167, 0.2663351222571096, 0.26658620850206755, 0.2670352474525457, 0.26709990569997777, 0.2675224700117136, 0.2675361447645939, 0.26767076815016017, 0.2683269247018577, 0.26862938974792383, 0.26866124478156267, 0.2697628115042281, 0.2699273984940575, 0.270004152097279, 0.2705615899466869, 0.271596650070808, 0.2725158392422323, 0.27256453346692233, 0.2730480318804576, 0.2735099694727433, 0.27365073623387753, 0.27397526799930916, 0.27439781219689724, 0.274936456207546, 0.27502287305410156, 0.2752205319951311, 0.2755068207255163, 0.2771975443237899, 0.27753961616334377, 0.27923054552387633, 0.27937243691268127, 0.27974447400830404, 0.27993989621125753, 0.28011232347313214, 0.2818974932214101, 0.2824583222966587, 0.2832173089570947, 0.284544557827444, 0.2866187554858816, 0.2867142884166536, 0.28733462523316783, 0.28785950751180384, 0.2889178613115415, 0.28970805938586014, 0.2898651535870879, 0.29008520368879875, 0.29022028883698536, 0.2904232116877471, 0.29096992208963585, 0.29174447662728886, 0.2924002014637262, 0.29270903215269606, 0.2929245132522529, 0.29323528984648756, 0.2944241716753812, 0.2948552179685125, 0.2950566208767456, 0.29560432983951657, 0.2957964251069644, 0.2962886879238884, 0.296434656075753, 0.29670746762960476, 0.2985032866206398, 0.29908869607971944, 0.29928897388971476, 0.29947104860927415, 0.2999131755242831, 0.3004046180263159, 0.30075836550408197, 0.30077340521638296, 0.30088880362238135, 0.3010303988129181, 0.30147695916976547, 0.30163342855088765, 0.30177983671262565, 0.30184981765312136, 0.30270915874737014, 0.3028449193795134, 0.30288488251836215, 0.30324645453348403, 0.30337902316920085, 0.3057106333017886, 0.30578135396764716, 0.3082940751205079, 0.3086943490474304, 0.3087686626351401, 0.3089189156063797, 0.30912045417748185, 0.3102521176642625, 0.31116912519371154, 0.31160145788826205, 0.31217776427600136, 0.3124059889600341, 0.31245542564475076, 0.31249618949133007, 0.3126894181111544, 0.3130956512507007, 0.31357926033652567, 0.31364975563719133, 0.3138373156552689, 0.31391357459015196, 0.3154417610349419, 0.31545346940755636, 0.3166155647658091, 0.31855562300612444, 0.31875546115762177, 0.31904137369709745, 0.31953619688883494, 0.31966656036630064, 0.31978088173923835, 0.32081155127921357, 0.32219205345228197, 0.3225965755444288, 0.32271863005309875, 0.3231495797758218, 0.3233122634425752, 0.32379775662367954, 0.32400289763918827, 0.3240631602733482, 0.3247909270446477, 0.32490908927320983, 0.3265406884236892, 0.32681869039245026, 0.3275012104188852, 0.3290079740267805, 0.3299043953798153, 0.3311158577281874, 0.33264526723536253, 0.3332957891116495, 0.33346146892622597, 0.33394309515679, 0.33491715846833175, 0.338772228772958, 0.3391592902883711, 0.34054351121578846, 0.3411632781331671, 0.34159546764186677, 0.34172524262517245, 0.3421773871540585, 0.342194523205675, 0.34263688143181154, 0.3436832468129998, 0.344247796247447, 0.3443288872400278, 0.34556676495636107, 0.34575317323971944, 0.346584606393682, 0.34701246685305215, 0.34703599432991633, 0.34883839233514535, 0.35002693051840483, 0.3518696354254128, 0.35255467113116923, 0.35424526414065544, 0.35474309946530325, 0.3558215261886929, 0.36047742202784594, 0.3620895749503895, 0.362350201647308, 0.3626675356989133, 0.3639903678443412, 0.3654182474418751, 0.36546597925054464, 0.36609763346021806, 0.366458204319748, 0.36652125659607665, 0.36662620835983184, 0.36811269235880995, 0.3688412410604315, 0.36951471097301775, 0.36966805565853356, 0.37410249899867426, 0.37482523030982734, 0.3752014795221641, 0.37522697831907253, 0.37736633026454053, 0.37885833078976056, 0.38164715575788544, 0.3836760708469522, 0.3852839122170934, 0.3859341137942787, 0.3873825688363696, 0.3878864033268357, 0.38792370395541087, 0.3879294930746731, 0.38810765212288545, 0.3905113912082959, 0.3922507087393779, 0.3928808440431798, 0.3940571724235101, 0.39457607082067214, 0.3954204291103728, 0.3958439011239487, 0.39614805291599786, 0.3962664825686331, 0.39632753902873913, 0.39634875625147437, 0.39644137343758373, 0.39905605144279477, 0.4010788111637681, 0.40205862267086945, 0.40284193703887056, 0.4028996912712382, 0.4037378394833741, 0.40713412243280817, 0.40767035318995515, 0.41074345863392964, 0.4116994484270702, 0.41183228346788336, 0.4125241340682559, 0.41313298106067753, 0.4131413616726971, 0.4165073023378201, 0.4170910299708271, 0.41736228751313864, 0.417530914100124, 0.422905257098109, 0.42488086567832045, 0.42525481652057767, 0.42538078754563646, 0.42956482873456736, 0.4298453728028527, 0.4310591419966787, 0.4324318525870847, 0.43366750698148865, 0.4390274026995717, 0.43983142476684817, 0.44088262998140415, 0.44100655714453757, 0.44366339126730525, 0.44589353514650476, 0.4459688396787046, 0.4464605163973577, 0.4478653313145713, 0.44862764448108966, 0.4486308218450406, 0.45069781250016555, 0.4525649590576579, 0.45502906990000086, 0.461522423928576, 0.4627714226981971, 0.46409137692928293, 0.4662972113219806, 0.4710687177831359, 0.4744030035531136, 0.47482650382809993, 0.4770380113482237, 0.47781972645126175, 0.47884789962227065, 0.4793943063393926, 0.4822081556005476, 0.4839923863404854, 0.4847623623210736, 0.48582107282839915, 0.4872128512297125, 0.4878227645592986, 0.48963590866941953, 0.49457154691172367, 0.49903202137416947, 0.5040202460703349, 0.5041017419573657, 0.5070243013903835, 0.5080387363244319, 0.5162723597489319, 0.5178191877162053, 0.5188427309413505, 0.5247274803818939, 0.5256674276830049, 0.535127962806152, 0.5455190033148605, 0.5464604393281194, 0.5467105128229712, 0.5485309704789793, 0.5538613640295763, 0.5576997177293528, 0.5595029057218405, 0.5638615895453883, 0.5643729411315185, 0.5682913207456225, 0.5683005477665359, 0.5730569977116191, 0.5747323575398758, 0.5752164602539359, 0.5770712863321186, 0.5781869143185221, 0.578914444957332, 0.5806120551227998, 0.5809890275569897, 0.58251587047115, 0.5878739878598046, 0.5886676775911531, 0.5895796999715618, 0.5898885261826852, 0.5975693890636473, 0.5994799908267372, 0.6129872059136031, 0.63824717532087, 0.6442688256015027, 0.6474584452202108, 0.6563306517662569, 0.6671548164659226, 0.6740392672686119, 0.6768929436730313, 0.6831668043383966, 0.6839041198817792, 0.6885572331958177, 0.6908649081149024, 0.6920612296664429, 0.6990667075411975, 0.7463426466906452, 0.7589271619299551, 0.7705255303833236, 0.7832587604013258, 0.7863215280465419, 0.7867404955831223, 0.7899519370567071, 0.7952039118440414, 0.8071686051334009, 0.8098072469747499, 0.824557642578458, 0.8387827324482962, 0.8450991757268606, 0.8484912270667575, 0.866319952146588, 0.868869464245337, 0.8731860929711499, 0.8974502179493251, 0.9247820754088163, 0.945708085708247, 0.9531654476623874, 0.97285957023705, 0.978435964165061, 0.9988722999036046, 1.0091875843781877, 1.03660559037181, 1.0755888624480752, 1.0838934511470404, 1.184264617546401, 1.190883331430475, 1.20542854301892, 1.2246991763358568, 1.2299287217720174, 1.2847339453802649, 1.2864298666630785, 1.3006956558247733, 1.3244697380205206, 1.361528334146203, 1.3767403048998437, 1.5011928125897522, 1.587670892815177, 2.08957609883176, 2.1378043307064813, 2.6975088751027636, 3.608392877407768, 8.216820202401392e-05] will be ignored\n",
            "  warnings.warn(\n"
          ]
        }
      ]
    },
    {
      "cell_type": "code",
      "source": [
        "# Train an XGBoost model on the training subset\n",
        "xgb_model_ndcg = XGBRegressor(n_estimators=100, random_state=1)\n",
        "xgb_model_ndcg.fit(train_subset[features], train_subset['relevance_score_1'])\n",
        "\n",
        "# Use the XGBoost model to predict relevance scores for hotels in the validation subset\n",
        "valid_subset['xgb_ndcg_predicted_score'] = xgb_model_ndcg.predict(valid_subset[features])\n",
        "\n",
        "# Binarize the relevance scores using MultiLabelBinarizer\n",
        "\n",
        "train_relevance_bins_xb = binarizer.fit_transform(train_subset['relevance_score_1'].values.reshape(-1, 1))\n",
        "valid_relevance_bins_xb = binarizer.transform(valid_subset['relevance_score_1'].values.reshape(-1, 1))\n",
        "valid_predicted_bins_xb = binarizer.transform(valid_subset['xgb_ndcg_predicted_score'].values.reshape(-1, 1))\n",
        "\n",
        "\n",
        "\n",
        "# Evaluate the XGBoost model's performance on the validation subset using NDCG\n",
        "valid_ndcg_xb = ndcg_score(valid_relevance_bins_xb, valid_predicted_bins_xb, k=5)\n",
        "#valid_ndcg_xb = ndcg_score(valid_subset[['relevance_score']], [valid_subset['xgb_ndcg_predicted_score']])\n",
        "print('XGBoost Validation NDCG:', valid_ndcg_xb)\n"
      ],
      "metadata": {
        "id": "TQ-7UMBVBO7N",
        "colab": {
          "base_uri": "https://localhost:8080/"
        },
        "outputId": "b3c148d1-7af9-4e2b-a488-92edf60d2a7a"
      },
      "execution_count": 27,
      "outputs": [
        {
          "output_type": "stream",
          "name": "stdout",
          "text": [
            "XGBoost Validation NDCG: 0.0\n"
          ]
        },
        {
          "output_type": "stream",
          "name": "stderr",
          "text": [
            "/usr/local/lib/python3.10/dist-packages/sklearn/preprocessing/_label.py:895: UserWarning: unknown class(es) [0.0537222927217972, 0.05507182038711434, 0.05649429549379998, 0.057995796995301475, 0.059583098582603064, 0.06126377085151063, 0.06304630204580654, 0.06494024143974593, 0.06695637047200399, 0.0691069081064126, 0.07140575868112524, 0.07386881286831735, 0.07651431551382, 0.07936331836282286, 0.08244024143974593, 0.08577357477307926, 0.08939676317887636, 0.09334933234883684, 0.09767833667784116, 0.10244024143974594, 0.10770339933448277, 0.11355135255085703, 0.12008730026327534, 0.12744024143974592, 0.13577357477307925, 0.14529738429688877, 0.15628639528589977, 0.16910690810641257, 0.18425842325792774, 0.20244024143974593, 0.22466246366196813, 0.2524402414397459, 0.2881545271540316, 0.33577357477307923, 0.40244024143974594, 0.502440241439746, 0.6691069081064126, 1.002440241439746, 10.000412316725216, 10.000518769064763, 10.000915599992675, 10.001169481218131, 10.001236399604352, 10.001305909239308, 10.001603849238172, 10.001870522436917, 10.00192778516762, 10.001970909377587, 10.001996207206307, 10.00243926236706, 10.002589868434683, 10.002815156804234, 10.003219782342713, 10.003296848213107, 10.004067686300033, 10.004135478268061, 10.004484304932735, 10.00551511140525, 10.005670541536716, 10.006062443164595, 10.006158393890873, 10.00679763442322, 10.007057661091114, 10.007400281210685, 10.007751937984496, 10.007983394539359, 10.007986582541331, 10.00817394147458, 10.008289124668435, 10.008314625426124, 10.008325008325007, 10.00890789239266, 10.009004141905276, 10.009052231375033, 10.009092562284051, 10.009309253397877, 10.009352787130565, 10.009756097560976, 10.010477787091366, 10.014388489208633, 10.016455487905217, 10.01695489996609, 2.002440241439746, 3.0564942954938, 3.0579957969953013, 3.0630463020458065, 3.066956370472004, 3.069106908106413, 3.0714057586811254, 3.07651431551382, 3.082440241439746, 3.0857735747730795, 3.0893967631788763, 3.093349332348837, 3.0976783366778413, 3.102440241439746, 3.1077033993344827, 3.113551352550857, 3.127440241439746, 3.1357735747730793, 3.1452973842968888, 3.1562863952858997, 3.1691069081064125, 3.1842584232579276, 3.202440241439746, 3.2246624636619683, 3.252440241439746, 3.2881545271540316, 3.3357735747730795, 3.402440241439746, 3.502440241439746, 3.6691069081064125, 4.0024402414397455, 5.0024402414397455, 8.067933467614234, 8.071465822015325, 8.078408872715302, 8.079321772419506, 8.081245617390197, 8.083939261736834, 8.090758162700608, 8.092590667555354, 8.092948408961135, 8.093822843822844, 8.095814826440984, 8.095985362109513, 8.096969696969698, 8.098286968679359, 8.100275017667544, 8.100444530391945, 8.10386727511795, 8.10726048148113, 8.108708525646607, 8.109003293287637, 8.10920202665163, 8.1121405134144, 8.112244398187828, 8.113369620043514, 8.113734862401683, 8.113923698134224, 8.114869888475836, 8.117831541218637, 8.12608225108225, 8.133555987008899, 8.134940357852882, 8.135372368011618, 8.1354375333165, 8.13664832371986, 8.136916535282595, 8.137521113391124, 8.137645908803403, 8.139058087168918, 8.139096357768556, 8.139281465619796, 8.139653247382501, 8.140286469197608, 8.145915714504183, 8.147067314632151, 8.14763041254688, 8.1479237689908, 8.148904006046862, 8.149060616802553, 8.154233498520938, 8.158694963573012, 8.160156098318643, 8.160522612652402, 8.161284416268051, 8.162595825733458, 8.163418279815332, 8.167656814693796, 8.169608189198728, 8.169874363495136, 8.170514004309018, 8.171275598777097, 8.171880702852077, 8.172694757570277, 8.173118695829839, 8.177041186845107, 8.201470069387275, 8.201707650273223, 8.202160573848413, 8.203696037847427, 8.223258749441426, 8.225270166383885, 8.225440346699276, 8.225657821906147, 8.226418789430245, 8.22913593903638, 8.231296632385561, 8.234783458247847, 8.25098564895127, 8.251156363468166, 8.25170033326532, 8.254419498828833, 8.25633593106507, 8.261968880909635, 8.266406890894176, 8.286279717477981, 8.286675935135374, 8.286755984934054, 8.2872057322683, 8.287456597762374, 8.287729723971335, 8.28801160474298, 8.288361048723127, 8.288544420994754, 8.289772562569933, 8.292387180416007, 8.298639192008716, 8.298794730449407, 8.334701771671503, 8.33497817838893, 8.335400303155575, 8.335454179126636, 8.336006772713096, 8.336111882930444, 8.336463811670423, 8.336901703301931, 8.337182299885814, 8.344918134074762, 8.345500263616824, 8.500984174474452, 8.501125593750704, 8.501749413946328, 8.502246181491465, 8.50229600036736, 8.503085657862256, 8.504409948844593, 8.5044927666457, 8.50537750053775, 8.505952380952381, 8.506023370678232, 8.507783312577834, 8.508716116098666, 8.5090661831369, 8.510112245929822, 8.510118385105738, 8.520738282870179, 8.667042446880334, 8.667240726070332, 8.667864199748518, 8.667871485943774, 8.667932585597217, 8.667961265599917, 8.66800977784941, 8.668389853873725, 8.669136046358487, 8.66990144702508, 8.67028121159546, 8.671637833896732, 8.672239560112944, 8.672308733920108, 8.673250812044596, 8.674052191038896, 8.675725458223873, 8.67621320604614, 8.676996178080776, 8.678461901391836, 9.00026440127653, 9.001314647805852, 9.001413307705354, 9.001785746174038, 9.001950458357713, 9.002003124874804, 9.002342030071667, 9.002491590880778, 9.002566076469078, 9.003220611916264, 9.003826432999158, 9.004375218760938, 9.00502664119835, 9.00515304544986, 9.005636978579481, 9.005761696243374, 9.005826147751106, 9.006208866261021, 9.006862475981334, 9.007314218841428, 9.007444907683144, 9.007564296520423, 9.007694675284704, 9.007831466833737, 9.008495454931612, 9.008744316194473, 9.009502993442934, 9.00981450583963, 9.010319917440661, 9.018628912071534] will be ignored\n",
            "  warnings.warn(\n",
            "/usr/local/lib/python3.10/dist-packages/sklearn/preprocessing/_label.py:895: UserWarning: unknown class(es) [0.05507182038711434, 0.05649429549379998, 0.057995796995301475, 0.059583098582603064, 0.06126377085151063, 0.06304630204580654, 0.06494024143974593, 0.06695637047200399, 0.0691069081064126, 0.07140575868112524, 0.07386881286831735, 0.07651431551382, 0.07936331836282286, 0.08244024143974593, 0.08577357477307926, 0.08939676317887636, 0.09334933234883684, 0.09767833667784116, 0.10244024143974594, 0.10770339933448277, 0.11355135255085703, 0.12008730026327534, 0.12744024143974592, 0.13577357477307925, 0.14529738429688877, 0.15628639528589977, 0.16910690810641257, 0.18425842325792774, 0.20244024143974593, 0.22466246366196813, 0.2524402414397459, 0.2881545271540316, 0.33577357477307923, 0.40244024143974594, 0.502440241439746, 0.6691069081064126, 1.002440241439746, 10.000307368861076, 10.001104545203512, 10.001289091705983, 10.003125390673834, 10.004018485031143, 10.004118955432903, 10.004252966444096, 10.004369865408146, 10.004836993324949, 10.005100479445067, 10.005222750300309, 10.006900358818658, 10.007880841673892, 10.01246105919003, 10.012759984688019, 2.002440241439746, 3.0738688128683176, 3.079363318362823, 3.0857735747730795, 3.093349332348837, 3.102440241439746, 3.1077033993344827, 3.127440241439746, 3.1357735747730793, 3.1691069081064125, 3.202440241439746, 3.2246624636619683, 3.252440241439746, 3.2881545271540316, 3.3357735747730795, 3.502440241439746, 3.6691069081064125, 4.0024402414397455, 5.0024402414397455, 8.080415672620198, 8.092454470995325, 8.097512011148684, 8.106977880120018, 8.119436119436118, 8.134086436116801, 8.13506125481658, 8.140029014618904, 8.14838811630847, 8.15303422407025, 8.154392214021986, 8.158947674099188, 8.176681689200466, 8.179431537741468, 8.18080693815988, 8.222935183864886, 8.252935047401015, 8.287688073808397, 8.290623465881199, 8.290667723400041, 8.300065606035757, 8.334033888172767, 8.334975639130674, 8.338019808166964, 8.34326875310482, 8.350000000000001, 8.502876456205954, 8.506205398696867, 8.506865774116031, 8.512704865963665, 8.512779552715655, 8.667661444085219, 8.668682592480597, 8.670314437878456, 8.672776895189212, 9.000667877751656, 9.001419647927314, 9.001606219281056, 9.001663339986694, 9.002592554184382, 9.00333678134072, 9.005973358819665, 9.006060606060606, 9.006380399413004, 9.007611508601006, 9.00836610056053, 9.011321181931393, 9.01237470610073] will be ignored\n",
            "  warnings.warn(\n",
            "/usr/local/lib/python3.10/dist-packages/sklearn/preprocessing/_label.py:895: UserWarning: unknown class(es) [-0.0014494816, -0.002774986, -0.0048797536, -0.005670558, -0.0068733795, -0.0075185015, -0.007574783, -0.009147257, -0.0095547885, -0.010375274, -0.010823023, -0.013109386, -0.01322677, -0.014500583, -0.015513976, -0.015609641, -0.016604817, -0.016856559, -0.01720145, -0.021629088, -0.022809502, -0.023682639, -0.026750775, -0.02713382, -0.027474418, -0.03205501, -0.03575731, -0.036225453, -0.03641062, -0.0382487, -0.04336378, -0.04403659, -0.045318276, -0.0464136, -0.047436826, -0.048457578, -0.0494932, -0.04987026, -0.05317558, -0.05355235, -0.057823922, -0.057827797, -0.058428444, -0.060087, -0.060554825, -0.06072387, -0.06370766, -0.064029105, -0.06447065, -0.07163306, -0.07166345, -0.073245965, -0.077129565, -0.07824011, -0.07905719, -0.08024342, -0.08062905, -0.08071912, -0.0808581, -0.08292407, -0.085412934, -0.08577235, -0.08745987, -0.09032378, -0.09075969, -0.0914689, -0.09279436, -0.09453806, -0.09645506, -0.098092034, -0.10235447, -0.10288154, -0.10564421, -0.10649458, -0.1067277, -0.108296, -0.109961, -0.11230394, -0.11878784, -0.11879584, -0.118975036, -0.12351053, -0.12549736, -0.12666456, -0.12982307, -0.13089684, -0.13531426, -0.1459146, -0.14779471, -0.15339035, -0.16010968, -0.16741131, -0.170987, -0.17625356, -0.17665802, -0.17746194, -0.1814496, -0.19141227, -0.1920456, -0.19645624, -0.1982848, -0.2015707, -0.2024961, -0.20593575, -0.21251331, -0.21908152, -0.22005925, -0.22342236, -0.23660919, -0.25692794, -0.27160686, -0.2981512, -0.29879627, -0.30000827, -0.30041346, -0.30572915, -0.310808, -0.31432483, -0.33325285, -0.33876446, -0.35183465, -0.3860986, -0.41852948, -0.4331777, -0.45861125, -0.61815476, -2.693059e-05, 0.0015358052, 0.002034768, 0.005643764, 0.0066983495, 0.007472019, 0.007576014, 0.007637413, 0.009019174, 0.010289559, 0.011508255, 0.014276475, 0.014592864, 0.015446382, 0.015675047, 0.016590152, 0.016906086, 0.018126743, 0.018188583, 0.0193012, 0.019633347, 0.019736549, 0.020426203, 0.020642823, 0.021137834, 0.021275189, 0.02208632, 0.022144217, 0.02229617, 0.023795463, 0.024221137, 0.02548819, 0.02625315, 0.027177915, 0.03123923, 0.031410575, 0.031732634, 0.03356924, 0.03381109, 0.034245253, 0.03475218, 0.037086494, 0.037789535, 0.03850669, 0.040324576, 0.04041257, 0.04233946, 0.042479765, 0.043581232, 0.043799706, 0.0439726, 0.044873424, 0.044950087, 0.046111226, 0.04669568, 0.046976548, 0.04803955, 0.048642006, 0.049513318, 0.04978827, 0.049825344, 0.05006113, 0.05101939, 0.051023528, 0.051277865, 0.05182229, 0.05309177, 0.05451298, 0.05590711, 0.056302138, 0.057132732, 0.057861745, 0.058318675, 0.05934442, 0.059452392, 0.061179657, 0.06172405, 0.06185429, 0.06321001, 0.06344148, 0.06382978, 0.06446013, 0.065202475, 0.065728426, 0.06622145, 0.066475034, 0.067004114, 0.06724698, 0.06735471, 0.06799398, 0.068200134, 0.068216905, 0.06823179, 0.06865234, 0.06899495, 0.06900616, 0.06936077, 0.06945145, 0.07017186, 0.07097152, 0.0723405, 0.07324022, 0.07364122, 0.073654935, 0.0740051, 0.07563877, 0.075757615, 0.07609452, 0.07674279, 0.07701317, 0.07744211, 0.0797706, 0.08012141, 0.08021193, 0.08107156, 0.0811373, 0.08179593, 0.083554015, 0.08371567, 0.08407593, 0.084163696, 0.08417169, 0.08461155, 0.08625194, 0.08765738, 0.08782937, 0.08786954, 0.08816785, 0.088398166, 0.08840415, 0.08857988, 0.08882284, 0.08980968, 0.089851886, 0.091523655, 0.09182186, 0.09250578, 0.09260387, 0.09367598, 0.0936863, 0.09404288, 0.09406427, 0.095302455, 0.09568111, 0.096161075, 0.096472, 0.09677427, 0.09732265, 0.097860165, 0.09830527, 0.09885286, 0.09927891, 0.10063931, 0.10064327, 0.101187274, 0.101235345, 0.10138239, 0.1015586, 0.10189401, 0.10202291, 0.10347146, 0.10362079, 0.10430133, 0.104442604, 0.104905754, 0.10567703, 0.10679633, 0.10871335, 0.108908474, 0.10996894, 0.11015929, 0.11082958, 0.11097369, 0.11149329, 0.1122167, 0.11256916, 0.11262648, 0.112672426, 0.11352664, 0.11358891, 0.11444208, 0.115286425, 0.11581888, 0.115910575, 0.116965756, 0.11731436, 0.11742968, 0.1178997, 0.12094584, 0.12100109, 0.12153454, 0.12168913, 0.12235536, 0.12286554, 0.123960346, 0.12437018, 0.12446676, 0.12461662, 0.12512118, 0.12554137, 0.12597631, 0.12647298, 0.12693208, 0.1270001, 0.12732308, 0.12787361, 0.12806657, 0.12808216, 0.1282225, 0.12830888, 0.12854058, 0.12909357, 0.12925987, 0.12928696, 0.12933625, 0.12946522, 0.12976795, 0.13007194, 0.13022311, 0.13101394, 0.13106066, 0.13113949, 0.1313682, 0.13147736, 0.13250452, 0.13278751, 0.13323289, 0.13330615, 0.13343138, 0.13353653, 0.13372436, 0.13413124, 0.13496453, 0.1354828, 0.13559134, 0.1357518, 0.13610221, 0.13615265, 0.13672869, 0.13715407, 0.1373056, 0.13816233, 0.13947594, 0.13967806, 0.14020433, 0.14249669, 0.14347748, 0.14348055, 0.14361227, 0.14402503, 0.14406602, 0.14422016, 0.14516155, 0.14527862, 0.14544855, 0.14618963, 0.14619017, 0.14627312, 0.14658098, 0.14749353, 0.14764413, 0.1483472, 0.14884996, 0.14936945, 0.14943635, 0.14990148, 0.15007631, 0.15039419, 0.15293075, 0.1531972, 0.15319991, 0.15363654, 0.15380642, 0.15400071, 0.15447158, 0.15550934, 0.15618874, 0.15715125, 0.15725388, 0.1577602, 0.15817633, 0.15823244, 0.15868913, 0.15977703, 0.15991493, 0.16057336, 0.16286781, 0.16396137, 0.1639932, 0.16454177, 0.16507742, 0.16574933, 0.16589803, 0.16624823, 0.1663788, 0.16641317, 0.16657476, 0.1667012, 0.16673188, 0.1668804, 0.16752152, 0.16831473, 0.169296, 0.17003782, 0.17032798, 0.17075163, 0.17175882, 0.17178605, 0.17189918, 0.17207976, 0.1722658, 0.17242146, 0.17272729, 0.17318588, 0.17332232, 0.17337345, 0.17364816, 0.17408921, 0.17431447, 0.17474121, 0.17474726, 0.1747533, 0.1747668, 0.1768107, 0.17706096, 0.17738284, 0.17754336, 0.1787548, 0.17925498, 0.17986383, 0.18003352, 0.18257757, 0.1826137, 0.18286046, 0.18314514, 0.18344922, 0.18456696, 0.1846582, 0.1849915, 0.1850193, 0.18538928, 0.18586585, 0.18592009, 0.1864436, 0.18692267, 0.18708333, 0.1876277, 0.18794641, 0.187989, 0.18815702, 0.18821795, 0.18854421, 0.18893738, 0.18981206, 0.19034295, 0.1910714, 0.19222231, 0.19251168, 0.1937838, 0.19455402, 0.1950511, 0.1950532, 0.19529757, 0.19546385, 0.19555463, 0.19569428, 0.19616722, 0.19626291, 0.19682106, 0.19693495, 0.19708139, 0.19719215, 0.1974328, 0.19792324, 0.1983723, 0.19837841, 0.19848353, 0.19858119, 0.19872923, 0.19883257, 0.19892839, 0.19897798, 0.19910406, 0.19941711, 0.1999074, 0.20036685, 0.200623, 0.2013169, 0.2016514, 0.20186162, 0.2019879, 0.2027815, 0.2028299, 0.2035744, 0.2036042, 0.20407668, 0.20422733, 0.20465887, 0.20501685, 0.20524497, 0.20565544, 0.20569974, 0.20635056, 0.2065239, 0.20663524, 0.20665911, 0.20693846, 0.20700525, 0.20737576, 0.20765008, 0.20787275, 0.20788264, 0.20905334, 0.20907314, 0.20913146, 0.20984922, 0.2112942, 0.2124111, 0.21384847, 0.21403953, 0.21445206, 0.21499537, 0.21584104, 0.21586804, 0.2165469, 0.21677192, 0.21677919, 0.21745895, 0.2176199, 0.21790192, 0.21828559, 0.2184028, 0.21846364, 0.21853735, 0.21868953, 0.21909158, 0.21976659, 0.22006036, 0.22029477, 0.22039208, 0.22055529, 0.22129014, 0.22137138, 0.2213943, 0.22159462, 0.22209021, 0.22228085, 0.22236457, 0.22289261, 0.22295171, 0.22307354, 0.22332346, 0.22341801, 0.2240913, 0.22613245, 0.22679657, 0.22684602, 0.22686495, 0.22761331, 0.22870816, 0.22904715, 0.22949995, 0.22959557, 0.2297085, 0.22973846, 0.23021229, 0.23164335, 0.23225592, 0.23226365, 0.232462, 0.23258272, 0.2334781, 0.23485893, 0.23526837, 0.23551846, 0.2356297, 0.23631977, 0.23748659, 0.23767485, 0.2377284, 0.2377605, 0.23803848, 0.23813476, 0.23856905, 0.23860297, 0.23943892, 0.23987894, 0.24016052, 0.24036233, 0.24101569, 0.24171524, 0.24186693, 0.24197981, 0.24200495, 0.2420444, 0.24224058, 0.24243777, 0.2427839, 0.2433536, 0.24472581, 0.24491964, 0.24494179, 0.24499635, 0.24506032, 0.2451233, 0.24528416, 0.2459685, 0.24641761, 0.24645723, 0.24658956, 0.24682845, 0.2470899, 0.247421, 0.24777463, 0.24788532, 0.24843739, 0.24850512, 0.2486099, 0.24880002, 0.24901879, 0.24983951, 0.24996926, 0.25030494, 0.2506988, 0.2511745, 0.2514991, 0.25169158, 0.25169602, 0.25189263, 0.2520345, 0.25250658, 0.25264376, 0.25349718, 0.25393042, 0.2540028, 0.2546339, 0.25503632, 0.25512615, 0.2555339, 0.25565058, 0.2561344, 0.25622943, 0.2566726, 0.25720757, 0.25742364, 0.25766256, 0.25859872, 0.2592309, 0.25929558, 0.25982422, 0.2604013, 0.26047212, 0.26102212, 0.2610439, 0.26202667, 0.26246378, 0.26296547, 0.26315612, 0.26317048, 0.26336932, 0.26377168, 0.26391962, 0.2639819, 0.26480162, 0.26483518, 0.26607624, 0.26660556, 0.2670207, 0.2672005, 0.26721033, 0.267366, 0.26810706, 0.26891387, 0.2691704, 0.2697979, 0.27029967, 0.2707217, 0.27084056, 0.27091023, 0.27097288, 0.2714706, 0.27156284, 0.2717681, 0.2722311, 0.27232832, 0.27252832, 0.2727637, 0.27292094, 0.27339208, 0.27344415, 0.27354646, 0.27376533, 0.2739678, 0.27426997, 0.27542132, 0.2754641, 0.27576667, 0.27594283, 0.27604452, 0.27622727, 0.2762484, 0.27645513, 0.27666196, 0.27775708, 0.27785537, 0.2780768, 0.27814636, 0.27868402, 0.27879387, 0.27897263, 0.27930418, 0.27937, 0.279557, 0.27973714, 0.27977765, 0.27991903, 0.27997017, 0.2805882, 0.28080156, 0.28120562, 0.2829369, 0.28304175, 0.28376722, 0.28382465, 0.28418276, 0.28562126, 0.2856787, 0.28573838, 0.28583556, 0.28583574, 0.28588167, 0.28620893, 0.2868892, 0.2869428, 0.2871522, 0.28779218, 0.28788662, 0.28800526, 0.28860012, 0.2890006, 0.28944883, 0.290415, 0.2904581, 0.29053432, 0.29055628, 0.290612, 0.29127195, 0.29143998, 0.29147545, 0.29244402, 0.29298055, 0.2930871, 0.2949851, 0.29534477, 0.29566377, 0.2963642, 0.29649332, 0.29737827, 0.29749027, 0.2984588, 0.298527, 0.2987851, 0.29898348, 0.29923117, 0.29942083, 0.2995194, 0.30011058, 0.300266, 0.30081663, 0.30112153, 0.3012628, 0.3014838, 0.30149895, 0.30178666, 0.30237925, 0.3025653, 0.3028589, 0.3031798, 0.30336776, 0.30343264, 0.3036901, 0.30424353, 0.30433825, 0.30501673, 0.30553085, 0.30591497, 0.30607265, 0.306074, 0.30630633, 0.30679163, 0.3071536, 0.30721208, 0.3077793, 0.3078578, 0.30828643, 0.30834186, 0.30903748, 0.3091036, 0.30916664, 0.30919448, 0.3095242, 0.309882, 0.31001273, 0.3104611, 0.3107998, 0.31109068, 0.3112743, 0.3113538, 0.31161305, 0.3125113, 0.31265527, 0.3127555, 0.31311843, 0.3138278, 0.3138958, 0.31504694, 0.31555226, 0.31618986, 0.31631726, 0.3164559, 0.31709498, 0.31726825, 0.31808907, 0.31861183, 0.31954998, 0.31980577, 0.3209531, 0.3212653, 0.32196504, 0.32246512, 0.32299143, 0.32300285, 0.32384238, 0.3239376, 0.3254217, 0.32550874, 0.32619444, 0.32714206, 0.3273037, 0.32775894, 0.32802403, 0.32873204, 0.32985, 0.3300721, 0.33040306, 0.330557, 0.33116838, 0.33133414, 0.33163717, 0.33184576, 0.33286187, 0.3329713, 0.33341205, 0.33352795, 0.3337474, 0.33415902, 0.33460477, 0.33528325, 0.335618, 0.3356597, 0.3357966, 0.33615276, 0.33630615, 0.3364543, 0.3367404, 0.33688313, 0.33719772, 0.33794445, 0.33839247, 0.33853316, 0.3386885, 0.3391213, 0.3399338, 0.3402234, 0.34033257, 0.34044987, 0.34164512, 0.3421485, 0.3422022, 0.34224847, 0.3428741, 0.34296724, 0.34402773, 0.344183, 0.34426102, 0.34462744, 0.34469634, 0.3448232, 0.34497634, 0.34520748, 0.34587905, 0.34682828, 0.34700164, 0.34723505, 0.34762555, 0.34776255, 0.3483439, 0.34835392, 0.3488595, 0.34891582, 0.3500064, 0.35051468, 0.3514342, 0.35222253, 0.35225925, 0.3527427, 0.35317945, 0.3535339, 0.35431418, 0.35432634, 0.35455975, 0.35545075, 0.3558486, 0.35607058, 0.35615245, 0.35693234, 0.35747683, 0.35819918, 0.35852766, 0.3593724, 0.35962123, 0.36025903, 0.36061925, 0.36113268, 0.3611939, 0.36183247, 0.36209384, 0.36235145, 0.36244455, 0.3629501, 0.36363325, 0.36387804, 0.36399394, 0.36419252, 0.36557078, 0.36557817, 0.3656861, 0.36586234, 0.36588198, 0.36596802, 0.36639306, 0.36704952, 0.36727563, 0.3675067, 0.36777267, 0.3687798, 0.36906978, 0.36979172, 0.37004697, 0.37006992, 0.37044287, 0.37153837, 0.3717261, 0.3719583, 0.37199393, 0.3720938, 0.3721294, 0.37213215, 0.37238735, 0.37253782, 0.3734381, 0.37385842, 0.37386096, 0.37388402, 0.37397408, 0.37404302, 0.37406078, 0.37419796, 0.374574, 0.37572926, 0.3767272, 0.37713164, 0.3772775, 0.37736407, 0.37792766, 0.3779886, 0.3781247, 0.37889186, 0.37905866, 0.37941143, 0.3794265, 0.3795024, 0.3796165, 0.37981305, 0.37985194, 0.38002467, 0.38059327, 0.38101572, 0.3812655, 0.38131478, 0.38175276, 0.38190597, 0.38193622, 0.3821029, 0.38213992, 0.3821749, 0.38279453, 0.38340235, 0.38524094, 0.38596314, 0.38686883, 0.38691032, 0.38713756, 0.38724273, 0.38735113, 0.38861197, 0.3888568, 0.38906163, 0.38917643, 0.38953927, 0.38955453, 0.3901991, 0.39062, 0.39085838, 0.3911478, 0.39131585, 0.39143533, 0.39224622, 0.39232257, 0.39236465, 0.3925637, 0.39348227, 0.39402756, 0.39407197, 0.39446437, 0.39486113, 0.3951216, 0.39515823, 0.39706862, 0.3972435, 0.39858958, 0.39893678, 0.39926437, 0.39934427, 0.39987728, 0.4003047, 0.4005388, 0.40170622, 0.40176412, 0.40282115, 0.403247, 0.40415707, 0.40493602, 0.40621912, 0.40624326, 0.40663975, 0.40697855, 0.40726113, 0.407357, 0.40741155, 0.4081033, 0.40812758, 0.40932664, 0.4099456, 0.410488, 0.41050366, 0.41103557, 0.4115629, 0.41229972, 0.4125934, 0.4146097, 0.41558766, 0.41589, 0.41595986, 0.4162171, 0.4167447, 0.4173027, 0.41793343, 0.41840926, 0.4184606, 0.41853735, 0.4189097, 0.4195842, 0.41959006, 0.42002445, 0.4202253, 0.4202328, 0.42027166, 0.42071122, 0.42100653, 0.42128766, 0.4218947, 0.42244205, 0.42330733, 0.42331907, 0.4236874, 0.42405438, 0.42545685, 0.426159, 0.42653662, 0.42768365, 0.42807683, 0.42815778, 0.4283987, 0.42846417, 0.42857036, 0.4296199, 0.43027112, 0.43061346, 0.4307076, 0.43087414, 0.43169504, 0.43245068, 0.43268347, 0.43312898, 0.43324223, 0.43404427, 0.43449453, 0.43475077, 0.43502527, 0.4357047, 0.4371212, 0.43781072, 0.43803865, 0.4382323, 0.4388899, 0.43890843, 0.4389622, 0.4389766, 0.43906555, 0.4393091, 0.4394447, 0.43971545, 0.440287, 0.4405208, 0.441366, 0.44145942, 0.44189876, 0.4431155, 0.44353497, 0.4436025, 0.44385025, 0.44389734, 0.4440511, 0.4450538, 0.4451289, 0.4456372, 0.44616482, 0.447151, 0.44725546, 0.45026836, 0.45091546, 0.4518084, 0.45207858, 0.45226505, 0.45251012, 0.45345092, 0.45456222, 0.45566076, 0.45570368, 0.45767155, 0.45895234, 0.45903626, 0.45952585, 0.46024695, 0.46100086, 0.46101993, 0.46214265, 0.46236134, 0.46282905, 0.4629584, 0.46342114, 0.4636083, 0.46396458, 0.46546918, 0.4678925, 0.46950153, 0.4696068, 0.4697837, 0.4706153, 0.47149566, 0.4723214, 0.47246212, 0.47369522, 0.47443318, 0.4751494, 0.4754723, 0.47579184, 0.476693, 0.47696775, 0.47737575, 0.4775845, 0.47762084, 0.47864944, 0.47880328, 0.47883898, 0.48124543, 0.48160145, 0.48412317, 0.48416054, 0.48430443, 0.48440808, 0.48458406, 0.4849385, 0.4852981, 0.4855145, 0.48595184, 0.48671573, 0.4886994, 0.48882657, 0.48903844, 0.48950985, 0.48964217, 0.4896984, 0.48975176, 0.49049374, 0.49055353, 0.49225605, 0.49244183, 0.49249098, 0.493367, 0.4942979, 0.494564, 0.4947677, 0.49534053, 0.4976539, 0.4979127, 0.49844843, 0.49882674, 0.49927005, 0.49953106, 0.49967784, 0.4996955, 0.50000846, 0.5005254, 0.502436, 0.5030618, 0.50340617, 0.5034134, 0.5037242, 0.50383085, 0.5041691, 0.5041979, 0.50445855, 0.5052537, 0.5052954, 0.50625616, 0.50710845, 0.5077501, 0.5085896, 0.5096886, 0.510756, 0.5112141, 0.51124746, 0.5130775, 0.51543045, 0.51552707, 0.51662296, 0.5172817, 0.5172895, 0.51731527, 0.51736313, 0.5183684, 0.5184442, 0.5185176, 0.51855415, 0.5189646, 0.5195483, 0.5220019, 0.5221081, 0.52252865, 0.523077, 0.5240689, 0.5251577, 0.5252406, 0.5257345, 0.5261058, 0.527062, 0.52716327, 0.52789414, 0.5284196, 0.5296578, 0.53042835, 0.5313929, 0.53165674, 0.5319881, 0.53281075, 0.5328998, 0.53397864, 0.5339907, 0.534392, 0.5344692, 0.5347902, 0.53525317, 0.5362201, 0.5364457, 0.5367219, 0.5370144, 0.5375336, 0.53805643, 0.5384076, 0.5384231, 0.5389025, 0.53909236, 0.54151237, 0.5422789, 0.54270405, 0.5427917, 0.542972, 0.5431403, 0.5433711, 0.54399353, 0.5456104, 0.5487589, 0.54876333, 0.5494739, 0.5506621, 0.5508001, 0.5510052, 0.55231905, 0.55264443, 0.55322886, 0.5533185, 0.5542159, 0.55490553, 0.5571367, 0.5584479, 0.55875504, 0.5587958, 0.5591912, 0.55933535, 0.56050736, 0.5609878, 0.5610282, 0.5610624, 0.5617723, 0.56220305, 0.5623091, 0.5626148, 0.5627025, 0.56400794, 0.56451905, 0.56512177, 0.5653268, 0.56544375, 0.56597316, 0.56629866, 0.5663538, 0.5665707, 0.567473, 0.5683014, 0.56843686, 0.56935877, 0.57032233, 0.5706743, 0.5725926, 0.57361656, 0.5738171, 0.574205, 0.5743732, 0.57448703, 0.5760031, 0.5770305, 0.577031, 0.5775036, 0.5784163, 0.57879835, 0.57896525, 0.5799478, 0.5800062, 0.5802968, 0.5803906, 0.583533, 0.58413357, 0.5842384, 0.58599186, 0.5867795, 0.5906315, 0.59258187, 0.59465325, 0.5951808, 0.5954773, 0.59621865, 0.5966794, 0.5971122, 0.59829986, 0.6003536, 0.6009168, 0.6014824, 0.603271, 0.60421383, 0.6046287, 0.60469973, 0.6070033, 0.60896254, 0.6089762, 0.6090644, 0.61096567, 0.6113464, 0.61213464, 0.61263824, 0.6127726, 0.61419964, 0.6147018, 0.6159838, 0.61657935, 0.61827344, 0.6184959, 0.61920106, 0.6221544, 0.62275237, 0.62278116, 0.6234214, 0.62459, 0.6257866, 0.62589943, 0.6284371, 0.6285784, 0.628948, 0.63153774, 0.6318167, 0.6320918, 0.6324363, 0.6337418, 0.6364016, 0.63729596, 0.6378741, 0.638259, 0.63830006, 0.63885635, 0.63921255, 0.63934964, 0.6393993, 0.6417546, 0.6419349, 0.6419713, 0.64197224, 0.6419887, 0.6419896, 0.6425611, 0.64277697, 0.6433239, 0.6450221, 0.6450332, 0.6454902, 0.6475473, 0.64887655, 0.650665, 0.6510037, 0.65167236, 0.6519652, 0.6523381, 0.6547625, 0.6547638, 0.6554682, 0.6563662, 0.65869814, 0.65893614, 0.66013783, 0.66143775, 0.66219044, 0.66293156, 0.663301, 0.6635792, 0.6648376, 0.6649993, 0.66882837, 0.6689302, 0.6691052, 0.6691236, 0.66949946, 0.6743857, 0.67455715, 0.674587, 0.67709774, 0.6782779, 0.6792348, 0.6798938, 0.6819381, 0.6819437, 0.6830232, 0.68321204, 0.6843019, 0.68601173, 0.6864765, 0.6867919, 0.6868055, 0.6873721, 0.687625, 0.6893404, 0.6930096, 0.69581574, 0.6958575, 0.6974062, 0.6975083, 0.6977202, 0.69882554, 0.69943416, 0.6996511, 0.7009804, 0.70098525, 0.7012963, 0.7016772, 0.7016834, 0.70295864, 0.7058632, 0.7087146, 0.70998746, 0.7101779, 0.71047264, 0.7111172, 0.7118639, 0.712144, 0.7136578, 0.714866, 0.7158089, 0.7162059, 0.718517, 0.7189515, 0.719429, 0.72070575, 0.72086287, 0.7211898, 0.72156525, 0.7222607, 0.7244091, 0.72485703, 0.7255363, 0.7260943, 0.72653586, 0.72771615, 0.7277475, 0.7294263, 0.7295758, 0.7305092, 0.73376215, 0.73389494, 0.73565334, 0.7372394, 0.7402536, 0.74142003, 0.7414662, 0.7423561, 0.7461557, 0.74874574, 0.74900043, 0.7491405, 0.75173956, 0.75395924, 0.7549379, 0.7563532, 0.7593236, 0.7595111, 0.76076955, 0.76368314, 0.763871, 0.7643515, 0.7648693, 0.7667446, 0.7676349, 0.7678699, 0.76831144, 0.7705564, 0.7717625, 0.7719167, 0.77275294, 0.7774773, 0.7787568, 0.7842758, 0.7875503, 0.7876735, 0.79053164, 0.7917534, 0.7961273, 0.7968376, 0.79794294, 0.7982818, 0.7987617, 0.8000808, 0.8047348, 0.8049094, 0.80526, 0.8070175, 0.80709136, 0.8072778, 0.8075996, 0.80784446, 0.80845356, 0.81069064, 0.81093764, 0.81111777, 0.8141069, 0.81499386, 0.81586313, 0.8162367, 0.81724167, 0.8202524, 0.82276464, 0.824606, 0.825161, 0.8274051, 0.82774997, 0.8293233, 0.8302288, 0.83116496, 0.832368, 0.83303416, 0.83484316, 0.83512264, 0.83624005, 0.8362626, 0.8410408, 0.84197664, 0.8425936, 0.843887, 0.8447084, 0.84540063, 0.8469018, 0.8515224, 0.85426855, 0.8563357, 0.85647815, 0.8569099, 0.8581042, 0.85857165, 0.8588435, 0.86287206, 0.86941785, 0.87463814, 0.87662935, 0.8772354, 0.88001287, 0.8815804, 0.8881599, 0.8898121, 0.89289045, 0.89345944, 0.8965982, 0.89953345, 0.8997133, 0.9015743, 0.90329206, 0.90366733, 0.9054136, 0.9056044, 0.9063627, 0.906564, 0.906911, 0.9095153, 0.9103665, 0.91125786, 0.9123688, 0.9134721, 0.9165377, 0.91942567, 0.9196053, 0.92061836, 0.9230597, 0.92485076, 0.9280482, 0.9302096, 0.9329379, 0.9335168, 0.9362324, 0.9386588, 0.9389775, 0.9405168, 0.94071037, 0.94229746, 0.94272226, 0.951328, 0.95144135, 0.954694, 0.9548639, 0.95853835, 0.9653708, 0.9693033, 0.9713183, 0.9756837, 0.9826635, 0.9829203, 0.98483384, 0.98573107, 0.9858772, 0.98698545, 0.98820037, 0.9907262, 0.99367225, 0.99434453, 0.995315, 1.000564, 1.0059459, 1.0078939, 1.0113951, 1.0115541, 1.0127898, 1.0137451, 1.0159012, 1.0163575, 1.0201354, 1.0207719, 1.023638, 1.0283867, 1.0316433, 1.0334258, 1.0343705, 1.0360186, 1.0370224, 1.0379777, 1.0416374, 1.0436819, 1.0439732, 1.0441207, 1.0488831, 1.0516083, 1.0517204, 1.054694, 1.0565832, 1.057114, 1.0571454, 1.0591607, 1.0611801, 1.0630646, 1.0640287, 1.0673524, 1.0678943, 1.0683554, 1.0693675, 1.0789236, 1.0834013, 1.0855712, 1.0856833, 1.0911592, 1.0956223, 1.098981, 1.1005383, 1.1036617, 1.1057689, 1.1074328, 1.1088578, 1.1133491, 1.114503, 1.1153558, 1.1170511, 1.1190851, 1.1193045, 1.1193795, 1.1203588, 1.1206017, 1.1215723, 1.1275471, 1.1323913, 1.134112, 1.1378587, 1.1402318, 1.141701, 1.1449968, 1.1473475, 1.1515397, 1.1527162, 1.1568449, 1.1630867, 1.1694931, 1.1712873, 1.175162, 1.1754516, 1.1757306, 1.1792086, 1.1837893, 1.1924238, 1.1925489, 1.1977686, 1.1989647, 1.2106117, 1.2108567, 1.2110772, 1.2122056, 1.2197486, 1.2200258, 1.2227993, 1.227794, 1.2280889, 1.2305726, 1.2349757, 1.2413199, 1.2455447, 1.2510701, 1.2516328, 1.2530608, 1.2552133, 1.2589028, 1.2592446, 1.2753278, 1.2802469, 1.2869966, 1.2871934, 1.2940581, 1.2946737, 1.2988495, 1.3015021, 1.3046314, 1.3065287, 1.3084621, 1.309134, 1.3140506, 1.317669, 1.321923, 1.3245339, 1.328127, 1.3445113, 1.3451064, 1.3471824, 1.347438, 1.3499699, 1.3527874, 1.3609847, 1.3615756, 1.3619146, 1.362602, 1.3684341, 1.3754046, 1.3788389, 1.3800418, 1.3877294, 1.3910706, 1.3987099, 1.4067764, 1.4178052, 1.4184778, 1.4221457, 1.4228075, 1.4249799, 1.4255935, 1.4315683, 1.4330457, 1.4345345, 1.446749, 1.4510623, 1.4519633, 1.4535792, 1.460398, 1.4697084, 1.4832298, 1.4837301, 1.5005001, 1.5068991, 1.529873, 1.5538559, 1.555099, 1.5658002, 1.5673169, 1.5697109, 1.5726826, 1.5753254, 1.5831796, 1.5841041, 1.5910469, 1.5969037, 1.6144385, 1.6188531, 1.6205386, 1.6362805, 1.6396705, 1.6453518, 1.64814, 1.6495615, 1.650137, 1.6600274, 1.6610531, 1.6651213, 1.6677812, 1.6703366, 1.6923915, 1.7147617, 1.7255266, 1.7324045, 1.7331165, 1.7391801, 1.7433703, 1.7447345, 1.7618011, 1.7675179, 1.768407, 1.7757872, 1.7810168, 1.8040406, 1.8073756, 1.8089589, 1.8157057, 1.8298042, 1.8322016, 1.8324052, 1.859866, 1.8636217, 1.8744954, 1.8910763, 1.9384203, 1.951417, 1.955525, 1.9633046, 1.9698462, 1.9914538, 1.9957896, 1.99634, 1.9989102, 2.0014665, 2.0086718, 2.0291073, 2.051526, 2.0770586, 2.0938938, 2.0980287, 2.1026864, 2.1095867, 2.1247892, 2.1966078, 2.199252, 2.2198353, 2.233191, 2.2479045, 2.249106, 2.2550414, 2.2759302, 2.311256, 2.320245, 2.3263657, 2.328495, 2.3295863, 2.3357046, 2.365086, 2.3813665, 2.396619e-05, 2.4137242, 2.4400127, 2.4456263, 2.461806, 2.4739735, 2.4876842, 2.5410738, 2.594524, 2.6400774, 2.661743, 2.6827567, 2.6851552, 2.71146, 2.7361245, 2.7640665, 2.7936635, 2.8418343, 2.8490648, 3.144493, 3.2036033, 3.2089097, 3.273011, 3.3227816, 3.3329122, 3.4198549, 3.5797963, 3.5871422, 3.665276, 3.7719395, 3.7724166, 3.8276513, 3.837084, 3.94644, 3.9618387, 4.0002465, 4.023025, 4.213511, 4.31945, 4.42054, 4.455452, 4.5064983, 4.7868757, 4.9113336, 5.261958, 5.579286, 5.8533187, 5.9321685, 6.165957, 6.236578, 6.561734, 7.609419] will be ignored\n",
            "  warnings.warn(\n"
          ]
        }
      ]
    },
    {
      "cell_type": "markdown",
      "source": [
        "#Test Data"
      ],
      "metadata": {
        "id": "Nv5vkci0BS6o"
      }
    },
    {
      "cell_type": "code",
      "source": [
        "# Load the test data\n",
        "df_test_ex\n"
      ],
      "metadata": {
        "id": "OV-i8ppnmYcY",
        "colab": {
          "base_uri": "https://localhost:8080/",
          "height": 834
        },
        "outputId": "e24a0d13-036e-437a-f869-871ca4679a74"
      },
      "execution_count": 28,
      "outputs": [
        {
          "output_type": "execute_result",
          "data": {
            "text/plain": [
              "      srch_id            date_time  site_id  visitor_location_country_id  \\\n",
              "0         1.0  2013-02-02 15:27:40       24                          216   \n",
              "1         1.0  2013-02-02 15:27:40       24                          216   \n",
              "2         1.0  2013-02-02 15:27:40       24                          216   \n",
              "3         1.0  2013-02-02 15:27:40       24                          216   \n",
              "4         1.0  2013-02-02 15:27:40       24                          216   \n",
              "...       ...                  ...      ...                          ...   \n",
              "9995    648.0  2013-06-04 10:12:20       15                           55   \n",
              "9996    648.0  2013-06-04 10:12:20       15                           55   \n",
              "9997    648.0  2013-06-04 10:12:20       15                           55   \n",
              "9998    648.0  2013-06-04 10:12:20       15                           55   \n",
              "9999    648.0  2013-06-04 10:12:20       15                           55   \n",
              "\n",
              "      visitor_hist_starrating  visitor_hist_adr_usd  prop_country_id  prop_id  \\\n",
              "0                    3.329095            177.348805              219     3180   \n",
              "1                    3.329095            177.348805              219     5543   \n",
              "2                    3.329095            177.348805              219    14142   \n",
              "3                    3.329095            177.348805              219    22393   \n",
              "4                    3.329095            177.348805              219    24194   \n",
              "...                       ...                   ...              ...      ...   \n",
              "9995                 3.329095            177.348805              219    46846   \n",
              "9996                 3.329095            177.348805              219    48593   \n",
              "9997                 3.329095            177.348805              219    50724   \n",
              "9998                 3.329095            177.348805              219    55092   \n",
              "9999                 3.329095            177.348805              219    57852   \n",
              "\n",
              "      prop_starrating  prop_review_score  ...  comp5_rate_percent_diff  \\\n",
              "0                   3                4.5  ...                20.086861   \n",
              "1                   3                4.5  ...                20.086861   \n",
              "2                   2                3.5  ...                10.000000   \n",
              "3                   3                4.5  ...                20.086861   \n",
              "4                   3                4.5  ...                20.086861   \n",
              "...               ...                ...  ...                      ...   \n",
              "9995                4                4.0  ...                20.086861   \n",
              "9996                3                3.5  ...                 5.000000   \n",
              "9997                2                3.0  ...               130.000000   \n",
              "9998                3                4.5  ...                 6.000000   \n",
              "9999                2                2.5  ...                14.000000   \n",
              "\n",
              "      comp6_rate  comp6_inv  comp6_rate_percent_diff  comp7_rate  comp7_inv  \\\n",
              "0       0.162791   0.095652                 14.48954    0.204225   0.074778   \n",
              "1       0.162791   0.095652                 14.48954    0.204225   0.074778   \n",
              "2       0.162791   0.095652                 14.48954    0.204225   0.074778   \n",
              "3       0.162791   0.095652                 14.48954    0.204225   0.074778   \n",
              "4       0.162791   0.095652                 14.48954    0.204225   0.074778   \n",
              "...          ...        ...                      ...         ...        ...   \n",
              "9995    0.162791   0.095652                 14.48954    0.204225   0.074778   \n",
              "9996    0.162791   0.095652                 14.48954    0.204225   0.074778   \n",
              "9997    0.162791   0.095652                 14.48954    0.204225   0.074778   \n",
              "9998    0.162791   0.095652                 14.48954    0.204225   0.074778   \n",
              "9999    0.162791   0.095652                 14.48954    0.204225   0.074778   \n",
              "\n",
              "      comp7_rate_percent_diff  comp8_rate  comp8_inv  comp8_rate_percent_diff  \n",
              "0                   18.838983   -0.057186   0.005111                13.889605  \n",
              "1                   18.838983   -0.057186   0.005111                13.889605  \n",
              "2                   18.838983   -0.057186   0.005111                13.889605  \n",
              "3                   18.838983   -0.057186   0.005111                13.889605  \n",
              "4                   18.838983   -0.057186   0.005111                13.889605  \n",
              "...                       ...         ...        ...                      ...  \n",
              "9995                18.838983    0.000000   0.000000                13.889605  \n",
              "9996                18.838983    1.000000   0.000000                 5.000000  \n",
              "9997                18.838983    0.000000   0.000000                13.889605  \n",
              "9998                18.838983    0.000000   0.000000                 6.000000  \n",
              "9999                18.838983    0.000000   0.000000                13.889605  \n",
              "\n",
              "[10000 rows x 50 columns]"
            ],
            "text/html": [
              "\n",
              "  <div id=\"df-406ab5bd-5b8b-4609-9a22-3dda0dc73629\">\n",
              "    <div class=\"colab-df-container\">\n",
              "      <div>\n",
              "<style scoped>\n",
              "    .dataframe tbody tr th:only-of-type {\n",
              "        vertical-align: middle;\n",
              "    }\n",
              "\n",
              "    .dataframe tbody tr th {\n",
              "        vertical-align: top;\n",
              "    }\n",
              "\n",
              "    .dataframe thead th {\n",
              "        text-align: right;\n",
              "    }\n",
              "</style>\n",
              "<table border=\"1\" class=\"dataframe\">\n",
              "  <thead>\n",
              "    <tr style=\"text-align: right;\">\n",
              "      <th></th>\n",
              "      <th>srch_id</th>\n",
              "      <th>date_time</th>\n",
              "      <th>site_id</th>\n",
              "      <th>visitor_location_country_id</th>\n",
              "      <th>visitor_hist_starrating</th>\n",
              "      <th>visitor_hist_adr_usd</th>\n",
              "      <th>prop_country_id</th>\n",
              "      <th>prop_id</th>\n",
              "      <th>prop_starrating</th>\n",
              "      <th>prop_review_score</th>\n",
              "      <th>...</th>\n",
              "      <th>comp5_rate_percent_diff</th>\n",
              "      <th>comp6_rate</th>\n",
              "      <th>comp6_inv</th>\n",
              "      <th>comp6_rate_percent_diff</th>\n",
              "      <th>comp7_rate</th>\n",
              "      <th>comp7_inv</th>\n",
              "      <th>comp7_rate_percent_diff</th>\n",
              "      <th>comp8_rate</th>\n",
              "      <th>comp8_inv</th>\n",
              "      <th>comp8_rate_percent_diff</th>\n",
              "    </tr>\n",
              "  </thead>\n",
              "  <tbody>\n",
              "    <tr>\n",
              "      <th>0</th>\n",
              "      <td>1.0</td>\n",
              "      <td>2013-02-02 15:27:40</td>\n",
              "      <td>24</td>\n",
              "      <td>216</td>\n",
              "      <td>3.329095</td>\n",
              "      <td>177.348805</td>\n",
              "      <td>219</td>\n",
              "      <td>3180</td>\n",
              "      <td>3</td>\n",
              "      <td>4.5</td>\n",
              "      <td>...</td>\n",
              "      <td>20.086861</td>\n",
              "      <td>0.162791</td>\n",
              "      <td>0.095652</td>\n",
              "      <td>14.48954</td>\n",
              "      <td>0.204225</td>\n",
              "      <td>0.074778</td>\n",
              "      <td>18.838983</td>\n",
              "      <td>-0.057186</td>\n",
              "      <td>0.005111</td>\n",
              "      <td>13.889605</td>\n",
              "    </tr>\n",
              "    <tr>\n",
              "      <th>1</th>\n",
              "      <td>1.0</td>\n",
              "      <td>2013-02-02 15:27:40</td>\n",
              "      <td>24</td>\n",
              "      <td>216</td>\n",
              "      <td>3.329095</td>\n",
              "      <td>177.348805</td>\n",
              "      <td>219</td>\n",
              "      <td>5543</td>\n",
              "      <td>3</td>\n",
              "      <td>4.5</td>\n",
              "      <td>...</td>\n",
              "      <td>20.086861</td>\n",
              "      <td>0.162791</td>\n",
              "      <td>0.095652</td>\n",
              "      <td>14.48954</td>\n",
              "      <td>0.204225</td>\n",
              "      <td>0.074778</td>\n",
              "      <td>18.838983</td>\n",
              "      <td>-0.057186</td>\n",
              "      <td>0.005111</td>\n",
              "      <td>13.889605</td>\n",
              "    </tr>\n",
              "    <tr>\n",
              "      <th>2</th>\n",
              "      <td>1.0</td>\n",
              "      <td>2013-02-02 15:27:40</td>\n",
              "      <td>24</td>\n",
              "      <td>216</td>\n",
              "      <td>3.329095</td>\n",
              "      <td>177.348805</td>\n",
              "      <td>219</td>\n",
              "      <td>14142</td>\n",
              "      <td>2</td>\n",
              "      <td>3.5</td>\n",
              "      <td>...</td>\n",
              "      <td>10.000000</td>\n",
              "      <td>0.162791</td>\n",
              "      <td>0.095652</td>\n",
              "      <td>14.48954</td>\n",
              "      <td>0.204225</td>\n",
              "      <td>0.074778</td>\n",
              "      <td>18.838983</td>\n",
              "      <td>-0.057186</td>\n",
              "      <td>0.005111</td>\n",
              "      <td>13.889605</td>\n",
              "    </tr>\n",
              "    <tr>\n",
              "      <th>3</th>\n",
              "      <td>1.0</td>\n",
              "      <td>2013-02-02 15:27:40</td>\n",
              "      <td>24</td>\n",
              "      <td>216</td>\n",
              "      <td>3.329095</td>\n",
              "      <td>177.348805</td>\n",
              "      <td>219</td>\n",
              "      <td>22393</td>\n",
              "      <td>3</td>\n",
              "      <td>4.5</td>\n",
              "      <td>...</td>\n",
              "      <td>20.086861</td>\n",
              "      <td>0.162791</td>\n",
              "      <td>0.095652</td>\n",
              "      <td>14.48954</td>\n",
              "      <td>0.204225</td>\n",
              "      <td>0.074778</td>\n",
              "      <td>18.838983</td>\n",
              "      <td>-0.057186</td>\n",
              "      <td>0.005111</td>\n",
              "      <td>13.889605</td>\n",
              "    </tr>\n",
              "    <tr>\n",
              "      <th>4</th>\n",
              "      <td>1.0</td>\n",
              "      <td>2013-02-02 15:27:40</td>\n",
              "      <td>24</td>\n",
              "      <td>216</td>\n",
              "      <td>3.329095</td>\n",
              "      <td>177.348805</td>\n",
              "      <td>219</td>\n",
              "      <td>24194</td>\n",
              "      <td>3</td>\n",
              "      <td>4.5</td>\n",
              "      <td>...</td>\n",
              "      <td>20.086861</td>\n",
              "      <td>0.162791</td>\n",
              "      <td>0.095652</td>\n",
              "      <td>14.48954</td>\n",
              "      <td>0.204225</td>\n",
              "      <td>0.074778</td>\n",
              "      <td>18.838983</td>\n",
              "      <td>-0.057186</td>\n",
              "      <td>0.005111</td>\n",
              "      <td>13.889605</td>\n",
              "    </tr>\n",
              "    <tr>\n",
              "      <th>...</th>\n",
              "      <td>...</td>\n",
              "      <td>...</td>\n",
              "      <td>...</td>\n",
              "      <td>...</td>\n",
              "      <td>...</td>\n",
              "      <td>...</td>\n",
              "      <td>...</td>\n",
              "      <td>...</td>\n",
              "      <td>...</td>\n",
              "      <td>...</td>\n",
              "      <td>...</td>\n",
              "      <td>...</td>\n",
              "      <td>...</td>\n",
              "      <td>...</td>\n",
              "      <td>...</td>\n",
              "      <td>...</td>\n",
              "      <td>...</td>\n",
              "      <td>...</td>\n",
              "      <td>...</td>\n",
              "      <td>...</td>\n",
              "      <td>...</td>\n",
              "    </tr>\n",
              "    <tr>\n",
              "      <th>9995</th>\n",
              "      <td>648.0</td>\n",
              "      <td>2013-06-04 10:12:20</td>\n",
              "      <td>15</td>\n",
              "      <td>55</td>\n",
              "      <td>3.329095</td>\n",
              "      <td>177.348805</td>\n",
              "      <td>219</td>\n",
              "      <td>46846</td>\n",
              "      <td>4</td>\n",
              "      <td>4.0</td>\n",
              "      <td>...</td>\n",
              "      <td>20.086861</td>\n",
              "      <td>0.162791</td>\n",
              "      <td>0.095652</td>\n",
              "      <td>14.48954</td>\n",
              "      <td>0.204225</td>\n",
              "      <td>0.074778</td>\n",
              "      <td>18.838983</td>\n",
              "      <td>0.000000</td>\n",
              "      <td>0.000000</td>\n",
              "      <td>13.889605</td>\n",
              "    </tr>\n",
              "    <tr>\n",
              "      <th>9996</th>\n",
              "      <td>648.0</td>\n",
              "      <td>2013-06-04 10:12:20</td>\n",
              "      <td>15</td>\n",
              "      <td>55</td>\n",
              "      <td>3.329095</td>\n",
              "      <td>177.348805</td>\n",
              "      <td>219</td>\n",
              "      <td>48593</td>\n",
              "      <td>3</td>\n",
              "      <td>3.5</td>\n",
              "      <td>...</td>\n",
              "      <td>5.000000</td>\n",
              "      <td>0.162791</td>\n",
              "      <td>0.095652</td>\n",
              "      <td>14.48954</td>\n",
              "      <td>0.204225</td>\n",
              "      <td>0.074778</td>\n",
              "      <td>18.838983</td>\n",
              "      <td>1.000000</td>\n",
              "      <td>0.000000</td>\n",
              "      <td>5.000000</td>\n",
              "    </tr>\n",
              "    <tr>\n",
              "      <th>9997</th>\n",
              "      <td>648.0</td>\n",
              "      <td>2013-06-04 10:12:20</td>\n",
              "      <td>15</td>\n",
              "      <td>55</td>\n",
              "      <td>3.329095</td>\n",
              "      <td>177.348805</td>\n",
              "      <td>219</td>\n",
              "      <td>50724</td>\n",
              "      <td>2</td>\n",
              "      <td>3.0</td>\n",
              "      <td>...</td>\n",
              "      <td>130.000000</td>\n",
              "      <td>0.162791</td>\n",
              "      <td>0.095652</td>\n",
              "      <td>14.48954</td>\n",
              "      <td>0.204225</td>\n",
              "      <td>0.074778</td>\n",
              "      <td>18.838983</td>\n",
              "      <td>0.000000</td>\n",
              "      <td>0.000000</td>\n",
              "      <td>13.889605</td>\n",
              "    </tr>\n",
              "    <tr>\n",
              "      <th>9998</th>\n",
              "      <td>648.0</td>\n",
              "      <td>2013-06-04 10:12:20</td>\n",
              "      <td>15</td>\n",
              "      <td>55</td>\n",
              "      <td>3.329095</td>\n",
              "      <td>177.348805</td>\n",
              "      <td>219</td>\n",
              "      <td>55092</td>\n",
              "      <td>3</td>\n",
              "      <td>4.5</td>\n",
              "      <td>...</td>\n",
              "      <td>6.000000</td>\n",
              "      <td>0.162791</td>\n",
              "      <td>0.095652</td>\n",
              "      <td>14.48954</td>\n",
              "      <td>0.204225</td>\n",
              "      <td>0.074778</td>\n",
              "      <td>18.838983</td>\n",
              "      <td>0.000000</td>\n",
              "      <td>0.000000</td>\n",
              "      <td>6.000000</td>\n",
              "    </tr>\n",
              "    <tr>\n",
              "      <th>9999</th>\n",
              "      <td>648.0</td>\n",
              "      <td>2013-06-04 10:12:20</td>\n",
              "      <td>15</td>\n",
              "      <td>55</td>\n",
              "      <td>3.329095</td>\n",
              "      <td>177.348805</td>\n",
              "      <td>219</td>\n",
              "      <td>57852</td>\n",
              "      <td>2</td>\n",
              "      <td>2.5</td>\n",
              "      <td>...</td>\n",
              "      <td>14.000000</td>\n",
              "      <td>0.162791</td>\n",
              "      <td>0.095652</td>\n",
              "      <td>14.48954</td>\n",
              "      <td>0.204225</td>\n",
              "      <td>0.074778</td>\n",
              "      <td>18.838983</td>\n",
              "      <td>0.000000</td>\n",
              "      <td>0.000000</td>\n",
              "      <td>13.889605</td>\n",
              "    </tr>\n",
              "  </tbody>\n",
              "</table>\n",
              "<p>10000 rows × 50 columns</p>\n",
              "</div>\n",
              "      <button class=\"colab-df-convert\" onclick=\"convertToInteractive('df-406ab5bd-5b8b-4609-9a22-3dda0dc73629')\"\n",
              "              title=\"Convert this dataframe to an interactive table.\"\n",
              "              style=\"display:none;\">\n",
              "        \n",
              "  <svg xmlns=\"http://www.w3.org/2000/svg\" height=\"24px\"viewBox=\"0 0 24 24\"\n",
              "       width=\"24px\">\n",
              "    <path d=\"M0 0h24v24H0V0z\" fill=\"none\"/>\n",
              "    <path d=\"M18.56 5.44l.94 2.06.94-2.06 2.06-.94-2.06-.94-.94-2.06-.94 2.06-2.06.94zm-11 1L8.5 8.5l.94-2.06 2.06-.94-2.06-.94L8.5 2.5l-.94 2.06-2.06.94zm10 10l.94 2.06.94-2.06 2.06-.94-2.06-.94-.94-2.06-.94 2.06-2.06.94z\"/><path d=\"M17.41 7.96l-1.37-1.37c-.4-.4-.92-.59-1.43-.59-.52 0-1.04.2-1.43.59L10.3 9.45l-7.72 7.72c-.78.78-.78 2.05 0 2.83L4 21.41c.39.39.9.59 1.41.59.51 0 1.02-.2 1.41-.59l7.78-7.78 2.81-2.81c.8-.78.8-2.07 0-2.86zM5.41 20L4 18.59l7.72-7.72 1.47 1.35L5.41 20z\"/>\n",
              "  </svg>\n",
              "      </button>\n",
              "      \n",
              "  <style>\n",
              "    .colab-df-container {\n",
              "      display:flex;\n",
              "      flex-wrap:wrap;\n",
              "      gap: 12px;\n",
              "    }\n",
              "\n",
              "    .colab-df-convert {\n",
              "      background-color: #E8F0FE;\n",
              "      border: none;\n",
              "      border-radius: 50%;\n",
              "      cursor: pointer;\n",
              "      display: none;\n",
              "      fill: #1967D2;\n",
              "      height: 32px;\n",
              "      padding: 0 0 0 0;\n",
              "      width: 32px;\n",
              "    }\n",
              "\n",
              "    .colab-df-convert:hover {\n",
              "      background-color: #E2EBFA;\n",
              "      box-shadow: 0px 1px 2px rgba(60, 64, 67, 0.3), 0px 1px 3px 1px rgba(60, 64, 67, 0.15);\n",
              "      fill: #174EA6;\n",
              "    }\n",
              "\n",
              "    [theme=dark] .colab-df-convert {\n",
              "      background-color: #3B4455;\n",
              "      fill: #D2E3FC;\n",
              "    }\n",
              "\n",
              "    [theme=dark] .colab-df-convert:hover {\n",
              "      background-color: #434B5C;\n",
              "      box-shadow: 0px 1px 3px 1px rgba(0, 0, 0, 0.15);\n",
              "      filter: drop-shadow(0px 1px 2px rgba(0, 0, 0, 0.3));\n",
              "      fill: #FFFFFF;\n",
              "    }\n",
              "  </style>\n",
              "\n",
              "      <script>\n",
              "        const buttonEl =\n",
              "          document.querySelector('#df-406ab5bd-5b8b-4609-9a22-3dda0dc73629 button.colab-df-convert');\n",
              "        buttonEl.style.display =\n",
              "          google.colab.kernel.accessAllowed ? 'block' : 'none';\n",
              "\n",
              "        async function convertToInteractive(key) {\n",
              "          const element = document.querySelector('#df-406ab5bd-5b8b-4609-9a22-3dda0dc73629');\n",
              "          const dataTable =\n",
              "            await google.colab.kernel.invokeFunction('convertToInteractive',\n",
              "                                                     [key], {});\n",
              "          if (!dataTable) return;\n",
              "\n",
              "          const docLinkHtml = 'Like what you see? Visit the ' +\n",
              "            '<a target=\"_blank\" href=https://colab.research.google.com/notebooks/data_table.ipynb>data table notebook</a>'\n",
              "            + ' to learn more about interactive tables.';\n",
              "          element.innerHTML = '';\n",
              "          dataTable['output_type'] = 'display_data';\n",
              "          await google.colab.output.renderOutput(dataTable, element);\n",
              "          const docLink = document.createElement('div');\n",
              "          docLink.innerHTML = docLinkHtml;\n",
              "          element.appendChild(docLink);\n",
              "        }\n",
              "      </script>\n",
              "    </div>\n",
              "  </div>\n",
              "  "
            ]
          },
          "metadata": {},
          "execution_count": 28
        }
      ]
    },
    {
      "cell_type": "code",
      "source": [
        "\n",
        "# Use the Random Forest model to predict relevance scores for hotels in the test set\n",
        "result1 = df_test_ex['rf_predicted_score'] = rf_model_rsme.predict(df_test_ex[features])\n",
        "print(\"RMSE: {}\".format(result1))\n"
      ],
      "metadata": {
        "colab": {
          "base_uri": "https://localhost:8080/"
        },
        "id": "NPjQ_LcqBdjX",
        "outputId": "0b3066d1-951d-4d61-9718-e368c50c1411"
      },
      "execution_count": 29,
      "outputs": [
        {
          "output_type": "stream",
          "name": "stdout",
          "text": [
            "RMSE: [0.93326774 1.04591546 1.90510606 ... 0.56787639 0.8475251  0.96089609]\n"
          ]
        }
      ]
    },
    {
      "cell_type": "code",
      "source": [
        "# Use the Random Forest model to predict relevance scores for hotels in the test set\n",
        "result2 = df_test_ex['rf_ndcg_predicted_score'] = rf_model_ndcg.predict(df_test_ex[features])\n",
        "print(\"NDCG: {}\".format(result1))\n"
      ],
      "metadata": {
        "colab": {
          "base_uri": "https://localhost:8080/"
        },
        "id": "6NDzG5ZIBqDe",
        "outputId": "4f70dc5f-ae44-44c1-8276-be5275fddcd4"
      },
      "execution_count": 30,
      "outputs": [
        {
          "output_type": "stream",
          "name": "stdout",
          "text": [
            "NDCG: [0.93326774 1.04591546 1.90510606 ... 0.56787639 0.8475251  0.96089609]\n"
          ]
        }
      ]
    },
    {
      "cell_type": "code",
      "source": [
        "\n",
        "# Use the Gradient Boosting model to predict relevance scores for hotels in the test set\n",
        "result3 = df_test_ex['gb_predicted_score'] = gb_model.predict(df_test_ex[features])\n",
        "print(\"RMSE GB: {}\".format(result3))"
      ],
      "metadata": {
        "colab": {
          "base_uri": "https://localhost:8080/"
        },
        "id": "1GroOil2DdI5",
        "outputId": "8e21b90a-0185-480b-a497-4cc732f40e14"
      },
      "execution_count": 31,
      "outputs": [
        {
          "output_type": "stream",
          "name": "stdout",
          "text": [
            "RMSE GB: [0.57726363 0.47915789 1.08342736 ... 0.20101968 0.49467725 0.28953656]\n"
          ]
        }
      ]
    },
    {
      "cell_type": "code",
      "source": [
        "# Use the Gradient Boosting model to predict relevance scores for hotels in the test set\n",
        "result4 = df_test_ex['gb_ndcg_predicted_score'] = gb_model_ndcg.predict(df_test_ex[features])\n",
        "print(\"NDCG GB: {}\".format(result4))"
      ],
      "metadata": {
        "colab": {
          "base_uri": "https://localhost:8080/"
        },
        "id": "-3sK2mRKDkzJ",
        "outputId": "d69374a9-2f75-46cb-f7de-fd88ca951c07"
      },
      "execution_count": 32,
      "outputs": [
        {
          "output_type": "stream",
          "name": "stdout",
          "text": [
            "NDCG GB: [0.57726363 0.47915789 1.08342736 ... 0.20101968 0.49467725 0.28953656]\n"
          ]
        }
      ]
    },
    {
      "cell_type": "code",
      "source": [
        "# Use the Gradient Boosting model to predict relevance scores for hotels in the test set\n",
        "result4_2 = df_test_ex['gb_ndcg_predicted_score_2'] = gb_model_ndcg_2.predict(df_test_ex[features])\n",
        "print(\"NDCG GB: {}\".format(result4_2))"
      ],
      "metadata": {
        "colab": {
          "base_uri": "https://localhost:8080/"
        },
        "id": "cVlnWkVITQ1b",
        "outputId": "5ca4f621-23da-4dbe-e20d-62eb11a89ef7"
      },
      "execution_count": 33,
      "outputs": [
        {
          "output_type": "stream",
          "name": "stdout",
          "text": [
            "NDCG GB: [0.46345842 0.3796313  0.62249992 ... 0.27207889 0.26762593 0.07518529]\n"
          ]
        }
      ]
    },
    {
      "cell_type": "code",
      "source": [
        "\n",
        "# Use the XGBoost model to predict relevance scores for hotels in the test set\n",
        "result5 = df_test_ex['xgb_predicted_score'] = xgb_model.predict(df_test_ex[features])\n",
        "print(\"RMSE XB: {}\".format(result5))"
      ],
      "metadata": {
        "colab": {
          "base_uri": "https://localhost:8080/"
        },
        "id": "1TENi8u2DdQQ",
        "outputId": "9309566a-fc13-4356-efee-01d94e36d0fd"
      },
      "execution_count": 34,
      "outputs": [
        {
          "output_type": "stream",
          "name": "stdout",
          "text": [
            "RMSE XB: [0.07304563 0.20692031 0.8272162  ... 0.9133338  1.1474459  0.7868242 ]\n"
          ]
        }
      ]
    },
    {
      "cell_type": "code",
      "source": [
        "\n",
        "# Use the XGBoost model to predict relevance scores for hotels in the test set\n",
        "result6 = df_test_ex['xgb_ndcg_predicted_score'] = xgb_model_ndcg.predict(df_test_ex[features])\n",
        "print(\"NDCG XB: {}\".format(result6))"
      ],
      "metadata": {
        "colab": {
          "base_uri": "https://localhost:8080/"
        },
        "id": "zT0oZdOTDoD_",
        "outputId": "25ae9a9c-9df2-4bf7-869f-e66876546223"
      },
      "execution_count": 35,
      "outputs": [
        {
          "output_type": "stream",
          "name": "stdout",
          "text": [
            "NDCG XB: [0.07304563 0.20692031 0.8272162  ... 0.9133338  1.1474459  0.7868242 ]\n"
          ]
        }
      ]
    },
    {
      "cell_type": "code",
      "source": [
        "\n",
        "# Combine the predicted scores from all three models using a weighted average\n",
        "result = df_test_ex['predicted_score'] = 0.4 * df_test_ex['rf_predicted_score'] + 0.4 * df_test_ex['gb_predicted_score'] + 0.2 * df_test_ex['xgb_predicted_score']\n",
        "print(\"Combined RMSE : {}\".format(result))"
      ],
      "metadata": {
        "colab": {
          "base_uri": "https://localhost:8080/"
        },
        "id": "BVQew7BYBZ5K",
        "outputId": "7bf101e7-b200-44fa-dcdd-a6dff214f241"
      },
      "execution_count": 36,
      "outputs": [
        {
          "output_type": "stream",
          "name": "stdout",
          "text": [
            "Combined RMSE : 0       0.618822\n",
            "1       0.651413\n",
            "2       1.360857\n",
            "3       0.592860\n",
            "4       1.223494\n",
            "          ...   \n",
            "9995    0.601795\n",
            "9996    0.666507\n",
            "9997    0.490225\n",
            "9998    0.766370\n",
            "9999    0.657538\n",
            "Length: 10000, dtype: float64\n"
          ]
        }
      ]
    },
    {
      "cell_type": "markdown",
      "source": [
        "#TODO  combined NDCG"
      ],
      "metadata": {
        "id": "ZLwoAKS3LZFV"
      }
    },
    {
      "cell_type": "code",
      "source": [
        "\n",
        "# Combine the predicted scores from all three models using a weighted average\n",
        "result = df_test_ex['predicted_score'] = 0.4 * df_test_ex['rf_predicted_score'] + 0.4 * df_test_ex['gb_predicted_score'] + 0.2 * df_test_ex['xgb_predicted_score']\n",
        "print(\"Combined RMSE : {}\".format(result))"
      ],
      "metadata": {
        "id": "9RixJ9IeIygO",
        "colab": {
          "base_uri": "https://localhost:8080/"
        },
        "outputId": "ed4ead25-fc5b-49fd-eac2-affd2c5e483b"
      },
      "execution_count": 37,
      "outputs": [
        {
          "output_type": "stream",
          "name": "stdout",
          "text": [
            "Combined RMSE : 0       0.618822\n",
            "1       0.651413\n",
            "2       1.360857\n",
            "3       0.592860\n",
            "4       1.223494\n",
            "          ...   \n",
            "9995    0.601795\n",
            "9996    0.666507\n",
            "9997    0.490225\n",
            "9998    0.766370\n",
            "9999    0.657538\n",
            "Length: 10000, dtype: float64\n"
          ]
        }
      ]
    },
    {
      "cell_type": "markdown",
      "source": [
        "#Submission"
      ],
      "metadata": {
        "id": "5PIGkECaK2i8"
      }
    },
    {
      "cell_type": "code",
      "source": [
        "#Check the format\n",
        "submission_sample = pd.read_csv(data_path + \"submission_sample.csv\",nrows=10000)\n",
        "submission_sample.columns\n"
      ],
      "metadata": {
        "colab": {
          "base_uri": "https://localhost:8080/"
        },
        "id": "17o1teSRK4k_",
        "outputId": "39ba26a5-c838-4a6a-d673-f1ca984adf02"
      },
      "execution_count": 38,
      "outputs": [
        {
          "output_type": "execute_result",
          "data": {
            "text/plain": [
              "Index(['srch_id', 'prop_id'], dtype='object')"
            ]
          },
          "metadata": {},
          "execution_count": 38
        }
      ]
    },
    {
      "cell_type": "code",
      "source": [
        "#Create submission for df_test_ex['xgb_ndcg_predicted_score']\n",
        "\n",
        "submission = pd.DataFrame()\n",
        "submission[\"srch_id\"] = df_test_ex[\"srch_id\"]\n",
        "submission[\"prop_id\"] = df_test_ex['xgb_ndcg_predicted_score']\n",
        "\n",
        "submission.to_csv('expedia.csv', index=False)\n",
        "\n"
      ],
      "metadata": {
        "id": "c8eFoCeWL-Ko"
      },
      "execution_count": 39,
      "outputs": []
    },
    {
      "cell_type": "code",
      "source": [
        "#Check the format\n",
        "submission_ck= pd.read_csv(data_path + \"expedia.csv\",nrows=10000)\n",
        "submission_ck"
      ],
      "metadata": {
        "colab": {
          "base_uri": "https://localhost:8080/",
          "height": 423
        },
        "id": "UB2atKJbMyJc",
        "outputId": "695a18b2-a9b0-4e0c-c6e1-011d9250fee0"
      },
      "execution_count": 40,
      "outputs": [
        {
          "output_type": "execute_result",
          "data": {
            "text/plain": [
              "      srch_id   prop_id\n",
              "0         1.0  0.073046\n",
              "1         1.0  0.206920\n",
              "2         1.0  0.827216\n",
              "3         1.0  0.326697\n",
              "4         1.0  0.425870\n",
              "...       ...       ...\n",
              "9995    648.0  0.710212\n",
              "9996    648.0  0.933922\n",
              "9997    648.0  0.913334\n",
              "9998    648.0  1.147446\n",
              "9999    648.0  0.786824\n",
              "\n",
              "[10000 rows x 2 columns]"
            ],
            "text/html": [
              "\n",
              "  <div id=\"df-b997855b-49d5-4203-b151-9e03139ef3f0\">\n",
              "    <div class=\"colab-df-container\">\n",
              "      <div>\n",
              "<style scoped>\n",
              "    .dataframe tbody tr th:only-of-type {\n",
              "        vertical-align: middle;\n",
              "    }\n",
              "\n",
              "    .dataframe tbody tr th {\n",
              "        vertical-align: top;\n",
              "    }\n",
              "\n",
              "    .dataframe thead th {\n",
              "        text-align: right;\n",
              "    }\n",
              "</style>\n",
              "<table border=\"1\" class=\"dataframe\">\n",
              "  <thead>\n",
              "    <tr style=\"text-align: right;\">\n",
              "      <th></th>\n",
              "      <th>srch_id</th>\n",
              "      <th>prop_id</th>\n",
              "    </tr>\n",
              "  </thead>\n",
              "  <tbody>\n",
              "    <tr>\n",
              "      <th>0</th>\n",
              "      <td>1.0</td>\n",
              "      <td>0.073046</td>\n",
              "    </tr>\n",
              "    <tr>\n",
              "      <th>1</th>\n",
              "      <td>1.0</td>\n",
              "      <td>0.206920</td>\n",
              "    </tr>\n",
              "    <tr>\n",
              "      <th>2</th>\n",
              "      <td>1.0</td>\n",
              "      <td>0.827216</td>\n",
              "    </tr>\n",
              "    <tr>\n",
              "      <th>3</th>\n",
              "      <td>1.0</td>\n",
              "      <td>0.326697</td>\n",
              "    </tr>\n",
              "    <tr>\n",
              "      <th>4</th>\n",
              "      <td>1.0</td>\n",
              "      <td>0.425870</td>\n",
              "    </tr>\n",
              "    <tr>\n",
              "      <th>...</th>\n",
              "      <td>...</td>\n",
              "      <td>...</td>\n",
              "    </tr>\n",
              "    <tr>\n",
              "      <th>9995</th>\n",
              "      <td>648.0</td>\n",
              "      <td>0.710212</td>\n",
              "    </tr>\n",
              "    <tr>\n",
              "      <th>9996</th>\n",
              "      <td>648.0</td>\n",
              "      <td>0.933922</td>\n",
              "    </tr>\n",
              "    <tr>\n",
              "      <th>9997</th>\n",
              "      <td>648.0</td>\n",
              "      <td>0.913334</td>\n",
              "    </tr>\n",
              "    <tr>\n",
              "      <th>9998</th>\n",
              "      <td>648.0</td>\n",
              "      <td>1.147446</td>\n",
              "    </tr>\n",
              "    <tr>\n",
              "      <th>9999</th>\n",
              "      <td>648.0</td>\n",
              "      <td>0.786824</td>\n",
              "    </tr>\n",
              "  </tbody>\n",
              "</table>\n",
              "<p>10000 rows × 2 columns</p>\n",
              "</div>\n",
              "      <button class=\"colab-df-convert\" onclick=\"convertToInteractive('df-b997855b-49d5-4203-b151-9e03139ef3f0')\"\n",
              "              title=\"Convert this dataframe to an interactive table.\"\n",
              "              style=\"display:none;\">\n",
              "        \n",
              "  <svg xmlns=\"http://www.w3.org/2000/svg\" height=\"24px\"viewBox=\"0 0 24 24\"\n",
              "       width=\"24px\">\n",
              "    <path d=\"M0 0h24v24H0V0z\" fill=\"none\"/>\n",
              "    <path d=\"M18.56 5.44l.94 2.06.94-2.06 2.06-.94-2.06-.94-.94-2.06-.94 2.06-2.06.94zm-11 1L8.5 8.5l.94-2.06 2.06-.94-2.06-.94L8.5 2.5l-.94 2.06-2.06.94zm10 10l.94 2.06.94-2.06 2.06-.94-2.06-.94-.94-2.06-.94 2.06-2.06.94z\"/><path d=\"M17.41 7.96l-1.37-1.37c-.4-.4-.92-.59-1.43-.59-.52 0-1.04.2-1.43.59L10.3 9.45l-7.72 7.72c-.78.78-.78 2.05 0 2.83L4 21.41c.39.39.9.59 1.41.59.51 0 1.02-.2 1.41-.59l7.78-7.78 2.81-2.81c.8-.78.8-2.07 0-2.86zM5.41 20L4 18.59l7.72-7.72 1.47 1.35L5.41 20z\"/>\n",
              "  </svg>\n",
              "      </button>\n",
              "      \n",
              "  <style>\n",
              "    .colab-df-container {\n",
              "      display:flex;\n",
              "      flex-wrap:wrap;\n",
              "      gap: 12px;\n",
              "    }\n",
              "\n",
              "    .colab-df-convert {\n",
              "      background-color: #E8F0FE;\n",
              "      border: none;\n",
              "      border-radius: 50%;\n",
              "      cursor: pointer;\n",
              "      display: none;\n",
              "      fill: #1967D2;\n",
              "      height: 32px;\n",
              "      padding: 0 0 0 0;\n",
              "      width: 32px;\n",
              "    }\n",
              "\n",
              "    .colab-df-convert:hover {\n",
              "      background-color: #E2EBFA;\n",
              "      box-shadow: 0px 1px 2px rgba(60, 64, 67, 0.3), 0px 1px 3px 1px rgba(60, 64, 67, 0.15);\n",
              "      fill: #174EA6;\n",
              "    }\n",
              "\n",
              "    [theme=dark] .colab-df-convert {\n",
              "      background-color: #3B4455;\n",
              "      fill: #D2E3FC;\n",
              "    }\n",
              "\n",
              "    [theme=dark] .colab-df-convert:hover {\n",
              "      background-color: #434B5C;\n",
              "      box-shadow: 0px 1px 3px 1px rgba(0, 0, 0, 0.15);\n",
              "      filter: drop-shadow(0px 1px 2px rgba(0, 0, 0, 0.3));\n",
              "      fill: #FFFFFF;\n",
              "    }\n",
              "  </style>\n",
              "\n",
              "      <script>\n",
              "        const buttonEl =\n",
              "          document.querySelector('#df-b997855b-49d5-4203-b151-9e03139ef3f0 button.colab-df-convert');\n",
              "        buttonEl.style.display =\n",
              "          google.colab.kernel.accessAllowed ? 'block' : 'none';\n",
              "\n",
              "        async function convertToInteractive(key) {\n",
              "          const element = document.querySelector('#df-b997855b-49d5-4203-b151-9e03139ef3f0');\n",
              "          const dataTable =\n",
              "            await google.colab.kernel.invokeFunction('convertToInteractive',\n",
              "                                                     [key], {});\n",
              "          if (!dataTable) return;\n",
              "\n",
              "          const docLinkHtml = 'Like what you see? Visit the ' +\n",
              "            '<a target=\"_blank\" href=https://colab.research.google.com/notebooks/data_table.ipynb>data table notebook</a>'\n",
              "            + ' to learn more about interactive tables.';\n",
              "          element.innerHTML = '';\n",
              "          dataTable['output_type'] = 'display_data';\n",
              "          await google.colab.output.renderOutput(dataTable, element);\n",
              "          const docLink = document.createElement('div');\n",
              "          docLink.innerHTML = docLinkHtml;\n",
              "          element.appendChild(docLink);\n",
              "        }\n",
              "      </script>\n",
              "    </div>\n",
              "  </div>\n",
              "  "
            ]
          },
          "metadata": {},
          "execution_count": 40
        }
      ]
    }
  ]
}