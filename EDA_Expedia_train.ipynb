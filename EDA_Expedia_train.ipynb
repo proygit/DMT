{
  "nbformat": 4,
  "nbformat_minor": 0,
  "metadata": {
    "colab": {
      "provenance": [],
      "authorship_tag": "ABX9TyMvnshDKBHFK4v67RDZhE/N",
      "include_colab_link": true
    },
    "kernelspec": {
      "name": "python3",
      "display_name": "Python 3"
    },
    "language_info": {
      "name": "python"
    }
  },
  "cells": [
    {
      "cell_type": "markdown",
      "metadata": {
        "id": "view-in-github",
        "colab_type": "text"
      },
      "source": [
        "<a href=\"https://colab.research.google.com/github/proygit/DMT/blob/main/EDA_Expedia_train.ipynb\" target=\"_parent\"><img src=\"https://colab.research.google.com/assets/colab-badge.svg\" alt=\"Open In Colab\"/></a>"
      ]
    },
    {
      "cell_type": "markdown",
      "source": [
        "#Import all libraries"
      ],
      "metadata": {
        "id": "diuVLYK4azfp"
      }
    },
    {
      "cell_type": "code",
      "source": [
        "!pip install pandasql\n"
      ],
      "metadata": {
        "id": "e_ZNU8Z6CcK7"
      },
      "execution_count": null,
      "outputs": []
    },
    {
      "cell_type": "code",
      "execution_count": 3,
      "metadata": {
        "id": "sWOnIUO9addB"
      },
      "outputs": [],
      "source": [
        "import pandas as pd\n",
        "import os\n",
        "import numpy as np\n",
        "from sklearn.model_selection import KFold\n",
        "from sklearn.linear_model import LogisticRegression\n",
        "from sklearn.preprocessing import StandardScaler\n",
        "import seaborn as sns\n",
        "import matplotlib.pyplot as plt\n",
        "from sklearn.ensemble import RandomForestClassifier\n",
        "from sklearn.model_selection import train_test_split\n",
        "from sklearn.metrics import accuracy_score\n",
        "from sklearn.ensemble import RandomForestClassifier\n",
        "from sklearn.model_selection import KFold\n",
        "from sklearn.preprocessing import StandardScaler\n",
        "import sqlite3\n",
        "from pandasql import sqldf"
      ]
    },
    {
      "cell_type": "markdown",
      "source": [
        "#Mount Drive"
      ],
      "metadata": {
        "id": "RPjOY_vacoIs"
      }
    },
    {
      "cell_type": "code",
      "source": [
        "from google.colab import drive\n",
        "drive.mount('/content/drive')\n"
      ],
      "metadata": {
        "colab": {
          "base_uri": "https://localhost:8080/"
        },
        "id": "qhaRUoEvcrVM",
        "outputId": "53ec5784-484f-4175-8715-3148fd346854"
      },
      "execution_count": 16,
      "outputs": [
        {
          "output_type": "stream",
          "name": "stdout",
          "text": [
            "Drive already mounted at /content/drive; to attempt to forcibly remount, call drive.mount(\"/content/drive\", force_remount=True).\n"
          ]
        }
      ]
    },
    {
      "cell_type": "code",
      "source": [
        "# Change the working directory to the desired folder\n",
        "os.chdir('/content/drive/MyDrive/DMT/data')\n",
        "\n",
        "# List the contents of the current working directory\n",
        "contents = os.listdir()\n",
        "\n",
        "# Print the contents\n",
        "print(contents)\n",
        "data_path = \"/content/drive/My Drive/DMT/data/\""
      ],
      "metadata": {
        "colab": {
          "base_uri": "https://localhost:8080/"
        },
        "id": "-PIPT0z5fdeg",
        "outputId": "4a94ab06-a3f7-4711-8b20-490809209cc8"
      },
      "execution_count": 15,
      "outputs": [
        {
          "output_type": "stream",
          "name": "stdout",
          "text": [
            "['submission_sample.csv', 'test.csv', 'train.csv', 'train.db', 'df_train.db']\n"
          ]
        }
      ]
    },
    {
      "cell_type": "markdown",
      "source": [
        "#Train data set-EDA"
      ],
      "metadata": {
        "id": "t73955GUa50R"
      }
    },
    {
      "cell_type": "code",
      "source": [
        "\n",
        "df_train = pd.read_csv(data_path + \"train.csv\")\n",
        "#df_train=df_train.dropna(axis=1,how=\"any\")\n",
        "#df_train = pd.read_csv(data_path + \"train.csv\",nrows=50000)\n",
        "df_train.head()"
      ],
      "metadata": {
        "colab": {
          "base_uri": "https://localhost:8080/",
          "height": 473
        },
        "id": "XulknT9sa8nI",
        "outputId": "53832796-b71a-4cde-9eae-af45ffa4de75"
      },
      "execution_count": 31,
      "outputs": [
        {
          "output_type": "execute_result",
          "data": {
            "text/plain": [
              "   srch_id            date_time  site_id  visitor_location_country_id  \\\n",
              "0        1  2013-04-04 08:32:15       12                          187   \n",
              "1        1  2013-04-04 08:32:15       12                          187   \n",
              "2        1  2013-04-04 08:32:15       12                          187   \n",
              "3        1  2013-04-04 08:32:15       12                          187   \n",
              "4        1  2013-04-04 08:32:15       12                          187   \n",
              "\n",
              "   visitor_hist_starrating  visitor_hist_adr_usd  prop_country_id  prop_id  \\\n",
              "0                      NaN                   NaN              219      893   \n",
              "1                      NaN                   NaN              219    10404   \n",
              "2                      NaN                   NaN              219    21315   \n",
              "3                      NaN                   NaN              219    27348   \n",
              "4                      NaN                   NaN              219    29604   \n",
              "\n",
              "   prop_starrating  prop_review_score  ...  comp6_rate_percent_diff  \\\n",
              "0                3                3.5  ...                      NaN   \n",
              "1                4                4.0  ...                      NaN   \n",
              "2                3                4.5  ...                      NaN   \n",
              "3                2                4.0  ...                      NaN   \n",
              "4                4                3.5  ...                      NaN   \n",
              "\n",
              "   comp7_rate  comp7_inv  comp7_rate_percent_diff  comp8_rate  comp8_inv  \\\n",
              "0         NaN        NaN                      NaN         0.0        0.0   \n",
              "1         NaN        NaN                      NaN         0.0        0.0   \n",
              "2         NaN        NaN                      NaN         0.0        0.0   \n",
              "3         NaN        NaN                      NaN        -1.0        0.0   \n",
              "4         NaN        NaN                      NaN         0.0        0.0   \n",
              "\n",
              "   comp8_rate_percent_diff  click_bool  gross_bookings_usd  booking_bool  \n",
              "0                      NaN           0                 NaN             0  \n",
              "1                      NaN           0                 NaN             0  \n",
              "2                      NaN           0                 NaN             0  \n",
              "3                      5.0           0                 NaN             0  \n",
              "4                      NaN           0                 NaN             0  \n",
              "\n",
              "[5 rows x 54 columns]"
            ],
            "text/html": [
              "\n",
              "  <div id=\"df-280df5b0-3f5a-4824-9878-1b52c4f73afd\">\n",
              "    <div class=\"colab-df-container\">\n",
              "      <div>\n",
              "<style scoped>\n",
              "    .dataframe tbody tr th:only-of-type {\n",
              "        vertical-align: middle;\n",
              "    }\n",
              "\n",
              "    .dataframe tbody tr th {\n",
              "        vertical-align: top;\n",
              "    }\n",
              "\n",
              "    .dataframe thead th {\n",
              "        text-align: right;\n",
              "    }\n",
              "</style>\n",
              "<table border=\"1\" class=\"dataframe\">\n",
              "  <thead>\n",
              "    <tr style=\"text-align: right;\">\n",
              "      <th></th>\n",
              "      <th>srch_id</th>\n",
              "      <th>date_time</th>\n",
              "      <th>site_id</th>\n",
              "      <th>visitor_location_country_id</th>\n",
              "      <th>visitor_hist_starrating</th>\n",
              "      <th>visitor_hist_adr_usd</th>\n",
              "      <th>prop_country_id</th>\n",
              "      <th>prop_id</th>\n",
              "      <th>prop_starrating</th>\n",
              "      <th>prop_review_score</th>\n",
              "      <th>...</th>\n",
              "      <th>comp6_rate_percent_diff</th>\n",
              "      <th>comp7_rate</th>\n",
              "      <th>comp7_inv</th>\n",
              "      <th>comp7_rate_percent_diff</th>\n",
              "      <th>comp8_rate</th>\n",
              "      <th>comp8_inv</th>\n",
              "      <th>comp8_rate_percent_diff</th>\n",
              "      <th>click_bool</th>\n",
              "      <th>gross_bookings_usd</th>\n",
              "      <th>booking_bool</th>\n",
              "    </tr>\n",
              "  </thead>\n",
              "  <tbody>\n",
              "    <tr>\n",
              "      <th>0</th>\n",
              "      <td>1</td>\n",
              "      <td>2013-04-04 08:32:15</td>\n",
              "      <td>12</td>\n",
              "      <td>187</td>\n",
              "      <td>NaN</td>\n",
              "      <td>NaN</td>\n",
              "      <td>219</td>\n",
              "      <td>893</td>\n",
              "      <td>3</td>\n",
              "      <td>3.5</td>\n",
              "      <td>...</td>\n",
              "      <td>NaN</td>\n",
              "      <td>NaN</td>\n",
              "      <td>NaN</td>\n",
              "      <td>NaN</td>\n",
              "      <td>0.0</td>\n",
              "      <td>0.0</td>\n",
              "      <td>NaN</td>\n",
              "      <td>0</td>\n",
              "      <td>NaN</td>\n",
              "      <td>0</td>\n",
              "    </tr>\n",
              "    <tr>\n",
              "      <th>1</th>\n",
              "      <td>1</td>\n",
              "      <td>2013-04-04 08:32:15</td>\n",
              "      <td>12</td>\n",
              "      <td>187</td>\n",
              "      <td>NaN</td>\n",
              "      <td>NaN</td>\n",
              "      <td>219</td>\n",
              "      <td>10404</td>\n",
              "      <td>4</td>\n",
              "      <td>4.0</td>\n",
              "      <td>...</td>\n",
              "      <td>NaN</td>\n",
              "      <td>NaN</td>\n",
              "      <td>NaN</td>\n",
              "      <td>NaN</td>\n",
              "      <td>0.0</td>\n",
              "      <td>0.0</td>\n",
              "      <td>NaN</td>\n",
              "      <td>0</td>\n",
              "      <td>NaN</td>\n",
              "      <td>0</td>\n",
              "    </tr>\n",
              "    <tr>\n",
              "      <th>2</th>\n",
              "      <td>1</td>\n",
              "      <td>2013-04-04 08:32:15</td>\n",
              "      <td>12</td>\n",
              "      <td>187</td>\n",
              "      <td>NaN</td>\n",
              "      <td>NaN</td>\n",
              "      <td>219</td>\n",
              "      <td>21315</td>\n",
              "      <td>3</td>\n",
              "      <td>4.5</td>\n",
              "      <td>...</td>\n",
              "      <td>NaN</td>\n",
              "      <td>NaN</td>\n",
              "      <td>NaN</td>\n",
              "      <td>NaN</td>\n",
              "      <td>0.0</td>\n",
              "      <td>0.0</td>\n",
              "      <td>NaN</td>\n",
              "      <td>0</td>\n",
              "      <td>NaN</td>\n",
              "      <td>0</td>\n",
              "    </tr>\n",
              "    <tr>\n",
              "      <th>3</th>\n",
              "      <td>1</td>\n",
              "      <td>2013-04-04 08:32:15</td>\n",
              "      <td>12</td>\n",
              "      <td>187</td>\n",
              "      <td>NaN</td>\n",
              "      <td>NaN</td>\n",
              "      <td>219</td>\n",
              "      <td>27348</td>\n",
              "      <td>2</td>\n",
              "      <td>4.0</td>\n",
              "      <td>...</td>\n",
              "      <td>NaN</td>\n",
              "      <td>NaN</td>\n",
              "      <td>NaN</td>\n",
              "      <td>NaN</td>\n",
              "      <td>-1.0</td>\n",
              "      <td>0.0</td>\n",
              "      <td>5.0</td>\n",
              "      <td>0</td>\n",
              "      <td>NaN</td>\n",
              "      <td>0</td>\n",
              "    </tr>\n",
              "    <tr>\n",
              "      <th>4</th>\n",
              "      <td>1</td>\n",
              "      <td>2013-04-04 08:32:15</td>\n",
              "      <td>12</td>\n",
              "      <td>187</td>\n",
              "      <td>NaN</td>\n",
              "      <td>NaN</td>\n",
              "      <td>219</td>\n",
              "      <td>29604</td>\n",
              "      <td>4</td>\n",
              "      <td>3.5</td>\n",
              "      <td>...</td>\n",
              "      <td>NaN</td>\n",
              "      <td>NaN</td>\n",
              "      <td>NaN</td>\n",
              "      <td>NaN</td>\n",
              "      <td>0.0</td>\n",
              "      <td>0.0</td>\n",
              "      <td>NaN</td>\n",
              "      <td>0</td>\n",
              "      <td>NaN</td>\n",
              "      <td>0</td>\n",
              "    </tr>\n",
              "  </tbody>\n",
              "</table>\n",
              "<p>5 rows × 54 columns</p>\n",
              "</div>\n",
              "      <button class=\"colab-df-convert\" onclick=\"convertToInteractive('df-280df5b0-3f5a-4824-9878-1b52c4f73afd')\"\n",
              "              title=\"Convert this dataframe to an interactive table.\"\n",
              "              style=\"display:none;\">\n",
              "        \n",
              "  <svg xmlns=\"http://www.w3.org/2000/svg\" height=\"24px\"viewBox=\"0 0 24 24\"\n",
              "       width=\"24px\">\n",
              "    <path d=\"M0 0h24v24H0V0z\" fill=\"none\"/>\n",
              "    <path d=\"M18.56 5.44l.94 2.06.94-2.06 2.06-.94-2.06-.94-.94-2.06-.94 2.06-2.06.94zm-11 1L8.5 8.5l.94-2.06 2.06-.94-2.06-.94L8.5 2.5l-.94 2.06-2.06.94zm10 10l.94 2.06.94-2.06 2.06-.94-2.06-.94-.94-2.06-.94 2.06-2.06.94z\"/><path d=\"M17.41 7.96l-1.37-1.37c-.4-.4-.92-.59-1.43-.59-.52 0-1.04.2-1.43.59L10.3 9.45l-7.72 7.72c-.78.78-.78 2.05 0 2.83L4 21.41c.39.39.9.59 1.41.59.51 0 1.02-.2 1.41-.59l7.78-7.78 2.81-2.81c.8-.78.8-2.07 0-2.86zM5.41 20L4 18.59l7.72-7.72 1.47 1.35L5.41 20z\"/>\n",
              "  </svg>\n",
              "      </button>\n",
              "      \n",
              "  <style>\n",
              "    .colab-df-container {\n",
              "      display:flex;\n",
              "      flex-wrap:wrap;\n",
              "      gap: 12px;\n",
              "    }\n",
              "\n",
              "    .colab-df-convert {\n",
              "      background-color: #E8F0FE;\n",
              "      border: none;\n",
              "      border-radius: 50%;\n",
              "      cursor: pointer;\n",
              "      display: none;\n",
              "      fill: #1967D2;\n",
              "      height: 32px;\n",
              "      padding: 0 0 0 0;\n",
              "      width: 32px;\n",
              "    }\n",
              "\n",
              "    .colab-df-convert:hover {\n",
              "      background-color: #E2EBFA;\n",
              "      box-shadow: 0px 1px 2px rgba(60, 64, 67, 0.3), 0px 1px 3px 1px rgba(60, 64, 67, 0.15);\n",
              "      fill: #174EA6;\n",
              "    }\n",
              "\n",
              "    [theme=dark] .colab-df-convert {\n",
              "      background-color: #3B4455;\n",
              "      fill: #D2E3FC;\n",
              "    }\n",
              "\n",
              "    [theme=dark] .colab-df-convert:hover {\n",
              "      background-color: #434B5C;\n",
              "      box-shadow: 0px 1px 3px 1px rgba(0, 0, 0, 0.15);\n",
              "      filter: drop-shadow(0px 1px 2px rgba(0, 0, 0, 0.3));\n",
              "      fill: #FFFFFF;\n",
              "    }\n",
              "  </style>\n",
              "\n",
              "      <script>\n",
              "        const buttonEl =\n",
              "          document.querySelector('#df-280df5b0-3f5a-4824-9878-1b52c4f73afd button.colab-df-convert');\n",
              "        buttonEl.style.display =\n",
              "          google.colab.kernel.accessAllowed ? 'block' : 'none';\n",
              "\n",
              "        async function convertToInteractive(key) {\n",
              "          const element = document.querySelector('#df-280df5b0-3f5a-4824-9878-1b52c4f73afd');\n",
              "          const dataTable =\n",
              "            await google.colab.kernel.invokeFunction('convertToInteractive',\n",
              "                                                     [key], {});\n",
              "          if (!dataTable) return;\n",
              "\n",
              "          const docLinkHtml = 'Like what you see? Visit the ' +\n",
              "            '<a target=\"_blank\" href=https://colab.research.google.com/notebooks/data_table.ipynb>data table notebook</a>'\n",
              "            + ' to learn more about interactive tables.';\n",
              "          element.innerHTML = '';\n",
              "          dataTable['output_type'] = 'display_data';\n",
              "          await google.colab.output.renderOutput(dataTable, element);\n",
              "          const docLink = document.createElement('div');\n",
              "          docLink.innerHTML = docLinkHtml;\n",
              "          element.appendChild(docLink);\n",
              "        }\n",
              "      </script>\n",
              "    </div>\n",
              "  </div>\n",
              "  "
            ]
          },
          "metadata": {},
          "execution_count": 31
        }
      ]
    },
    {
      "cell_type": "markdown",
      "source": [
        "#Original Data set had 54 rows,after dropping all columns which had Nan values we are left with 23"
      ],
      "metadata": {
        "id": "SC2AoqhMmviA"
      }
    },
    {
      "cell_type": "code",
      "source": [
        "df_train.shape"
      ],
      "metadata": {
        "colab": {
          "base_uri": "https://localhost:8080/"
        },
        "id": "PIPX3PRNf2sE",
        "outputId": "98e9e042-9401-4c64-a23b-751c6f2b575a"
      },
      "execution_count": 129,
      "outputs": [
        {
          "output_type": "execute_result",
          "data": {
            "text/plain": [
              "(4958347, 54)"
            ]
          },
          "metadata": {},
          "execution_count": 129
        }
      ]
    },
    {
      "cell_type": "code",
      "source": [
        "#check missing values in 23 column\n",
        "df_train.isnull().sum()"
      ],
      "metadata": {
        "colab": {
          "base_uri": "https://localhost:8080/"
        },
        "id": "U52HvOyRof8x",
        "outputId": "914b70b0-3bc5-4693-ab4f-616fc2089d62"
      },
      "execution_count": 96,
      "outputs": [
        {
          "output_type": "execute_result",
          "data": {
            "text/plain": [
              "srch_id                           0\n",
              "date_time                         0\n",
              "site_id                           0\n",
              "visitor_location_country_id       0\n",
              "visitor_hist_starrating        9503\n",
              "visitor_hist_adr_usd           9503\n",
              "prop_country_id                   0\n",
              "prop_id                           0\n",
              "prop_starrating                   0\n",
              "prop_review_score                17\n",
              "prop_brand_bool                   0\n",
              "prop_location_score1              0\n",
              "prop_location_score2           2269\n",
              "prop_log_historical_price         0\n",
              "position                          0\n",
              "price_usd                         0\n",
              "promotion_flag                    0\n",
              "srch_destination_id               0\n",
              "srch_length_of_stay               0\n",
              "srch_booking_window               0\n",
              "srch_adults_count                 0\n",
              "srch_children_count               0\n",
              "srch_room_count                   0\n",
              "srch_saturday_night_bool          0\n",
              "srch_query_affinity_score      9460\n",
              "orig_destination_distance      3204\n",
              "random_bool                       0\n",
              "comp1_rate                     9732\n",
              "comp1_inv                      9700\n",
              "comp1_rate_percent_diff        9781\n",
              "comp2_rate                     5858\n",
              "comp2_inv                      5700\n",
              "comp2_rate_percent_diff        8873\n",
              "comp3_rate                     6775\n",
              "comp3_inv                      6560\n",
              "comp3_rate_percent_diff        9066\n",
              "comp4_rate                     9323\n",
              "comp4_inv                      9261\n",
              "comp4_rate_percent_diff        9745\n",
              "comp5_rate                     5062\n",
              "comp5_inv                      4831\n",
              "comp5_rate_percent_diff        8159\n",
              "comp6_rate                     9347\n",
              "comp6_inv                      9297\n",
              "comp6_rate_percent_diff        9741\n",
              "comp7_rate                     9217\n",
              "comp7_inv                      9081\n",
              "comp7_rate_percent_diff        9638\n",
              "comp8_rate                     5940\n",
              "comp8_inv                      5811\n",
              "comp8_rate_percent_diff        8725\n",
              "click_bool                        0\n",
              "gross_bookings_usd             9719\n",
              "booking_bool                      0\n",
              "dtype: int64"
            ]
          },
          "metadata": {},
          "execution_count": 96
        }
      ]
    },
    {
      "cell_type": "code",
      "source": [
        "df_train.info()"
      ],
      "metadata": {
        "colab": {
          "base_uri": "https://localhost:8080/"
        },
        "id": "aLtlbjbUqFEJ",
        "outputId": "61af9638-6eaf-4d0e-fcdb-460fda86bc76"
      },
      "execution_count": 97,
      "outputs": [
        {
          "output_type": "stream",
          "name": "stdout",
          "text": [
            "<class 'pandas.core.frame.DataFrame'>\n",
            "RangeIndex: 10000 entries, 0 to 9999\n",
            "Data columns (total 54 columns):\n",
            " #   Column                       Non-Null Count  Dtype  \n",
            "---  ------                       --------------  -----  \n",
            " 0   srch_id                      10000 non-null  int64  \n",
            " 1   date_time                    10000 non-null  object \n",
            " 2   site_id                      10000 non-null  int64  \n",
            " 3   visitor_location_country_id  10000 non-null  int64  \n",
            " 4   visitor_hist_starrating      497 non-null    float64\n",
            " 5   visitor_hist_adr_usd         497 non-null    float64\n",
            " 6   prop_country_id              10000 non-null  int64  \n",
            " 7   prop_id                      10000 non-null  int64  \n",
            " 8   prop_starrating              10000 non-null  int64  \n",
            " 9   prop_review_score            9983 non-null   float64\n",
            " 10  prop_brand_bool              10000 non-null  int64  \n",
            " 11  prop_location_score1         10000 non-null  float64\n",
            " 12  prop_location_score2         7731 non-null   float64\n",
            " 13  prop_log_historical_price    10000 non-null  float64\n",
            " 14  position                     10000 non-null  int64  \n",
            " 15  price_usd                    10000 non-null  float64\n",
            " 16  promotion_flag               10000 non-null  int64  \n",
            " 17  srch_destination_id          10000 non-null  int64  \n",
            " 18  srch_length_of_stay          10000 non-null  int64  \n",
            " 19  srch_booking_window          10000 non-null  int64  \n",
            " 20  srch_adults_count            10000 non-null  int64  \n",
            " 21  srch_children_count          10000 non-null  int64  \n",
            " 22  srch_room_count              10000 non-null  int64  \n",
            " 23  srch_saturday_night_bool     10000 non-null  int64  \n",
            " 24  srch_query_affinity_score    540 non-null    float64\n",
            " 25  orig_destination_distance    6796 non-null   float64\n",
            " 26  random_bool                  10000 non-null  int64  \n",
            " 27  comp1_rate                   268 non-null    float64\n",
            " 28  comp1_inv                    300 non-null    float64\n",
            " 29  comp1_rate_percent_diff      219 non-null    float64\n",
            " 30  comp2_rate                   4142 non-null   float64\n",
            " 31  comp2_inv                    4300 non-null   float64\n",
            " 32  comp2_rate_percent_diff      1127 non-null   float64\n",
            " 33  comp3_rate                   3225 non-null   float64\n",
            " 34  comp3_inv                    3440 non-null   float64\n",
            " 35  comp3_rate_percent_diff      934 non-null    float64\n",
            " 36  comp4_rate                   677 non-null    float64\n",
            " 37  comp4_inv                    739 non-null    float64\n",
            " 38  comp4_rate_percent_diff      255 non-null    float64\n",
            " 39  comp5_rate                   4938 non-null   float64\n",
            " 40  comp5_inv                    5169 non-null   float64\n",
            " 41  comp5_rate_percent_diff      1841 non-null   float64\n",
            " 42  comp6_rate                   653 non-null    float64\n",
            " 43  comp6_inv                    703 non-null    float64\n",
            " 44  comp6_rate_percent_diff      259 non-null    float64\n",
            " 45  comp7_rate                   783 non-null    float64\n",
            " 46  comp7_inv                    919 non-null    float64\n",
            " 47  comp7_rate_percent_diff      362 non-null    float64\n",
            " 48  comp8_rate                   4060 non-null   float64\n",
            " 49  comp8_inv                    4189 non-null   float64\n",
            " 50  comp8_rate_percent_diff      1275 non-null   float64\n",
            " 51  click_bool                   10000 non-null  int64  \n",
            " 52  gross_bookings_usd           281 non-null    float64\n",
            " 53  booking_bool                 10000 non-null  int64  \n",
            "dtypes: float64(34), int64(19), object(1)\n",
            "memory usage: 4.1+ MB\n"
          ]
        }
      ]
    },
    {
      "cell_type": "code",
      "source": [
        "df_train.columns"
      ],
      "metadata": {
        "colab": {
          "base_uri": "https://localhost:8080/"
        },
        "id": "rjNocbe8qc6Y",
        "outputId": "25a3eb43-e9bb-4485-8cdf-743abfbab801"
      },
      "execution_count": 98,
      "outputs": [
        {
          "output_type": "execute_result",
          "data": {
            "text/plain": [
              "Index(['srch_id', 'date_time', 'site_id', 'visitor_location_country_id',\n",
              "       'visitor_hist_starrating', 'visitor_hist_adr_usd', 'prop_country_id',\n",
              "       'prop_id', 'prop_starrating', 'prop_review_score', 'prop_brand_bool',\n",
              "       'prop_location_score1', 'prop_location_score2',\n",
              "       'prop_log_historical_price', 'position', 'price_usd', 'promotion_flag',\n",
              "       'srch_destination_id', 'srch_length_of_stay', 'srch_booking_window',\n",
              "       'srch_adults_count', 'srch_children_count', 'srch_room_count',\n",
              "       'srch_saturday_night_bool', 'srch_query_affinity_score',\n",
              "       'orig_destination_distance', 'random_bool', 'comp1_rate', 'comp1_inv',\n",
              "       'comp1_rate_percent_diff', 'comp2_rate', 'comp2_inv',\n",
              "       'comp2_rate_percent_diff', 'comp3_rate', 'comp3_inv',\n",
              "       'comp3_rate_percent_diff', 'comp4_rate', 'comp4_inv',\n",
              "       'comp4_rate_percent_diff', 'comp5_rate', 'comp5_inv',\n",
              "       'comp5_rate_percent_diff', 'comp6_rate', 'comp6_inv',\n",
              "       'comp6_rate_percent_diff', 'comp7_rate', 'comp7_inv',\n",
              "       'comp7_rate_percent_diff', 'comp8_rate', 'comp8_inv',\n",
              "       'comp8_rate_percent_diff', 'click_bool', 'gross_bookings_usd',\n",
              "       'booking_bool'],\n",
              "      dtype='object')"
            ]
          },
          "metadata": {},
          "execution_count": 98
        }
      ]
    },
    {
      "cell_type": "markdown",
      "source": [
        "#Drop columns  date_time,site_id"
      ],
      "metadata": {
        "id": "5O3k2eEyj30z"
      }
    },
    {
      "cell_type": "code",
      "source": [
        "#train=train.drop([\"srch_id\",\"date_time\",\"site_id\",\"visitor_location_country_id\",\"prop_country_id\",\"prop_id\",\"srch_destination_id\"],axis=1)\n",
        "df_train=df_train.drop([\"date_time\",\"site_id\"],axis=1)"
      ],
      "metadata": {
        "id": "yRH34S6elBhN"
      },
      "execution_count": 99,
      "outputs": []
    },
    {
      "cell_type": "code",
      "source": [
        "df_train.shape\n",
        "#df_train.columns"
      ],
      "metadata": {
        "colab": {
          "base_uri": "https://localhost:8080/"
        },
        "id": "y_FVly2glRFs",
        "outputId": "5b758fae-fc98-4256-bf99-d5779a810e9f"
      },
      "execution_count": 100,
      "outputs": [
        {
          "output_type": "execute_result",
          "data": {
            "text/plain": [
              "(10000, 52)"
            ]
          },
          "metadata": {},
          "execution_count": 100
        }
      ]
    },
    {
      "cell_type": "code",
      "source": [
        "search_id_counts = df_train['srch_id'].value_counts()\n",
        "#search_id_counts"
      ],
      "metadata": {
        "id": "5PfZIIa5y4gN"
      },
      "execution_count": 101,
      "outputs": []
    },
    {
      "cell_type": "code",
      "source": [
        "prop_id_counts = df_train['prop_id'].value_counts()\n",
        "#prop_id_counts"
      ],
      "metadata": {
        "id": "BpC__uxX0CfN"
      },
      "execution_count": 102,
      "outputs": []
    },
    {
      "cell_type": "code",
      "source": [
        "df_train.columns"
      ],
      "metadata": {
        "colab": {
          "base_uri": "https://localhost:8080/"
        },
        "id": "Q1iBcO_-8CnV",
        "outputId": "b2bf039a-24c3-4e17-8cb5-6d86ffd27d68"
      },
      "execution_count": 103,
      "outputs": [
        {
          "output_type": "execute_result",
          "data": {
            "text/plain": [
              "Index(['srch_id', 'visitor_location_country_id', 'visitor_hist_starrating',\n",
              "       'visitor_hist_adr_usd', 'prop_country_id', 'prop_id', 'prop_starrating',\n",
              "       'prop_review_score', 'prop_brand_bool', 'prop_location_score1',\n",
              "       'prop_location_score2', 'prop_log_historical_price', 'position',\n",
              "       'price_usd', 'promotion_flag', 'srch_destination_id',\n",
              "       'srch_length_of_stay', 'srch_booking_window', 'srch_adults_count',\n",
              "       'srch_children_count', 'srch_room_count', 'srch_saturday_night_bool',\n",
              "       'srch_query_affinity_score', 'orig_destination_distance', 'random_bool',\n",
              "       'comp1_rate', 'comp1_inv', 'comp1_rate_percent_diff', 'comp2_rate',\n",
              "       'comp2_inv', 'comp2_rate_percent_diff', 'comp3_rate', 'comp3_inv',\n",
              "       'comp3_rate_percent_diff', 'comp4_rate', 'comp4_inv',\n",
              "       'comp4_rate_percent_diff', 'comp5_rate', 'comp5_inv',\n",
              "       'comp5_rate_percent_diff', 'comp6_rate', 'comp6_inv',\n",
              "       'comp6_rate_percent_diff', 'comp7_rate', 'comp7_inv',\n",
              "       'comp7_rate_percent_diff', 'comp8_rate', 'comp8_inv',\n",
              "       'comp8_rate_percent_diff', 'click_bool', 'gross_bookings_usd',\n",
              "       'booking_bool'],\n",
              "      dtype='object')"
            ]
          },
          "metadata": {},
          "execution_count": 103
        }
      ]
    },
    {
      "cell_type": "code",
      "source": [
        "df_train.shape"
      ],
      "metadata": {
        "colab": {
          "base_uri": "https://localhost:8080/"
        },
        "id": "lh3vwQ_-E3Uy",
        "outputId": "99158e8c-9b99-4bb7-a094-259a6dde48b5"
      },
      "execution_count": 131,
      "outputs": [
        {
          "output_type": "execute_result",
          "data": {
            "text/plain": [
              "(4958347, 54)"
            ]
          },
          "metadata": {},
          "execution_count": 131
        }
      ]
    },
    {
      "cell_type": "code",
      "source": [
        "df_train['click_bool']"
      ],
      "metadata": {
        "id": "H2GzHWrgJ1P4"
      },
      "execution_count": null,
      "outputs": []
    },
    {
      "cell_type": "markdown",
      "source": [
        "#Apply the query for NDGC@5\n",
        "\n",
        "1.  First create an sqllite connection and test a query for a smaller data set\n",
        "\n",
        "\n",
        "\n",
        "\n",
        "\n",
        "\n"
      ],
      "metadata": {
        "id": "sexVL6HN_Kh3"
      }
    },
    {
      "cell_type": "code",
      "source": [
        "conn = sqlite3.connect('df_train.db')"
      ],
      "metadata": {
        "id": "hXLuhKP4N8Aq"
      },
      "execution_count": 32,
      "outputs": []
    },
    {
      "cell_type": "code",
      "source": [
        "# Register the DataFrame as a temporary table for small data set\n",
        "df_train.to_sql('tmp_table', conn, if_exists='replace', index=False)"
      ],
      "metadata": {
        "colab": {
          "base_uri": "https://localhost:8080/"
        },
        "id": "zIuJMPb3Ogsw",
        "outputId": "8174c227-efe5-40c2-957c-d3aa2da870d0"
      },
      "execution_count": 33,
      "outputs": [
        {
          "output_type": "execute_result",
          "data": {
            "text/plain": [
              "4958347"
            ]
          },
          "metadata": {},
          "execution_count": 33
        }
      ]
    },
    {
      "cell_type": "code",
      "source": [
        "query1 = 'SELECT prop_id FROM tmp_table WHERE prop_review_score > 3.5'"
      ],
      "metadata": {
        "id": "GEeb2aGVV33o"
      },
      "execution_count": 34,
      "outputs": []
    },
    {
      "cell_type": "code",
      "source": [
        "query2 = '''\n",
        "SELECT \n",
        "    srch_id,\n",
        "    prop_id,\n",
        "    CASE\n",
        "        WHEN click_bool AND booking_bool THEN 5\n",
        "        WHEN click_bool THEN 1\n",
        "        ELSE 0\n",
        "    END AS relevance\n",
        "FROM tmp_table\n",
        "'''"
      ],
      "metadata": {
        "id": "s731FTNkV4Gy"
      },
      "execution_count": 29,
      "outputs": []
    },
    {
      "cell_type": "code",
      "source": [
        "query3 = '''\n",
        "SELECT \n",
        "    srch_id,\n",
        "    prop_id,prop_starrating,prop_review_score,visitor_location_country_id,\n",
        "    CASE\n",
        "        WHEN click_bool AND booking_bool THEN 5\n",
        "        WHEN click_bool THEN 1\n",
        "        ELSE 0\n",
        "    END AS relevance\n",
        "FROM tmp_table\n",
        "'''"
      ],
      "metadata": {
        "id": "SX1DLSvkZjhb"
      },
      "execution_count": 45,
      "outputs": []
    },
    {
      "cell_type": "code",
      "source": [
        "\n",
        "result_df = pd.read_sql_query(query3, conn)\n",
        "# Print the result\n",
        "print(result_df)"
      ],
      "metadata": {
        "id": "BwoeV6ioQ1Nd"
      },
      "execution_count": null,
      "outputs": []
    },
    {
      "cell_type": "markdown",
      "source": [
        "#Check which features contribute to Relevance of 5 by looking at the mean"
      ],
      "metadata": {
        "id": "V61tXNH-bryB"
      }
    },
    {
      "cell_type": "code",
      "source": [
        "# Execute query3 and load results into a DataFrame\n",
        "result_df = pd.read_sql_query(query3, conn)\n",
        "\n",
        "# Group by relevance and calculate mean for each feature\n",
        "mean_by_relevance = result_df.groupby('relevance').mean()\n",
        "\n",
        "# Print mean values for features with relevance = 5\n",
        "print(mean_by_relevance.loc[5])\n"
      ],
      "metadata": {
        "id": "aO0F02vvbj7r"
      },
      "execution_count": null,
      "outputs": []
    },
    {
      "cell_type": "code",
      "source": [
        "# Count the unique values in the relevance column\n",
        "print(result_df['relevance'].value_counts())\n"
      ],
      "metadata": {
        "colab": {
          "base_uri": "https://localhost:8080/"
        },
        "id": "aYp1nt5ML1cq",
        "outputId": "4909dbef-38fc-42ad-aab6-1e2555cf5e90"
      },
      "execution_count": 47,
      "outputs": [
        {
          "output_type": "stream",
          "name": "stdout",
          "text": [
            "0    4736468\n",
            "5     138390\n",
            "1      83489\n",
            "Name: relevance, dtype: int64\n"
          ]
        }
      ]
    },
    {
      "cell_type": "code",
      "source": [
        "# Calculate DCG@5 and IDCG@5 for each search query\n",
        "ndcg_list = []\n",
        "for search_id, group in result_df.groupby('srch_id'):\n",
        "    # Sort the properties by relevance score in descending order\n",
        "    sorted_group = group.sort_values('relevance', ascending=False)[:5]\n",
        "    \n",
        "    # Calculate DCG@5\n",
        "    dcg = np.sum(sorted_group['relevance'] / np.log2(np.arange(2, 7)))\n",
        "    \n",
        "    # Calculate IDCG@5\n",
        "    idcg = np.sum(sorted(group['relevance'], reverse=True)[:5] / np.log2(np.arange(2, 7)))\n",
        "  \n",
        "    # Calculate NDCG@5\n",
        "    ndcg = dcg / idcg if idcg > 0 else 0\n",
        "    \n",
        "    ndcg_list.append(ndcg)\n",
        "\n",
        "# Calculate the average NDCG@5 over all search queries\n",
        "avg_ndcg = np.mean(ndcg_list)\n",
        "print(avg_ndcg)\n"
      ],
      "metadata": {
        "colab": {
          "base_uri": "https://localhost:8080/"
        },
        "id": "b7ZqX93jMXCX",
        "outputId": "7ef7ca2a-be33-4c56-ac40-6e6fe635c5d1"
      },
      "execution_count": 38,
      "outputs": [
        {
          "output_type": "stream",
          "name": "stdout",
          "text": [
            "1.0\n"
          ]
        }
      ]
    },
    {
      "cell_type": "code",
      "source": [
        "# Count the unique values in the relevance column\n",
        "print(result_df['relevance'].value_counts())\n"
      ],
      "metadata": {
        "colab": {
          "base_uri": "https://localhost:8080/"
        },
        "id": "EmupRC-ZVB6U",
        "outputId": "ec85d39b-7a2d-410b-c33e-1c58c4877c95"
      },
      "execution_count": 39,
      "outputs": [
        {
          "output_type": "stream",
          "name": "stdout",
          "text": [
            "0    4736468\n",
            "5     138390\n",
            "1      83489\n",
            "Name: relevance, dtype: int64\n"
          ]
        }
      ]
    },
    {
      "cell_type": "code",
      "source": [
        "correlation_matrix = result_df.corr()\n",
        "print(correlation_matrix)\n"
      ],
      "metadata": {
        "colab": {
          "base_uri": "https://localhost:8080/"
        },
        "id": "HhkKdzwvZaPG",
        "outputId": "189b95d1-867b-4ca3-d16d-ebcb6a913dcc"
      },
      "execution_count": 40,
      "outputs": [
        {
          "output_type": "stream",
          "name": "stdout",
          "text": [
            "            srch_id   prop_id  relevance\n",
            "srch_id    1.000000 -0.000166   0.000434\n",
            "prop_id   -0.000166  1.000000  -0.000342\n",
            "relevance  0.000434 -0.000342   1.000000\n"
          ]
        }
      ]
    },
    {
      "cell_type": "markdown",
      "source": [
        "#Looking for booking_bool == True"
      ],
      "metadata": {
        "id": "5FRlOkqcG5hE"
      }
    },
    {
      "cell_type": "code",
      "source": [
        "\n",
        "booked = df_train[df_train['booking_bool'] == True].value_counts()\n",
        "booked.head()"
      ],
      "metadata": {
        "id": "qK7fCQpgFD7B"
      },
      "execution_count": null,
      "outputs": []
    },
    {
      "cell_type": "markdown",
      "source": [
        "#Look up for the most common property_id when booking was True,belwo code gives the first 5 index"
      ],
      "metadata": {
        "id": "ZNCTIstTHtwg"
      }
    },
    {
      "cell_type": "code",
      "source": [
        "#booked_prop_ids = list(booked.prop_id.value_counts().head().index)\n",
        "#booked_prop_ids\n"
      ],
      "metadata": {
        "id": "7AJkjf3MHBhd"
      },
      "execution_count": null,
      "outputs": []
    },
    {
      "cell_type": "code",
      "source": [
        "#Get DataFrame where booking is True\n",
        "df_train_setBooking = df_train[df_train.booking_bool == True]\n",
        "#df_train_setBooking"
      ],
      "metadata": {
        "id": "iYBh1nUuCPz_"
      },
      "execution_count": null,
      "outputs": []
    },
    {
      "cell_type": "code",
      "source": [
        "\n",
        "df_train_setBooking.shape"
      ],
      "metadata": {
        "id": "HQ5VPmreEy3a"
      },
      "execution_count": null,
      "outputs": []
    },
    {
      "cell_type": "code",
      "source": [],
      "metadata": {
        "id": "p4hhlhNTr5ir"
      },
      "execution_count": null,
      "outputs": []
    },
    {
      "cell_type": "markdown",
      "source": [
        "#Apply Co-relation and generate Heat map to the co-relation between the prop_id and other variables"
      ],
      "metadata": {
        "id": "i3gg9wHTr5-m"
      }
    },
    {
      "cell_type": "code",
      "source": [
        "df_train_setBooking.corr()[\"prop_id\"]"
      ],
      "metadata": {
        "id": "4cefULwsJ79J"
      },
      "execution_count": null,
      "outputs": []
    },
    {
      "cell_type": "code",
      "source": [
        "\n",
        "mask = df_train_setBooking['booking_bool'] == True\n",
        "corr_matrix = df_train_setBooking[mask].drop(columns=['click_bool']).corr()\n",
        "\n",
        "sns.heatmap(corr_matrix, cmap='coolwarm', annot=True, vmin=-1, vmax=1)\n"
      ],
      "metadata": {
        "id": "yWuJwud3L3ee"
      },
      "execution_count": null,
      "outputs": []
    },
    {
      "cell_type": "code",
      "source": [
        "columns = ['srch_id', 'visitor_location_country_id', 'prop_country_id', 'prop_id',\n",
        "           'prop_starrating', 'prop_brand_bool', 'prop_location_score1',\n",
        "           'prop_log_historical_price', 'position', 'price_usd', 'promotion_flag',\n",
        "           'srch_destination_id', 'srch_length_of_stay', 'srch_booking_window',\n",
        "           'srch_adults_count', 'srch_children_count', 'srch_room_count',\n",
        "           'srch_saturday_night_bool', 'random_bool', 'click_bool',\n",
        "           'booking_bool']\n",
        "\n",
        "# Select only the specified columns from the dataframe\n",
        "df_selected_columns = df_train_setBooking[columns]\n",
        "\n",
        "# Compute the correlation matrix\n",
        "corr = df_selected_columns.corr()\n",
        "\n",
        "# Set up the matplotlib figure\n",
        "fig, ax = plt.subplots(figsize=(20, 10))\n",
        "\n",
        "# Draw the heatmap using seaborn\n",
        "sns.heatmap(corr, annot=True, cmap='coolwarm', linewidths=0.5, ax=ax)\n",
        "\n",
        "# Add a title to the plot\n",
        "ax.set_title('Correlation Heatmap')\n",
        "\n",
        "# Show the plot\n",
        "plt.show()\n",
        "# Sort the correlations with prop_id in descending order\n",
        "corr_prop_id = corr['prop_id'].sort_values(ascending=False)\n",
        "print(corr_prop_id)"
      ],
      "metadata": {
        "id": "NjLFXo-PjoOd"
      },
      "execution_count": null,
      "outputs": []
    },
    {
      "cell_type": "code",
      "source": [
        "columns = ['srch_id', 'visitor_location_country_id',  'prop_id',\n",
        "           'prop_starrating',\n",
        "           'prop_log_historical_price', 'position', 'price_usd', 'promotion_flag',\n",
        "           'srch_destination_id', 'srch_length_of_stay',\n",
        "           'srch_room_count',\n",
        "           'srch_saturday_night_bool', \n",
        "           ]\n",
        "\n",
        "# Select only the specified columns from the dataframe\n",
        "df_selected_columns = df_train_setBooking[columns]\n",
        "\n",
        "# Compute the correlation matrix\n",
        "corr = df_selected_columns.corr()\n",
        "\n",
        "# Set up the matplotlib figure\n",
        "fig, ax = plt.subplots(figsize=(20, 10))\n",
        "\n",
        "# Draw the heatmap using seaborn\n",
        "sns.heatmap(corr, annot=True, cmap='coolwarm', linewidths=0.5, ax=ax)\n",
        "\n",
        "# Add a title to the plot\n",
        "ax.set_title('Correlation Heatmap')\n",
        "\n",
        "# Show the plot\n",
        "plt.show()"
      ],
      "metadata": {
        "id": "NE1jZ9JZmVwo"
      },
      "execution_count": null,
      "outputs": []
    },
    {
      "cell_type": "markdown",
      "source": [
        "#Apply PCA"
      ],
      "metadata": {
        "id": "oVmVHvldr3aN"
      }
    },
    {
      "cell_type": "markdown",
      "source": [
        "#Forwards Sequential Feature Selection on Training data"
      ],
      "metadata": {
        "id": "ZCbzPcfbrdy1"
      }
    },
    {
      "cell_type": "code",
      "source": [
        "\n",
        "# Define the input features and the target variable\n",
        "input_features = ['srch_id', 'visitor_location_country_id', \n",
        "                  'prop_starrating', 'prop_log_historical_price', \n",
        "                  'position', 'price_usd', 'promotion_flag',\n",
        "                  'srch_destination_id', 'srch_length_of_stay',\n",
        "                  'srch_room_count', 'srch_saturday_night_bool']\n",
        "\n",
        "target_variable = 'prop_id'\n",
        "\n",
        "# Set the number of folds for cross-validation\n",
        "n_folds = 3\n",
        "\n",
        "# Load the data and select the first 1000 rows\n",
        "X = df_train_setBooking[input_features].iloc[:1000]\n",
        "y = df_train_setBooking[target_variable].iloc[:1000]\n",
        "\n",
        "\n",
        "# Initialize the k-fold object\n",
        "kf = KFold(n_splits=n_folds, shuffle=True)\n",
        "\n",
        "# Initialize the model\n",
        "rf = RandomForestClassifier()\n",
        "\n",
        "# Initialize a list to store the cross-validation scores\n",
        "cv_scores = []\n",
        "\n",
        "# Loop over the folds\n",
        "for train_idx, val_idx in kf.split(X):\n",
        "    # Split the data into training and validation sets for the current fold\n",
        "    X_train, y_train = X.iloc[train_idx], y.iloc[train_idx]\n",
        "    X_val, y_val = X.iloc[val_idx], y.iloc[val_idx]\n",
        "    \n",
        "    # Fit the model on the training data\n",
        "    rf.fit(X_train, y_train)\n",
        "    \n",
        "    # Evaluate the model on the validation data and append the score to the list of cross-validation scores\n",
        "    y_pred = rf.predict(X_val)\n",
        "    cv_scores.append(accuracy_score(y_val, y_pred))\n",
        "\n",
        "# Compute the average cross-validation score\n",
        "avg_cv_score = sum(cv_scores) / len(cv_scores)\n",
        "\n",
        "# Print the average cross-validation score\n",
        "print('Average cross-validation score: {:.4f}'.format(avg_cv_score))\n",
        "\n",
        "\n",
        "\n",
        "\n",
        "    \n"
      ],
      "metadata": {
        "id": "doAV7bxxpTy_"
      },
      "execution_count": null,
      "outputs": []
    },
    {
      "cell_type": "code",
      "source": [
        "# Define the input features and the target variable\n",
        "input_features = ['srch_id', 'visitor_location_country_id', \n",
        "                  'prop_starrating', 'prop_log_historical_price', \n",
        "                  'position', 'price_usd', 'promotion_flag',\n",
        "                  'srch_destination_id', 'srch_length_of_stay',\n",
        "                  'srch_room_count', 'srch_saturday_night_bool']\n",
        "\n",
        "target_variable = 'prop_id'\n",
        "\n",
        "# Set the number of folds for cross-validation\n",
        "n_folds = 5\n",
        "\n",
        "# Load the data and select the first 1000 rows\n",
        "X = df_train_setBooking[input_features].iloc[:1000]\n",
        "y = df_train_setBooking[target_variable].iloc[:1000]\n",
        "\n",
        "# Initialize the k-fold object\n",
        "kf = KFold(n_splits=n_folds, shuffle=True)\n",
        "\n",
        "# Initialize the model\n",
        "rf = RandomForestClassifier()\n",
        "\n",
        "# Initialize a list to store the cross-validation scores\n",
        "cv_scores = []\n",
        "\n",
        "# Loop over the folds\n",
        "for fold_idx, (train_idx, val_idx) in enumerate(kf.split(X)):\n",
        "    # Split the data into training and validation sets for the current fold\n",
        "    X_train, y_train = X.iloc[train_idx], y.iloc[train_idx]\n",
        "    X_val, y_val = X.iloc[val_idx], y.iloc[val_idx]\n",
        "    \n",
        "    # Fit the model on the training data\n",
        "    rf.fit(X_train, y_train)\n",
        "    \n",
        "    # Evaluate the model on the validation data and append the score to the list of cross-validation scores\n",
        "    y_pred = rf.predict(X_val)\n",
        "    cv_score = accuracy_score(y_val, y_pred)\n",
        "    cv_scores.append(cv_score)\n",
        "    \n",
        "    # Print the accuracy for the current fold\n",
        "    print('Fold {}: {:.4f}'.format(fold_idx + 1, cv_score))\n",
        "\n",
        "# Compute the average cross-validation score\n",
        "avg_cv_score = sum(cv_scores) / len(cv_scores)\n",
        "\n",
        "# Print the average cross-validation score\n",
        "print('Average cross-validation score: {:.4f}'.format(avg_cv_score))\n"
      ],
      "metadata": {
        "id": "KxnVy1o9y8d-"
      },
      "execution_count": null,
      "outputs": []
    },
    {
      "cell_type": "markdown",
      "source": [
        "#Test Data Set EDA"
      ],
      "metadata": {
        "id": "ndJ1MDLAiHMF"
      }
    },
    {
      "cell_type": "code",
      "source": [
        "df_test = pd.read_csv(data_path + \"test.csv\")\n",
        "#Drop all columns with Nan values\n",
        "df_test=df_test.dropna(axis=1,how=\"any\")\n",
        "#original had 54 now we have only 20\n",
        "df_test.shape\n"
      ],
      "metadata": {
        "id": "uxn6AVEEiKDo"
      },
      "execution_count": null,
      "outputs": []
    },
    {
      "cell_type": "code",
      "source": [
        "df_test.isnull().sum()"
      ],
      "metadata": {
        "id": "jPdbsScbpinj"
      },
      "execution_count": null,
      "outputs": []
    },
    {
      "cell_type": "code",
      "source": [
        "df_test.info()"
      ],
      "metadata": {
        "id": "zvgf3Aufp6q9"
      },
      "execution_count": null,
      "outputs": []
    },
    {
      "cell_type": "code",
      "source": [
        "df_test.columns"
      ],
      "metadata": {
        "id": "tOCHC7KKqkvc"
      },
      "execution_count": null,
      "outputs": []
    }
  ]
}