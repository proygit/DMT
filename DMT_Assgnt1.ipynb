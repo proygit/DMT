{
  "nbformat": 4,
  "nbformat_minor": 0,
  "metadata": {
    "colab": {
      "provenance": [],
      "authorship_tag": "ABX9TyPwf6kSshj2Zv2QUBRCJAaX",
      "include_colab_link": true
    },
    "kernelspec": {
      "name": "python3",
      "display_name": "Python 3"
    },
    "language_info": {
      "name": "python"
    }
  },
  "cells": [
    {
      "cell_type": "markdown",
      "metadata": {
        "id": "view-in-github",
        "colab_type": "text"
      },
      "source": [
        "<a href=\"https://colab.research.google.com/github/proygit/DMT/blob/main/DMT_Assgnt1.ipynb\" target=\"_parent\"><img src=\"https://colab.research.google.com/assets/colab-badge.svg\" alt=\"Open In Colab\"/></a>"
      ]
    },
    {
      "cell_type": "markdown",
      "source": [
        "# Change directories and load sample data"
      ],
      "metadata": {
        "id": "gpH7ph7rBbAc"
      }
    },
    {
      "cell_type": "code",
      "source": [
        "!ls /content\n"
      ],
      "metadata": {
        "colab": {
          "base_uri": "https://localhost:8080/"
        },
        "id": "vwel8n4IH5gW",
        "outputId": "79b06815-a7ca-4cd5-ddef-2a6e538fde6b"
      },
      "execution_count": 147,
      "outputs": [
        {
          "output_type": "stream",
          "name": "stdout",
          "text": [
            "drive  sample_data\n"
          ]
        }
      ]
    },
    {
      "cell_type": "code",
      "source": [
        "from google.colab import drive\n",
        "drive.mount('/content/drive')"
      ],
      "metadata": {
        "colab": {
          "base_uri": "https://localhost:8080/"
        },
        "id": "yhWl6uu-Gvbv",
        "outputId": "092db7b9-e3e7-4b46-e6b4-374466a428c1"
      },
      "execution_count": 148,
      "outputs": [
        {
          "output_type": "stream",
          "name": "stdout",
          "text": [
            "Drive already mounted at /content/drive; to attempt to forcibly remount, call drive.mount(\"/content/drive\", force_remount=True).\n"
          ]
        }
      ]
    },
    {
      "cell_type": "code",
      "source": [
        "!ls /content/drive/MyDrive/dmt-data"
      ],
      "metadata": {
        "colab": {
          "base_uri": "https://localhost:8080/"
        },
        "id": "7Gw-7ZVcJCmb",
        "outputId": "51b1fb58-afc8-447a-f987-bd2184cac0b8"
      },
      "execution_count": 149,
      "outputs": [
        {
          "output_type": "stream",
          "name": "stdout",
          "text": [
            "DMT.csv  ODI-2023.xlsx\n"
          ]
        }
      ]
    },
    {
      "cell_type": "code",
      "source": [
        "import os\n",
        "\n",
        "\n",
        "# Change the working directory to the desired folder\n",
        "os.chdir('/content/drive/MyDrive/dmt-data')\n",
        "\n",
        "# List the contents of the current working directory\n",
        "contents = os.listdir()\n",
        "\n",
        "# Print the contents\n",
        "print(contents)\n",
        "\n"
      ],
      "metadata": {
        "colab": {
          "base_uri": "https://localhost:8080/"
        },
        "id": "E33ZtRRPJRqI",
        "outputId": "c8266c88-03b2-44a1-bb8a-1feaab003dd5"
      },
      "execution_count": 150,
      "outputs": [
        {
          "output_type": "stream",
          "name": "stdout",
          "text": [
            "['ODI-2023.xlsx', 'DMT.csv']\n"
          ]
        }
      ]
    },
    {
      "cell_type": "markdown",
      "source": [
        "# EDA with excel"
      ],
      "metadata": {
        "id": "ugsNuFZ5B5uA"
      }
    },
    {
      "cell_type": "code",
      "source": [
        "import pandas as pd\n",
        "\n",
        "# Read in the Excel file\n",
        "data_df = pd.read_excel('ODI-2023.xlsx')\n",
        "\n",
        "# Create a copy of the DataFrame\n",
        "df_cp = data_df.copy()\n",
        "\n",
        "# Get the shape of the DataFrame\n",
        "print(df_cp.shape)\n",
        "\n"
      ],
      "metadata": {
        "colab": {
          "base_uri": "https://localhost:8080/"
        },
        "id": "Klngx3_AET2R",
        "outputId": "1ed30648-d7a4-4094-895d-7e535fa4b801"
      },
      "execution_count": 151,
      "outputs": [
        {
          "output_type": "stream",
          "name": "stdout",
          "text": [
            "(305, 17)\n"
          ]
        }
      ]
    },
    {
      "cell_type": "code",
      "source": [
        "\n",
        "df_cp.head(20)\n"
      ],
      "metadata": {
        "id": "45B__pFJHsPA"
      },
      "execution_count": null,
      "outputs": []
    },
    {
      "cell_type": "markdown",
      "source": [
        "# Explore Colums"
      ],
      "metadata": {
        "id": "9hQkjLdLI_jI"
      }
    },
    {
      "cell_type": "code",
      "source": [
        "df_cp.columns\n"
      ],
      "metadata": {
        "id": "ZMpthw8SJLd_"
      },
      "execution_count": null,
      "outputs": []
    },
    {
      "cell_type": "code",
      "source": [
        "df_cp.dtypes\n"
      ],
      "metadata": {
        "id": "5IxXX6lVJg6A"
      },
      "execution_count": null,
      "outputs": []
    },
    {
      "cell_type": "code",
      "source": [
        "df_cp.describe()"
      ],
      "metadata": {
        "id": "cCUOIWfNJ0Am"
      },
      "execution_count": null,
      "outputs": []
    },
    {
      "cell_type": "code",
      "source": [
        "# check null and isNaN values if any\n",
        "print(df_cp.columns.isna().sum())\n",
        "print(df_cp.columns.isnull().sum())"
      ],
      "metadata": {
        "colab": {
          "base_uri": "https://localhost:8080/"
        },
        "id": "IxCpeRfTL7jO",
        "outputId": "6eb98230-31ff-40c0-9a04-72b3be643e70"
      },
      "execution_count": 156,
      "outputs": [
        {
          "output_type": "stream",
          "name": "stdout",
          "text": [
            "0\n",
            "0\n"
          ]
        }
      ]
    },
    {
      "cell_type": "code",
      "source": [
        "df_cp.to_csv('DMT.csv',index =False, sep=',', header=True)\n",
        "# Print the first few rows of the DataFrame\n",
        "df_csv = pd.read_csv('DMT.csv')\n",
        "#print(df_csv.columns)\n",
        "print(df_csv[['What is your gender?']].head(2))\n",
        "\n"
      ],
      "metadata": {
        "colab": {
          "base_uri": "https://localhost:8080/"
        },
        "id": "5_gewnh-N3cE",
        "outputId": "ddfa79cc-8ddc-4281-ce36-586cbccf7f2d"
      },
      "execution_count": 157,
      "outputs": [
        {
          "output_type": "stream",
          "name": "stdout",
          "text": [
            "  What is your gender?\n",
            "0         gender fluid\n",
            "1                 male\n"
          ]
        }
      ]
    },
    {
      "cell_type": "markdown",
      "source": [
        "#check original rows of data comment the ones not important and convert object type to specific data types"
      ],
      "metadata": {
        "id": "szbB9_Nvutvy"
      }
    },
    {
      "cell_type": "markdown",
      "source": [],
      "metadata": {
        "id": "0hvpcpj1ZnCn"
      }
    },
    {
      "cell_type": "code",
      "source": [
        "print(df_cp.shape)\n",
        "# original data set has 305 rows and 17 colums\n"
      ],
      "metadata": {
        "colab": {
          "base_uri": "https://localhost:8080/"
        },
        "id": "_iUeVzjivPG2",
        "outputId": "fbe0720a-cf72-4cfa-902e-f3e6e58f808d"
      },
      "execution_count": 158,
      "outputs": [
        {
          "output_type": "stream",
          "name": "stdout",
          "text": [
            "(305, 17)\n"
          ]
        }
      ]
    },
    {
      "cell_type": "code",
      "source": [
        "print(df_cp.columns)"
      ],
      "metadata": {
        "id": "f3t2oeV-yH4D"
      },
      "execution_count": null,
      "outputs": []
    },
    {
      "cell_type": "markdown",
      "source": [
        "# Create a Table with Gender and if they used ChatGPT or NOT?"
      ],
      "metadata": {
        "id": "cM9sWXA7ecWk"
      }
    },
    {
      "cell_type": "code",
      "source": [
        "df_csv_ver1 =df_csv[[#'Tijdstempel', \n",
        "        #'What programme are you in?',\n",
        "       #'Have you taken a course on machine learning?',\n",
        "       #'Have you taken a course on information retrieval?',\n",
        "       #'Have you taken a course on statistics?',\n",
        "       #'Have you taken a course on databases?', \n",
        "        'What is your gender?',\n",
        "       'I have used ChatGPT to help me with some of my study assignments ',\n",
        "      # 'When is your birthday (date)?',\n",
        "       #'How many students do you estimate there are in the room?',\n",
        "       #'Did you stand up to come to your previous answer    ?',\n",
        "       #'What is your stress level (0-100)?',\n",
        "       #'How many hours per week do you do sports (in whole hours)? ',\n",
        "       #'Give a random number', \n",
        "        #'Time you went to bed Yesterday',\n",
        "       #'What makes a good day for you (1)?',\n",
        "       #'What makes a good day for you (2)?'\n",
        "       ]].iloc[:, :17]"
      ],
      "metadata": {
        "id": "s1c2gdijvztk"
      },
      "execution_count": 160,
      "outputs": []
    },
    {
      "cell_type": "code",
      "source": [
        "df_csv_ver1.shape"
      ],
      "metadata": {
        "colab": {
          "base_uri": "https://localhost:8080/"
        },
        "id": "954DpJXl1sDP",
        "outputId": "c7858cbb-9f7a-4365-9430-17fcf165bcbf"
      },
      "execution_count": 161,
      "outputs": [
        {
          "output_type": "execute_result",
          "data": {
            "text/plain": [
              "(305, 2)"
            ]
          },
          "metadata": {},
          "execution_count": 161
        }
      ]
    },
    {
      "cell_type": "markdown",
      "source": [
        "# Create a new table with data for students who took IR,Stats,ML before\n",
        "\n",
        "\n"
      ],
      "metadata": {
        "id": "wONeSDN6erZd"
      }
    },
    {
      "cell_type": "markdown",
      "source": [],
      "metadata": {
        "id": "0DqM6Py-1XRV"
      }
    },
    {
      "cell_type": "code",
      "source": [
        "from sklearn.preprocessing import LabelEncoder\n",
        "df_csv_ver2 =df_csv[[ 'What programme are you in?',\n",
        "       'Have you taken a course on machine learning?',\n",
        "       'Have you taken a course on information retrieval?',\n",
        "       'Have you taken a course on statistics?',\n",
        "       'Have you taken a course on databases?', \n",
        "        #'What is your gender?',\n",
        "       #'I have used ChatGPT to help me with some of my study assignments ',\n",
        "      # 'When is your birthday (date)?',\n",
        "       #'How many students do you estimate there are in the room?',\n",
        "       #'Did you stand up to come to your previous answer    ?',\n",
        "       #'What is your stress level (0-100)?',\n",
        "       #'How many hours per week do you do sports (in whole hours)? ',\n",
        "       #'Give a random number', \n",
        "        #'Time you went to bed Yesterday',\n",
        "       #'What makes a good day for you (1)?',\n",
        "       #'What makes a good day for you (2)?'\n",
        "       ]].iloc[:, :17]\n",
        "df_csv_ver2.shape\n",
        "#Remane the columns to a smaller name\n",
        "df_csv_ver2 = df_csv_ver2.rename(columns={'What programme are you in?': 'Study Track','Have you taken a course on machine learning?':'taken ML before?'})\n",
        "df_csv_ver2 = df_csv_ver2.rename(columns={'Have you taken a course on information retrieval?': 'taken IR before?','Have you taken a course on statistics?':'taken Statistics before?','Have you taken a course on databases?':'taken DB before?'})\n",
        "df_csv_ver2\n",
        "\n",
        "# Define the valid study tracks\n",
        "study_tracks = ['Business Analytics','Bioinformatics','Bioinformatics & Systems Biology','Econometrics','Artificial Intelligence', 'AI', 'Masters - AI','M.S. Artificial Intelligence','Computational Science','BA','Econometrics and Data Science','CS']\n",
        "\n",
        "# Convert all study tracks in the list to lowercase\n",
        "study_tracks_lower = [s.lower() for s in study_tracks]\n",
        "\n",
        "# Iterate over each row in the dataframe\n",
        "for index, row in df_csv_ver2.iterrows():\n",
        "    # Convert the study track to lowercase\n",
        "    study_track_lower = str(row['Study Track']).lower()\n",
        "    \n",
        "    # If the study track is not in the list, mark it as NaN\n",
        "    if study_track_lower not in study_tracks_lower:\n",
        "        df_csv_ver2.loc[index, 'Study Track'] = np.nan\n",
        "\n",
        "df_csv_ver2\n",
        "#check how many we lose by having Nan\n",
        "df_csv_ver2['Study Track'].isna().value_counts()\n",
        "#after cleaningf study track we have 136 data of students in different tracks.\n",
        "#So drop all other row in the csv for other tracks which are NaN\n",
        "df_csv_ver2.dropna(inplace=True)\n",
        "df_csv_ver2['Study Track'].isna().value_counts()\n",
        "df_csv_ver2\n",
        "# Replace \"unknown\" with 0 in 'taken IR before?' column\n",
        "df_csv_ver2['taken IR before?'] = df_csv_ver2['taken IR before?'].replace('unknown', 0)\n",
        "# Replace \"unknown\" with \"sigma\" in 'taken Statistics before?' column\n",
        "df_csv_ver2['taken Statistics before?'] = df_csv_ver2['taken Statistics before?'].replace('unknown', 'sigma')\n",
        "#Apply LabelEncoding values 1=yes,mu and ja AND 0 = no,sigma,nee\n",
        "le = LabelEncoder()\n",
        "# Encode the 'yes' and 'no' values in the 'taken IR before?' column as binary 1 and 0, respectively\n",
        "df_csv_ver2['taken ML before?'] = le.fit_transform(df_csv_ver2['taken ML before?'])\n",
        "df_csv_ver2['taken Statistics before?'] = le.fit_transform(df_csv_ver2['taken Statistics before?'])\n",
        "df_csv_ver2['taken DB before?'] = le.fit_transform(df_csv_ver2['taken DB before?'])\n",
        "#check after cleaning\n",
        "df_csv_ver2\n",
        "\n"
      ],
      "metadata": {
        "id": "1JXcqshM1bPf"
      },
      "execution_count": null,
      "outputs": []
    },
    {
      "cell_type": "markdown",
      "source": [
        "# Count of  Each Track and the Courses taken"
      ],
      "metadata": {
        "id": "Lil6uGYSJt8q"
      }
    },
    {
      "cell_type": "code",
      "source": [
        "#Get a count of ML,IR,Statistics and DB for each study track\n",
        "# Group the dataframe by study track\n",
        "grouped = df_csv_ver2.groupby('Study Track')\n",
        "\n",
        "# Get the counts for each column within each group\n",
        "counts = grouped[['taken ML before?', 'taken IR before?', 'taken Statistics before?', 'taken DB before?']].sum()\n",
        "\n",
        "# Rename the columns to reflect the count of 'yes' responses\n",
        "counts = counts.rename(columns={\n",
        "    'taken ML before?': 'ML Count',\n",
        "    'taken IR before?': 'IR Count',\n",
        "    'taken Statistics before?': 'Statistics Count',\n",
        "    'taken DB before?': 'DB Count'\n",
        "})\n",
        "\n",
        "# Add a column for the total number of respondents in each group\n",
        "counts['Total'] = grouped.size()\n",
        "\n",
        "# Sort the dataframe by total number of respondents\n",
        "counts = counts.sort_values('Total', ascending=False)\n",
        "\n",
        "# Print the resulting dataframe\n",
        "print(counts)\n"
      ],
      "metadata": {
        "id": "ucQA6LobLEmw"
      },
      "execution_count": null,
      "outputs": []
    },
    {
      "cell_type": "markdown",
      "source": [
        "# Find the Percentage of each track who took either ML,IR,Statistics or DB"
      ],
      "metadata": {
        "id": "pwIulrUWMvjm"
      }
    },
    {
      "cell_type": "code",
      "source": [
        "import pandas as pd\n",
        "\n",
        "# create dataframe from the data\n",
        "data = {'Study Track': ['AI', 'BA', 'CS', 'Bioinformatics', 'Business Analytics', 'Artificial Intelligence',\n",
        "                        'Econometrics', 'Computational Science', 'Econometrics and Data Science',\n",
        "                        'Computational science', 'bioinformatics & systems biology', 'bioinformatics',\n",
        "                        'Masters - AI', 'M.S. Artificial Intelligence', 'Artificial intelligence', 'Ai',\n",
        "                        'Business analytics', 'Bioinformatics & Systems biology', 'Bioinformatics & Systems Biology',\n",
        "                        'computational science'],\n",
        "        'ML Count': [32, 19, 11, 11, 11, 7, 4, 5, 2, 2, 1, 1, 1, 1, 0, 0, 1, 1, 1, 0],\n",
        "        'Statistics Count': [5, 0, 5, 2, 0, 1, 1, 1, 0, 0, 0, 0, 0, 0, 0, 0, 0, 0, 0, 0],\n",
        "        'DB Count': [16, 4, 2, 7, 2, 6, 8, 8, 1, 1, 1, 1, 1, 0, 0, 1, 0, 0, 1, 1],\n",
        "        'Total': [43, 19, 16, 12, 11, 11, 11, 10, 3, 2, 1, 1, 1, 1, 1, 1, 1, 1, 1, 1]}\n",
        "\n",
        "df = pd.DataFrame(data)\n",
        "\n",
        "# calculate the percentage of each course for each study track\n",
        "df['ML %'] = (df['ML Count'] / df['Total']) * 100\n",
        "df['IR %'] = (df['Statistics Count'] / df['Total']) * 100\n",
        "df['DB %'] = (df['DB Count'] / df['Total']) * 100\n",
        "df['Statistics %'] = (df['IR %'] + df['DB %'])  # calculate the percentage of Statistics\n",
        "\n",
        "# print the resulting dataframe\n",
        "print(df[['Study Track', 'ML %', 'IR %', 'DB %', 'Statistics %']])\n"
      ],
      "metadata": {
        "id": "7S2b14HKM1Mf"
      },
      "execution_count": null,
      "outputs": []
    },
    {
      "cell_type": "markdown",
      "source": [
        "# Plot a graph to show if students from different tracks took which courses before - IR,ML,Statistics or DB  "
      ],
      "metadata": {
        "id": "vOl3sPasE9Yo"
      }
    },
    {
      "cell_type": "code",
      "source": [
        "import matplotlib.pyplot as plt\n",
        "import numpy as np\n",
        "\n",
        "# Data\n",
        "labels = ['AI', 'BA', 'CS', 'Bioinformatics', 'Business Analytics', 'Artificial Intelligence', 'Econometrics', 'Computational Science', 'Econometrics and Data Science']\n",
        "ml = [32, 19, 11, 11, 11, 7, 4, 5, 2]\n",
        "ir = [5, 0, 5, 2, 0, 1, 1, 1, 0]\n",
        "stats = [16, 4, 2, 7, 2, 6, 8, 8, 1]\n",
        "db = [43, 19, 16, 12, 11, 11, 11, 10, 3]\n",
        "\n",
        "# Plot\n",
        "fig, ax = plt.subplots(figsize=(10, 6))\n",
        "x = np.arange(len(labels))\n",
        "ax.bar(x, ml, label='Machine Learning', color='#1f77b4')\n",
        "ax.bar(x, ir, bottom=ml, label='Information Retrieval', color='#ff7f0e')\n",
        "ax.bar(x, stats, bottom=np.add(ml, ir), label='Statistics', color='#2ca02c')\n",
        "ax.bar(x, db, bottom=np.add(np.add(ml, ir), stats), label='Databases', color='#d62728')\n",
        "\n",
        "# Customize plot\n",
        "ax.set_xticks(x)\n",
        "ax.set_xticklabels(labels, rotation=90)\n",
        "ax.set_ylabel('Count')\n",
        "ax.set_title('Course history by study track')\n",
        "ax.legend()\n",
        "\n",
        "plt.show()\n"
      ],
      "metadata": {
        "id": "_yIaHthULho9"
      },
      "execution_count": null,
      "outputs": []
    },
    {
      "cell_type": "code",
      "source": [],
      "metadata": {
        "id": "bj_LpMT8QENE"
      },
      "execution_count": 165,
      "outputs": []
    },
    {
      "cell_type": "markdown",
      "source": [
        "#Drop Rows which are not Male or Female"
      ],
      "metadata": {
        "id": "yfg-Pqc3pWrA"
      }
    },
    {
      "cell_type": "code",
      "source": [
        "#Original count of rows and columns are - 305 row and 2 columns\n",
        "df_csv_ver1.shape\n",
        "#check values of Gender if there are Male or Female or anything else\n",
        "df_csv_ver1['What is your gender?'].value_counts()\n",
        "# if the values are not male or female convert them to NaN\n",
        "mask = ~ df_csv_ver1['What is your gender?'].isin(['male', 'female'])\n",
        "df_csv_ver1['What is your gender?'].value_counts()\n",
        "df_csv_ver1\n"
      ],
      "metadata": {
        "id": "tYp6CKLppdQb"
      },
      "execution_count": null,
      "outputs": []
    },
    {
      "cell_type": "code",
      "source": [
        "import numpy as np\n",
        "df_csv_ver1.loc[mask, 'What is your gender?'] = np.nan\n",
        "df_csv_ver1['What is your gender?'].value_counts()\n",
        "df_csv_ver1\n",
        "# drop the NaN row values \n",
        "df_csv_ver1.dropna(inplace=True)\n",
        "df_csv_ver1\n"
      ],
      "metadata": {
        "id": "rWNIzDFlxMBK"
      },
      "execution_count": null,
      "outputs": []
    },
    {
      "cell_type": "markdown",
      "source": [
        "# Plot a graph with the above value"
      ],
      "metadata": {
        "id": "96ao_WdMyXub"
      }
    },
    {
      "cell_type": "code",
      "source": [
        "import matplotlib.pyplot as plt\n",
        "df_csv_ver1['What is your gender?'].value_counts()\n"
      ],
      "metadata": {
        "colab": {
          "base_uri": "https://localhost:8080/"
        },
        "id": "rzYbAAuxybxc",
        "outputId": "4f620d61-65d8-484a-fe78-32cd67320e4c"
      },
      "execution_count": 168,
      "outputs": [
        {
          "output_type": "execute_result",
          "data": {
            "text/plain": [
              "male      154\n",
              "female    134\n",
              "Name: What is your gender?, dtype: int64"
            ]
          },
          "metadata": {},
          "execution_count": 168
        }
      ]
    },
    {
      "cell_type": "code",
      "source": [
        "from sklearn.preprocessing import LabelEncoder\n",
        "df_csv_ver1.shape\n",
        "df_csv_ver1\n",
        "#Convert categorial to numeric values\n",
        "le = LabelEncoder()\n",
        "df_csv_ver1['What is your gender?'] = le.fit_transform(df_csv_ver1['What is your gender?'])\n",
        "#df_csv_ver1['I have used ChatGPT to help me with some of my study assignments '] = le.fit_transform(df_csv_ver1['I have used ChatGPT to help me with some of my study assignments '])\n",
        "# Rename the column since its too long \n",
        "df_csv_ver1 = df_csv_ver1.rename(columns={'I have used ChatGPT to help me with some of my study assignments ': 'Used ChatGPT?'})\n",
        "\n",
        "df_csv_ver1\n",
        "\n"
      ],
      "metadata": {
        "id": "jCx2T7lx1SBe"
      },
      "execution_count": null,
      "outputs": []
    },
    {
      "cell_type": "code",
      "source": [
        "\n",
        "# group the data by gender and the 3 types of answers\n",
        "df_grouped = df_csv_ver1.groupby(['What is your gender?', 'Used ChatGPT?']).size().reset_index(name='Count')\n",
        "\n",
        "# create a pie chart for male and female answers\n",
        "fig, ax = plt.subplots(nrows=1, ncols=2, figsize=(10, 5))\n",
        "colors = ['#1f77b4', '#ff7f0e', '#2ca02c']\n",
        "\n",
        "df_male = df_grouped[df_grouped['What is your gender?'] == 0]\n",
        "df_female = df_grouped[df_grouped['What is your gender?'] == 1]\n",
        "\n",
        "ax[0].pie(df_male['Count'], labels=df_male['Used ChatGPT?'], colors=colors, autopct='%1.1f%%')\n",
        "ax[0].set_title('Male Responses')\n",
        "\n",
        "ax[1].pie(df_female['Count'], labels=df_female['Used ChatGPT?'], colors=colors, autopct='%1.1f%%')\n",
        "ax[1].set_title('Female Responses')\n",
        "\n",
        "fig.suptitle('Percentages of Male and Female Responses by Answer Type')\n",
        "\n",
        "plt.show()\n"
      ],
      "metadata": {
        "id": "TwWsW9Q4BykR"
      },
      "execution_count": null,
      "outputs": []
    },
    {
      "cell_type": "markdown",
      "source": [
        "# Grouped Bar Plot for Male and Female answers if they used ChatGPT"
      ],
      "metadata": {
        "id": "FXK7Vs4weBvS"
      }
    },
    {
      "cell_type": "code",
      "source": [
        "df_male = df_csv_ver1[df_csv_ver1['What is your gender?'] == 1]\n",
        "df_female = df_csv_ver1[df_csv_ver1['What is your gender?'] == 0]\n",
        "\n",
        "male_yes = df_male[df_male['Used ChatGPT?'] == 'yes']['Used ChatGPT?'].count()\n",
        "male_no = df_male[df_male['Used ChatGPT?'] == 'no']['Used ChatGPT?'].count()\n",
        "male_not_say = df_male[df_male['Used ChatGPT?'] == 'not willing to say']['Used ChatGPT?'].count()\n",
        "\n",
        "female_yes = df_female[df_female['Used ChatGPT?'] == 'yes']['Used ChatGPT?'].count()\n",
        "female_no = df_female[df_female['Used ChatGPT?'] == 'no']['Used ChatGPT?'].count()\n",
        "female_not_say = df_female[df_female['Used ChatGPT?'] == 'not willing to say']['Used ChatGPT?'].count()\n",
        "\n",
        "# Set up the data for the bar plot\n",
        "answer_types = ['Yes', 'No', 'Not willing to say']\n",
        "male_values = [male_yes, male_no, male_not_say]\n",
        "female_values = [female_yes, female_no, female_not_say]\n",
        "x = np.arange(len(answer_types))\n",
        "bar_width = 0.35\n",
        "\n",
        "# Create the grouped bar plot\n",
        "fig, ax = plt.subplots()\n",
        "rects1 = ax.bar(x - bar_width/2, male_values, bar_width, label='Male')\n",
        "rects2 = ax.bar(x + bar_width/2, female_values, bar_width, label='Female')\n",
        "\n",
        "# Add some text for labels, title and axes ticks\n",
        "ax.set_xlabel('Answer Type')\n",
        "ax.set_ylabel('Count by Gender Type')\n",
        "ax.set_title('Used ChatGPT? by Gender')\n",
        "ax.set_xticks(x)\n",
        "ax.set_xticklabels(answer_types)\n",
        "ax.legend()\n",
        "\n",
        "# Display the plot\n",
        "plt.show()"
      ],
      "metadata": {
        "id": "yaNvCX4NgheR"
      },
      "execution_count": null,
      "outputs": []
    }
  ]
}