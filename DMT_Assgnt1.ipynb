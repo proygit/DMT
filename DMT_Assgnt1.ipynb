{
  "nbformat": 4,
  "nbformat_minor": 0,
  "metadata": {
    "colab": {
      "provenance": [],
      "authorship_tag": "ABX9TyNMfYDTVBDMhN+RZxoCH7eQ",
      "include_colab_link": true
    },
    "kernelspec": {
      "name": "python3",
      "display_name": "Python 3"
    },
    "language_info": {
      "name": "python"
    }
  },
  "cells": [
    {
      "cell_type": "markdown",
      "metadata": {
        "id": "view-in-github",
        "colab_type": "text"
      },
      "source": [
        "<a href=\"https://colab.research.google.com/github/proygit/DMT/blob/main/DMT_Assgnt1.ipynb\" target=\"_parent\"><img src=\"https://colab.research.google.com/assets/colab-badge.svg\" alt=\"Open In Colab\"/></a>"
      ]
    },
    {
      "cell_type": "markdown",
      "source": [
        "# Change directories and load sample data"
      ],
      "metadata": {
        "id": "gpH7ph7rBbAc"
      }
    },
    {
      "cell_type": "code",
      "source": [
        "!ls /content\n"
      ],
      "metadata": {
        "colab": {
          "base_uri": "https://localhost:8080/"
        },
        "id": "vwel8n4IH5gW",
        "outputId": "9694fdbd-cdb9-4c22-81b3-31cc042a11d5"
      },
      "execution_count": 1,
      "outputs": [
        {
          "output_type": "stream",
          "name": "stdout",
          "text": [
            "sample_data\n"
          ]
        }
      ]
    },
    {
      "cell_type": "code",
      "source": [
        "from google.colab import drive\n",
        "drive.mount('/content/drive')"
      ],
      "metadata": {
        "colab": {
          "base_uri": "https://localhost:8080/"
        },
        "id": "yhWl6uu-Gvbv",
        "outputId": "d09232fb-2b48-427e-ead0-82ec8a3e1208"
      },
      "execution_count": 2,
      "outputs": [
        {
          "output_type": "stream",
          "name": "stdout",
          "text": [
            "Mounted at /content/drive\n"
          ]
        }
      ]
    },
    {
      "cell_type": "code",
      "source": [
        "!ls /content/drive/MyDrive/dmt-data"
      ],
      "metadata": {
        "colab": {
          "base_uri": "https://localhost:8080/"
        },
        "id": "7Gw-7ZVcJCmb",
        "outputId": "4e57985d-354e-432c-ddde-d13faa55f2a1"
      },
      "execution_count": 3,
      "outputs": [
        {
          "output_type": "stream",
          "name": "stdout",
          "text": [
            "DMT.csv  ODI-2023.xlsx\n"
          ]
        }
      ]
    },
    {
      "cell_type": "code",
      "source": [
        "import os\n",
        "\n",
        "\n",
        "# Change the working directory to the desired folder\n",
        "os.chdir('/content/drive/MyDrive/dmt-data')\n",
        "\n",
        "# List the contents of the current working directory\n",
        "contents = os.listdir()\n",
        "\n",
        "# Print the contents\n",
        "print(contents)\n",
        "\n"
      ],
      "metadata": {
        "colab": {
          "base_uri": "https://localhost:8080/"
        },
        "id": "E33ZtRRPJRqI",
        "outputId": "da41b734-7261-4120-89b2-ce21d79f1177"
      },
      "execution_count": 4,
      "outputs": [
        {
          "output_type": "stream",
          "name": "stdout",
          "text": [
            "['ODI-2023.xlsx', 'DMT.csv']\n"
          ]
        }
      ]
    },
    {
      "cell_type": "markdown",
      "source": [
        "# EDA with excel"
      ],
      "metadata": {
        "id": "ugsNuFZ5B5uA"
      }
    },
    {
      "cell_type": "code",
      "source": [
        "import pandas as pd\n",
        "\n",
        "# Read in the Excel file\n",
        "data_df = pd.read_excel('ODI-2023.xlsx')\n",
        "\n",
        "# Create a copy of the DataFrame\n",
        "df_cp = data_df.copy()\n",
        "\n",
        "# Get the shape of the DataFrame\n",
        "print(df_cp.shape)\n",
        "\n"
      ],
      "metadata": {
        "colab": {
          "base_uri": "https://localhost:8080/"
        },
        "id": "Klngx3_AET2R",
        "outputId": "26c5071b-2935-4973-8dd2-c506e99e594d"
      },
      "execution_count": 5,
      "outputs": [
        {
          "output_type": "stream",
          "name": "stdout",
          "text": [
            "(305, 17)\n"
          ]
        }
      ]
    },
    {
      "cell_type": "code",
      "source": [
        "\n",
        "df_cp.head(20)\n"
      ],
      "metadata": {
        "id": "45B__pFJHsPA"
      },
      "execution_count": null,
      "outputs": []
    },
    {
      "cell_type": "markdown",
      "source": [
        "# Explore Colums"
      ],
      "metadata": {
        "id": "9hQkjLdLI_jI"
      }
    },
    {
      "cell_type": "code",
      "source": [
        "df_cp.columns\n"
      ],
      "metadata": {
        "id": "ZMpthw8SJLd_"
      },
      "execution_count": null,
      "outputs": []
    },
    {
      "cell_type": "code",
      "source": [
        "df_cp.dtypes\n"
      ],
      "metadata": {
        "id": "5IxXX6lVJg6A"
      },
      "execution_count": null,
      "outputs": []
    },
    {
      "cell_type": "code",
      "source": [
        "df_cp.describe()"
      ],
      "metadata": {
        "id": "cCUOIWfNJ0Am"
      },
      "execution_count": null,
      "outputs": []
    },
    {
      "cell_type": "code",
      "source": [
        "# check null and isNaN values if any\n",
        "print(df_cp.columns.isna().sum())\n",
        "print(df_cp.columns.isnull().sum())"
      ],
      "metadata": {
        "colab": {
          "base_uri": "https://localhost:8080/"
        },
        "id": "IxCpeRfTL7jO",
        "outputId": "9317bbac-9464-43c2-9d4d-75f29900e2af"
      },
      "execution_count": 10,
      "outputs": [
        {
          "output_type": "stream",
          "name": "stdout",
          "text": [
            "0\n",
            "0\n"
          ]
        }
      ]
    },
    {
      "cell_type": "code",
      "source": [
        "df_cp.to_csv('DMT.csv',index =False, sep=',', header=True)\n",
        "# Print the first few rows of the DataFrame\n",
        "df_csv = pd.read_csv('DMT.csv')\n",
        "#print(df_csv.columns)\n",
        "print(df_csv[['What is your gender?']].head(2))\n",
        "\n"
      ],
      "metadata": {
        "id": "5_gewnh-N3cE"
      },
      "execution_count": null,
      "outputs": []
    },
    {
      "cell_type": "markdown",
      "source": [
        "#check original rows of data comment the ones not important and convert object type to specific data types"
      ],
      "metadata": {
        "id": "szbB9_Nvutvy"
      }
    },
    {
      "cell_type": "markdown",
      "source": [],
      "metadata": {
        "id": "0hvpcpj1ZnCn"
      }
    },
    {
      "cell_type": "code",
      "source": [
        "print(df_cp.shape)\n",
        "# original data set has 305 rows and 17 colums\n"
      ],
      "metadata": {
        "colab": {
          "base_uri": "https://localhost:8080/"
        },
        "id": "_iUeVzjivPG2",
        "outputId": "9a1e3249-1b2d-4e32-a8b0-6e2ba6f2160f"
      },
      "execution_count": 12,
      "outputs": [
        {
          "output_type": "stream",
          "name": "stdout",
          "text": [
            "(305, 17)\n"
          ]
        }
      ]
    },
    {
      "cell_type": "code",
      "source": [
        "print(df_cp.columns)"
      ],
      "metadata": {
        "id": "f3t2oeV-yH4D"
      },
      "execution_count": null,
      "outputs": []
    },
    {
      "cell_type": "code",
      "source": [
        "df_csv_ver1 =df_csv[[#'Tijdstempel', \n",
        "        #'What programme are you in?',\n",
        "       #'Have you taken a course on machine learning?',\n",
        "       #'Have you taken a course on information retrieval?',\n",
        "       #'Have you taken a course on statistics?',\n",
        "       #'Have you taken a course on databases?', \n",
        "        'What is your gender?',\n",
        "       'I have used ChatGPT to help me with some of my study assignments ',\n",
        "      # 'When is your birthday (date)?',\n",
        "       #'How many students do you estimate there are in the room?',\n",
        "       #'Did you stand up to come to your previous answer    ?',\n",
        "       #'What is your stress level (0-100)?',\n",
        "       #'How many hours per week do you do sports (in whole hours)? ',\n",
        "       #'Give a random number', \n",
        "        #'Time you went to bed Yesterday',\n",
        "       #'What makes a good day for you (1)?',\n",
        "       #'What makes a good day for you (2)?'\n",
        "       ]].iloc[:, :17]"
      ],
      "metadata": {
        "id": "s1c2gdijvztk"
      },
      "execution_count": 14,
      "outputs": []
    },
    {
      "cell_type": "code",
      "source": [
        "df_csv_ver1"
      ],
      "metadata": {
        "id": "954DpJXl1sDP"
      },
      "execution_count": null,
      "outputs": []
    },
    {
      "cell_type": "markdown",
      "source": [
        "#Drop Rows which are not Male or Female"
      ],
      "metadata": {
        "id": "yfg-Pqc3pWrA"
      }
    },
    {
      "cell_type": "code",
      "source": [
        "#Original count of rows and columns are - 305 row and 2 columns\n",
        "df_csv_ver1.shape\n",
        "#check values of Gender if there are Male or Female or anything else\n",
        "df_csv_ver1['What is your gender?'].value_counts()\n",
        "# if the values are not male or female convert them to NaN\n",
        "mask = ~ df_csv_ver1['What is your gender?'].isin(['male', 'female'])\n",
        "df_csv_ver1['What is your gender?'].value_counts()\n",
        "df_csv_ver1\n"
      ],
      "metadata": {
        "id": "tYp6CKLppdQb"
      },
      "execution_count": null,
      "outputs": []
    },
    {
      "cell_type": "code",
      "source": [
        "import numpy as np\n",
        "df_csv_ver1.loc[mask, 'What is your gender?'] = np.nan\n",
        "df_csv_ver1['What is your gender?'].value_counts()\n",
        "df_csv_ver1\n",
        "# drop the NaN row values \n",
        "df_csv_ver1.dropna(inplace=True)\n",
        "df_csv_ver1\n"
      ],
      "metadata": {
        "id": "rWNIzDFlxMBK"
      },
      "execution_count": null,
      "outputs": []
    },
    {
      "cell_type": "markdown",
      "source": [
        "# Plot a graph with the above value"
      ],
      "metadata": {
        "id": "96ao_WdMyXub"
      }
    },
    {
      "cell_type": "code",
      "source": [
        "import matplotlib.pyplot as plt\n",
        "df_csv_ver1['What is your gender?'].value_counts()\n"
      ],
      "metadata": {
        "colab": {
          "base_uri": "https://localhost:8080/"
        },
        "id": "rzYbAAuxybxc",
        "outputId": "c37fab1d-0745-4fe6-c952-8a765e18af64"
      },
      "execution_count": 18,
      "outputs": [
        {
          "output_type": "execute_result",
          "data": {
            "text/plain": [
              "male      154\n",
              "female    134\n",
              "Name: What is your gender?, dtype: int64"
            ]
          },
          "metadata": {},
          "execution_count": 18
        }
      ]
    },
    {
      "cell_type": "code",
      "source": [
        "from sklearn.preprocessing import LabelEncoder\n",
        "df_csv_ver1.shape\n",
        "df_csv_ver1\n",
        "#Convert categorial to numeric values\n",
        "le = LabelEncoder()\n",
        "df_csv_ver1['What is your gender?'] = le.fit_transform(df_csv_ver1['What is your gender?'])\n",
        "#df_csv_ver1['I have used ChatGPT to help me with some of my study assignments '] = le.fit_transform(df_csv_ver1['I have used ChatGPT to help me with some of my study assignments '])\n",
        "# Rename the column since its too long \n",
        "df_csv_ver1 = df_csv_ver1.rename(columns={'I have used ChatGPT to help me with some of my study assignments ': 'Used ChatGPT?'})\n",
        "\n",
        "df_csv_ver1\n",
        "\n"
      ],
      "metadata": {
        "id": "jCx2T7lx1SBe"
      },
      "execution_count": null,
      "outputs": []
    },
    {
      "cell_type": "code",
      "source": [
        "\n",
        "# group the data by gender and the 3 types of answers\n",
        "df_grouped = df_csv_ver1.groupby(['What is your gender?', 'Used ChatGPT?']).size().reset_index(name='Count')\n",
        "# create a bar plot\n",
        "fig, ax = plt.subplots(figsize=(8, 6))\n",
        "df_grouped.pivot(index='What is your gender?', columns='Used ChatGPT?', values='Count').plot(kind='bar', ax=ax)\n",
        "\n",
        "# set the title and axis labels\n",
        "ax.set_title('Counts of Male and Female Responses by Answer Type')\n",
        "ax.set_xlabel('Gender')\n",
        "ax.set_ylabel('Count')\n",
        "\n",
        "# Add a legend with the new labels\n",
        "# add legends\n",
        "# add labels for the answers\n",
        "handles, labels = ax.get_legend_handles_labels()\n",
        "labels[0:3] = ['No', 'Yes (for some assignments)', 'Yes (for most assignments)']\n",
        "ax.legend(handles, labels, loc='upper right')\n",
        "ax.legend(['Male', 'Female'], loc='upper left')\n",
        "# show the plot\n",
        "plt.show()"
      ],
      "metadata": {
        "id": "tpGALyWE75cP"
      },
      "execution_count": null,
      "outputs": []
    },
    {
      "cell_type": "code",
      "source": [
        "from matplotlib import pyplot as plt\n",
        "\n",
        "# filter the data frame by gender\n",
        "df_male = df_csv_ver1[df_csv_ver1['What is your gender?'] == 1]\n",
        "df_female = df_csv_ver1[df_csv_ver1['What is your gender?'] == 0]\n",
        "\n",
        "# plot histograms for male and female answers\n",
        "fig, axs = plt.subplots(nrows=2, ncols=1, figsize=(10, 8))\n",
        "axs[0].hist(df_male['Used ChatGPT?'], bins=10)\n",
        "axs[0].set_title('Male Answers')\n",
        "axs[0].set_xlabel('Answer Type')\n",
        "axs[0].set_ylabel('Count')\n",
        "\n",
        "axs[1].hist(df_female['Used ChatGPT?'], bins=10)\n",
        "axs[1].set_title('Female Answers')\n",
        "axs[1].set_xlabel('Answer Type')\n",
        "axs[1].set_ylabel('Count')\n",
        "\n",
        "plt.tight_layout()\n",
        "plt.show()\n"
      ],
      "metadata": {
        "id": "Ckd-vahtAbBB"
      },
      "execution_count": null,
      "outputs": []
    },
    {
      "cell_type": "code",
      "source": [
        "\n",
        "# group the data by gender and the 3 types of answers\n",
        "df_grouped = df_csv_ver1.groupby(['What is your gender?', 'Used ChatGPT?']).size().reset_index(name='Count')\n",
        "\n",
        "# create a histogram for male and female answers\n",
        "fig, ax = plt.subplots(nrows=2, ncols=1, figsize=(8, 10))\n",
        "df_grouped[df_grouped['What is your gender?'] == 0].hist(column='Count', by='Used ChatGPT?', ax=ax[0], bins=5)\n",
        "df_grouped[df_grouped['What is your gender?'] == 1].hist(column='Count', by='Used ChatGPT?', ax=ax[1], bins=5)\n",
        "\n",
        "# set the title and axis labels\n",
        "fig.suptitle('Counts of Male and Female Responses by Answer Type')\n",
        "ax[1].set_xlabel('Count')\n",
        "\n",
        "# Add a legend with the new labels\n",
        "handles, labels = ax[1].get_legend_handles_labels()\n",
        "labels[0:3] = ['No', 'Yes (for some assignments)', 'Yes (for most assignments)']\n",
        "ax[1].legend(handles, labels, loc='upper right')\n",
        "\n",
        "plt.show()"
      ],
      "metadata": {
        "id": "UTpXNcyxBdpy"
      },
      "execution_count": null,
      "outputs": []
    },
    {
      "cell_type": "code",
      "source": [
        "\n",
        "# group the data by gender and the 3 types of answers\n",
        "df_grouped = df_csv_ver1.groupby(['What is your gender?', 'Used ChatGPT?']).size().reset_index(name='Count')\n",
        "\n",
        "# create a pie chart for male and female answers\n",
        "fig, ax = plt.subplots(nrows=1, ncols=2, figsize=(10, 5))\n",
        "colors = ['#1f77b4', '#ff7f0e', '#2ca02c']\n",
        "\n",
        "df_male = df_grouped[df_grouped['What is your gender?'] == 0]\n",
        "df_female = df_grouped[df_grouped['What is your gender?'] == 1]\n",
        "\n",
        "ax[0].pie(df_male['Count'], labels=df_male['Used ChatGPT?'], colors=colors, autopct='%1.1f%%')\n",
        "ax[0].set_title('Male Responses')\n",
        "\n",
        "ax[1].pie(df_female['Count'], labels=df_female['Used ChatGPT?'], colors=colors, autopct='%1.1f%%')\n",
        "ax[1].set_title('Female Responses')\n",
        "\n",
        "fig.suptitle('Percentages of Male and Female Responses by Answer Type')\n",
        "\n",
        "plt.show()\n"
      ],
      "metadata": {
        "colab": {
          "base_uri": "https://localhost:8080/",
          "height": 455
        },
        "id": "TwWsW9Q4BykR",
        "outputId": "0f327ef4-a7eb-4615-bcb7-667707ccfbf9"
      },
      "execution_count": 23,
      "outputs": [
        {
          "output_type": "display_data",
          "data": {
            "text/plain": [
              "<Figure size 1000x500 with 2 Axes>"
            ],
            "image/png": "[encoded data removed]"
          },
          "metadata": {}
        }
      ]
    }
  ]
}